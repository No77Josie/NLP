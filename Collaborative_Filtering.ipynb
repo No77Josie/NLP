{
  "cells": [
    {
      "cell_type": "markdown",
      "source": [
        "# Case 2: Collaborative Filtering via Deep Learning\n",
        "-----\n",
        "\n",
        "In this case, there are two main tasks:\n",
        "\n",
        "- First, you need to build a deep learning model to predict the movie ratings.\n",
        "\n",
        "- Then you will analyze the predicted ratings and provide an estimate of the movie valuation."
      ],
      "metadata": {
        "id": "QIfCyzbWk2Ju"
      }
    },
    {
      "cell_type": "markdown",
      "source": [
        "## Instructions\n",
        "\n",
        "You need to fill in the missing code and submit the following files on Canvas\n",
        "site:\n",
        "\n",
        "1. A report in the pdf format containing the plots and the answers to the questions stated in the provided Jupyter notebook (Please read carefully the notebook and make sure answer every question);\n",
        "\n",
        "2. The complete Jupyter notebook containing all your PyTorch code with explanations, along with\n",
        "a Markdown text explaining different parts if needed."
      ],
      "metadata": {
        "id": "rITytN_mk5cW"
      }
    },
    {
      "cell_type": "markdown",
      "metadata": {
        "id": "tkEE3Ghd9azj"
      },
      "source": [
        "---\n",
        "## Introduction\n",
        "\n",
        "One very common problem to solve is when you have a number of users and a number of products, and you want to recommend which products are most likely to be useful for which users. There are many variations of this: for example, recommending movies (such as on Netflix), figuring out what to highlight for a user on a home page, deciding what stories to show in a social media feed, and so forth. There is a general solution to this problem, called *collaborative filtering*, which works like this: look at what products the current user has used or liked, find other users that have used or liked similar products, and then recommend other products that those users have used or liked.\n",
        "\n",
        "For example, on Netflix you may have watched lots of movies that are science fiction, full of action, and were made in the 1970s. Netflix may not know these particular properties of the films you have watched, but it will be able to see that other people that have watched the same movies that you watched also tended to watch other movies that are science fiction, full of action, and were made in the 1970s. In other words, to use this approach we don't necessarily need to know anything about the movies, except who like to watch them.\n",
        "\n",
        "There is actually a more general class of problems that this approach can solve, not necessarily involving users and products. Indeed, for collaborative filtering we more commonly refer to *items*, rather than *products*. Items could be links that people click on, diagnoses that are selected for patients, and so forth.\n",
        "\n",
        "The key foundational idea is that of *latent factors*. In the Netflix example, we started with the assumption that you like old, action-packed sci-fi movies. But you never actually told Netflix that you like these kinds of movies. And Netflix never actually needed to add columns to its movies table saying which movies are of these types. Still, there must be some underlying concept of sci-fi, action, and movie age, and these concepts must be relevant for at least some people's movie watching decisions.\n",
        "\n"
      ]
    },
    {
      "cell_type": "markdown",
      "source": [
        "---\n",
        "In this case, we'll build an explicit feedback recommender system: that is, a model that takes into account explicit feedback signals (like ratings) to recommend new content. We'll use an approach first made popular by the [Netflix prize](https://en.wikipedia.org/wiki/Netflix_Prize) contest: [matrix factorization](https://datajobs.com/data-science-repo/Recommender-Systems-[Netflix].pdf).\n",
        "\n",
        "The basic idea is very simple:\n",
        "\n",
        "1. Start with user-item-rating triplets, conveying the information that user _i_ gave some item _j_ rating _r_.\n",
        "2. Represent both users and items as high-dimensional vectors of numbers. For example, a user could be represented by `[0.3, -1.2, 0.5]` and an item by `[1.0, -0.3, -0.6]`.\n",
        "3. The representations should be chosen so that, when we multiplied together (via [dot products](https://en.wikipedia.org/wiki/Dot_product)), we can recover the original ratings.\n",
        "4. The utility of the model then is derived from the fact that if we multiply the user vector of a user with the item vector of some item they _have not_ rated, we hope to obtain a predicition for the rating they would have given to it had they seen it.\n",
        "\n",
        "<img src='https://storage.googleapis.com/gweb-cloudblog-publish/images/f1-collab_filtering.max-900x900.png?raw=true' width=50% />"
      ],
      "metadata": {
        "id": "Ov5kAMHECNyW"
      }
    },
    {
      "cell_type": "markdown",
      "metadata": {
        "id": "pK7DyF_ZUUDQ"
      },
      "source": [
        "We do not have access to Netflix's entire dataset of movie watching history, but there is a great dataset that we can use, called [MovieLens](https://grouplens.org/datasets/movielens/). This dataset contains tens of millions of movie rankings (a combination of a movie ID, a user ID, and a numeric rating).\n",
        "\n",
        "We start with importing the [Movielens 1M dataset](https://grouplens.org/datasets/movielens/1M/).  It contains 1,000,209 anonymous ratings of approximately 3,706 movies made by 6,040 MovieLens users who joined MovieLens in 2000."
      ]
    },
    {
      "cell_type": "markdown",
      "metadata": {
        "id": "OeHGO4qbUUC4"
      },
      "source": [
        "## Preparations"
      ]
    },
    {
      "cell_type": "markdown",
      "source": [
        "We first import the packages and download the data."
      ],
      "metadata": {
        "id": "lvWi4dUf1dQx"
      }
    },
    {
      "cell_type": "code",
      "execution_count": 1,
      "metadata": {
        "id": "frj5rX9wUUC_"
      },
      "outputs": [],
      "source": [
        "%matplotlib inline\n",
        "import matplotlib.pyplot as plt\n",
        "import numpy as np\n",
        "import os.path as op\n",
        "import imp\n",
        "import numpy as np\n",
        "\n",
        "from zipfile import ZipFile\n",
        "try:\n",
        "    from urllib.request import urlretrieve\n",
        "except ImportError:  # Python 2 compat\n",
        "    from urllib import urlretrieve\n",
        "\n",
        "# this line need to be changed if not on colab:\n",
        "data_folder = '/content/'\n",
        "\n",
        "\n",
        "ML_1M_URL = \"http://files.grouplens.org/datasets/movielens/ml-1m.zip\"\n",
        "ML_1M_FILENAME = op.join(data_folder,ML_1M_URL.rsplit('/', 1)[1])\n",
        "ML_1M_FOLDER = op.join(data_folder,'ml-1m')"
      ]
    },
    {
      "cell_type": "code",
      "execution_count": 2,
      "metadata": {
        "id": "utzHaMDsV1Bq",
        "colab": {
          "base_uri": "https://localhost:8080/"
        },
        "outputId": "9e1cebe1-c1bb-490b-9e0b-78513ab5ec74"
      },
      "outputs": [
        {
          "output_type": "stream",
          "name": "stdout",
          "text": [
            "Downloading http://files.grouplens.org/datasets/movielens/ml-1m.zip to /content/ml-1m.zip...\n",
            "Extracting /content/ml-1m.zip to /content/ml-1m...\n"
          ]
        }
      ],
      "source": [
        "if not op.exists(ML_1M_FILENAME):\n",
        "    print('Downloading %s to %s...' % (ML_1M_URL, ML_1M_FILENAME))\n",
        "    urlretrieve(ML_1M_URL, ML_1M_FILENAME)\n",
        "\n",
        "if not op.exists(ML_1M_FOLDER):\n",
        "    print('Extracting %s to %s...' % (ML_1M_FILENAME, ML_1M_FOLDER))\n",
        "    ZipFile(ML_1M_FILENAME).extractall(data_folder)"
      ]
    },
    {
      "cell_type": "markdown",
      "source": [
        "There are four different files:\n",
        "\n",
        "- README\n",
        "- movies.dat\n",
        "- ratings.dat\n",
        "- users.dat\n",
        "\n",
        "You may read README to get the description of each dat files."
      ],
      "metadata": {
        "id": "omZ80S7J1voX"
      }
    },
    {
      "cell_type": "markdown",
      "metadata": {
        "id": "hHgLg4jBUUDp"
      },
      "source": [
        "## Data analysis and formating"
      ]
    },
    {
      "cell_type": "markdown",
      "metadata": {
        "id": "ZlGyPSBpUUDt"
      },
      "source": [
        "We start by loading the data with [Python Data Analysis Library](http://pandas.pydata.org/)\n",
        "\n",
        "Note that the columns are separated by :: in the data."
      ]
    },
    {
      "cell_type": "code",
      "execution_count": 3,
      "metadata": {
        "id": "Qk6Vp83IV1Bv",
        "colab": {
          "base_uri": "https://localhost:8080/",
          "height": 206
        },
        "outputId": "d94e147f-d5a4-4ee5-b627-65a71121012f"
      },
      "outputs": [
        {
          "output_type": "execute_result",
          "data": {
            "text/plain": [
              "   user_id  item_id  ratings  timestamp\n",
              "0        1     1193        5  978300760\n",
              "1        1      661        3  978302109\n",
              "2        1      914        3  978301968\n",
              "3        1     3408        4  978300275\n",
              "4        1     2355        5  978824291"
            ],
            "text/html": [
              "\n",
              "  <div id=\"df-b07a911e-9657-40d3-bb2a-a5cc03b9ddef\" class=\"colab-df-container\">\n",
              "    <div>\n",
              "<style scoped>\n",
              "    .dataframe tbody tr th:only-of-type {\n",
              "        vertical-align: middle;\n",
              "    }\n",
              "\n",
              "    .dataframe tbody tr th {\n",
              "        vertical-align: top;\n",
              "    }\n",
              "\n",
              "    .dataframe thead th {\n",
              "        text-align: right;\n",
              "    }\n",
              "</style>\n",
              "<table border=\"1\" class=\"dataframe\">\n",
              "  <thead>\n",
              "    <tr style=\"text-align: right;\">\n",
              "      <th></th>\n",
              "      <th>user_id</th>\n",
              "      <th>item_id</th>\n",
              "      <th>ratings</th>\n",
              "      <th>timestamp</th>\n",
              "    </tr>\n",
              "  </thead>\n",
              "  <tbody>\n",
              "    <tr>\n",
              "      <th>0</th>\n",
              "      <td>1</td>\n",
              "      <td>1193</td>\n",
              "      <td>5</td>\n",
              "      <td>978300760</td>\n",
              "    </tr>\n",
              "    <tr>\n",
              "      <th>1</th>\n",
              "      <td>1</td>\n",
              "      <td>661</td>\n",
              "      <td>3</td>\n",
              "      <td>978302109</td>\n",
              "    </tr>\n",
              "    <tr>\n",
              "      <th>2</th>\n",
              "      <td>1</td>\n",
              "      <td>914</td>\n",
              "      <td>3</td>\n",
              "      <td>978301968</td>\n",
              "    </tr>\n",
              "    <tr>\n",
              "      <th>3</th>\n",
              "      <td>1</td>\n",
              "      <td>3408</td>\n",
              "      <td>4</td>\n",
              "      <td>978300275</td>\n",
              "    </tr>\n",
              "    <tr>\n",
              "      <th>4</th>\n",
              "      <td>1</td>\n",
              "      <td>2355</td>\n",
              "      <td>5</td>\n",
              "      <td>978824291</td>\n",
              "    </tr>\n",
              "  </tbody>\n",
              "</table>\n",
              "</div>\n",
              "    <div class=\"colab-df-buttons\">\n",
              "\n",
              "  <div class=\"colab-df-container\">\n",
              "    <button class=\"colab-df-convert\" onclick=\"convertToInteractive('df-b07a911e-9657-40d3-bb2a-a5cc03b9ddef')\"\n",
              "            title=\"Convert this dataframe to an interactive table.\"\n",
              "            style=\"display:none;\">\n",
              "\n",
              "  <svg xmlns=\"http://www.w3.org/2000/svg\" height=\"24px\" viewBox=\"0 -960 960 960\">\n",
              "    <path d=\"M120-120v-720h720v720H120Zm60-500h600v-160H180v160Zm220 220h160v-160H400v160Zm0 220h160v-160H400v160ZM180-400h160v-160H180v160Zm440 0h160v-160H620v160ZM180-180h160v-160H180v160Zm440 0h160v-160H620v160Z\"/>\n",
              "  </svg>\n",
              "    </button>\n",
              "\n",
              "  <style>\n",
              "    .colab-df-container {\n",
              "      display:flex;\n",
              "      gap: 12px;\n",
              "    }\n",
              "\n",
              "    .colab-df-convert {\n",
              "      background-color: #E8F0FE;\n",
              "      border: none;\n",
              "      border-radius: 50%;\n",
              "      cursor: pointer;\n",
              "      display: none;\n",
              "      fill: #1967D2;\n",
              "      height: 32px;\n",
              "      padding: 0 0 0 0;\n",
              "      width: 32px;\n",
              "    }\n",
              "\n",
              "    .colab-df-convert:hover {\n",
              "      background-color: #E2EBFA;\n",
              "      box-shadow: 0px 1px 2px rgba(60, 64, 67, 0.3), 0px 1px 3px 1px rgba(60, 64, 67, 0.15);\n",
              "      fill: #174EA6;\n",
              "    }\n",
              "\n",
              "    .colab-df-buttons div {\n",
              "      margin-bottom: 4px;\n",
              "    }\n",
              "\n",
              "    [theme=dark] .colab-df-convert {\n",
              "      background-color: #3B4455;\n",
              "      fill: #D2E3FC;\n",
              "    }\n",
              "\n",
              "    [theme=dark] .colab-df-convert:hover {\n",
              "      background-color: #434B5C;\n",
              "      box-shadow: 0px 1px 3px 1px rgba(0, 0, 0, 0.15);\n",
              "      filter: drop-shadow(0px 1px 2px rgba(0, 0, 0, 0.3));\n",
              "      fill: #FFFFFF;\n",
              "    }\n",
              "  </style>\n",
              "\n",
              "    <script>\n",
              "      const buttonEl =\n",
              "        document.querySelector('#df-b07a911e-9657-40d3-bb2a-a5cc03b9ddef button.colab-df-convert');\n",
              "      buttonEl.style.display =\n",
              "        google.colab.kernel.accessAllowed ? 'block' : 'none';\n",
              "\n",
              "      async function convertToInteractive(key) {\n",
              "        const element = document.querySelector('#df-b07a911e-9657-40d3-bb2a-a5cc03b9ddef');\n",
              "        const dataTable =\n",
              "          await google.colab.kernel.invokeFunction('convertToInteractive',\n",
              "                                                    [key], {});\n",
              "        if (!dataTable) return;\n",
              "\n",
              "        const docLinkHtml = 'Like what you see? Visit the ' +\n",
              "          '<a target=\"_blank\" href=https://colab.research.google.com/notebooks/data_table.ipynb>data table notebook</a>'\n",
              "          + ' to learn more about interactive tables.';\n",
              "        element.innerHTML = '';\n",
              "        dataTable['output_type'] = 'display_data';\n",
              "        await google.colab.output.renderOutput(dataTable, element);\n",
              "        const docLink = document.createElement('div');\n",
              "        docLink.innerHTML = docLinkHtml;\n",
              "        element.appendChild(docLink);\n",
              "      }\n",
              "    </script>\n",
              "  </div>\n",
              "\n",
              "\n",
              "<div id=\"df-ed8b1989-f7ed-494b-92d3-36aef9ed3292\">\n",
              "  <button class=\"colab-df-quickchart\" onclick=\"quickchart('df-ed8b1989-f7ed-494b-92d3-36aef9ed3292')\"\n",
              "            title=\"Suggest charts\"\n",
              "            style=\"display:none;\">\n",
              "\n",
              "<svg xmlns=\"http://www.w3.org/2000/svg\" height=\"24px\"viewBox=\"0 0 24 24\"\n",
              "     width=\"24px\">\n",
              "    <g>\n",
              "        <path d=\"M19 3H5c-1.1 0-2 .9-2 2v14c0 1.1.9 2 2 2h14c1.1 0 2-.9 2-2V5c0-1.1-.9-2-2-2zM9 17H7v-7h2v7zm4 0h-2V7h2v10zm4 0h-2v-4h2v4z\"/>\n",
              "    </g>\n",
              "</svg>\n",
              "  </button>\n",
              "\n",
              "<style>\n",
              "  .colab-df-quickchart {\n",
              "      --bg-color: #E8F0FE;\n",
              "      --fill-color: #1967D2;\n",
              "      --hover-bg-color: #E2EBFA;\n",
              "      --hover-fill-color: #174EA6;\n",
              "      --disabled-fill-color: #AAA;\n",
              "      --disabled-bg-color: #DDD;\n",
              "  }\n",
              "\n",
              "  [theme=dark] .colab-df-quickchart {\n",
              "      --bg-color: #3B4455;\n",
              "      --fill-color: #D2E3FC;\n",
              "      --hover-bg-color: #434B5C;\n",
              "      --hover-fill-color: #FFFFFF;\n",
              "      --disabled-bg-color: #3B4455;\n",
              "      --disabled-fill-color: #666;\n",
              "  }\n",
              "\n",
              "  .colab-df-quickchart {\n",
              "    background-color: var(--bg-color);\n",
              "    border: none;\n",
              "    border-radius: 50%;\n",
              "    cursor: pointer;\n",
              "    display: none;\n",
              "    fill: var(--fill-color);\n",
              "    height: 32px;\n",
              "    padding: 0;\n",
              "    width: 32px;\n",
              "  }\n",
              "\n",
              "  .colab-df-quickchart:hover {\n",
              "    background-color: var(--hover-bg-color);\n",
              "    box-shadow: 0 1px 2px rgba(60, 64, 67, 0.3), 0 1px 3px 1px rgba(60, 64, 67, 0.15);\n",
              "    fill: var(--button-hover-fill-color);\n",
              "  }\n",
              "\n",
              "  .colab-df-quickchart-complete:disabled,\n",
              "  .colab-df-quickchart-complete:disabled:hover {\n",
              "    background-color: var(--disabled-bg-color);\n",
              "    fill: var(--disabled-fill-color);\n",
              "    box-shadow: none;\n",
              "  }\n",
              "\n",
              "  .colab-df-spinner {\n",
              "    border: 2px solid var(--fill-color);\n",
              "    border-color: transparent;\n",
              "    border-bottom-color: var(--fill-color);\n",
              "    animation:\n",
              "      spin 1s steps(1) infinite;\n",
              "  }\n",
              "\n",
              "  @keyframes spin {\n",
              "    0% {\n",
              "      border-color: transparent;\n",
              "      border-bottom-color: var(--fill-color);\n",
              "      border-left-color: var(--fill-color);\n",
              "    }\n",
              "    20% {\n",
              "      border-color: transparent;\n",
              "      border-left-color: var(--fill-color);\n",
              "      border-top-color: var(--fill-color);\n",
              "    }\n",
              "    30% {\n",
              "      border-color: transparent;\n",
              "      border-left-color: var(--fill-color);\n",
              "      border-top-color: var(--fill-color);\n",
              "      border-right-color: var(--fill-color);\n",
              "    }\n",
              "    40% {\n",
              "      border-color: transparent;\n",
              "      border-right-color: var(--fill-color);\n",
              "      border-top-color: var(--fill-color);\n",
              "    }\n",
              "    60% {\n",
              "      border-color: transparent;\n",
              "      border-right-color: var(--fill-color);\n",
              "    }\n",
              "    80% {\n",
              "      border-color: transparent;\n",
              "      border-right-color: var(--fill-color);\n",
              "      border-bottom-color: var(--fill-color);\n",
              "    }\n",
              "    90% {\n",
              "      border-color: transparent;\n",
              "      border-bottom-color: var(--fill-color);\n",
              "    }\n",
              "  }\n",
              "</style>\n",
              "\n",
              "  <script>\n",
              "    async function quickchart(key) {\n",
              "      const quickchartButtonEl =\n",
              "        document.querySelector('#' + key + ' button');\n",
              "      quickchartButtonEl.disabled = true;  // To prevent multiple clicks.\n",
              "      quickchartButtonEl.classList.add('colab-df-spinner');\n",
              "      try {\n",
              "        const charts = await google.colab.kernel.invokeFunction(\n",
              "            'suggestCharts', [key], {});\n",
              "      } catch (error) {\n",
              "        console.error('Error during call to suggestCharts:', error);\n",
              "      }\n",
              "      quickchartButtonEl.classList.remove('colab-df-spinner');\n",
              "      quickchartButtonEl.classList.add('colab-df-quickchart-complete');\n",
              "    }\n",
              "    (() => {\n",
              "      let quickchartButtonEl =\n",
              "        document.querySelector('#df-ed8b1989-f7ed-494b-92d3-36aef9ed3292 button');\n",
              "      quickchartButtonEl.style.display =\n",
              "        google.colab.kernel.accessAllowed ? 'block' : 'none';\n",
              "    })();\n",
              "  </script>\n",
              "</div>\n",
              "    </div>\n",
              "  </div>\n"
            ]
          },
          "metadata": {},
          "execution_count": 3
        }
      ],
      "source": [
        "import pandas as pd\n",
        "all_ratings = pd.read_csv(op.join(ML_1M_FOLDER, 'ratings.dat'), sep='::',\n",
        "                          names=[\"user_id\", \"item_id\", \"ratings\", \"timestamp\"],engine='python')\n",
        "all_ratings.head()"
      ]
    },
    {
      "cell_type": "markdown",
      "source": [
        "When showing the data, we would rather see movie titles than their IDs. The `movies.dat` contains the correspondence of IDs to movie titles."
      ],
      "metadata": {
        "id": "BiYoxkZqDbVo"
      }
    },
    {
      "cell_type": "code",
      "execution_count": 4,
      "metadata": {
        "id": "UDPeRguMV1Bz",
        "scrolled": true,
        "colab": {
          "base_uri": "https://localhost:8080/",
          "height": 206
        },
        "outputId": "3645041b-c38e-497a-8fd5-d8ef5edf63d9"
      },
      "outputs": [
        {
          "output_type": "execute_result",
          "data": {
            "text/plain": [
              "  item_id                           item_name\n",
              "0       1                    Toy Story (1995)\n",
              "1       2                      Jumanji (1995)\n",
              "2       3             Grumpier Old Men (1995)\n",
              "3       4            Waiting to Exhale (1995)\n",
              "4       5  Father of the Bride Part II (1995)"
            ],
            "text/html": [
              "\n",
              "  <div id=\"df-7897d104-0d97-4d64-9a16-e9ab8a12fba1\" class=\"colab-df-container\">\n",
              "    <div>\n",
              "<style scoped>\n",
              "    .dataframe tbody tr th:only-of-type {\n",
              "        vertical-align: middle;\n",
              "    }\n",
              "\n",
              "    .dataframe tbody tr th {\n",
              "        vertical-align: top;\n",
              "    }\n",
              "\n",
              "    .dataframe thead th {\n",
              "        text-align: right;\n",
              "    }\n",
              "</style>\n",
              "<table border=\"1\" class=\"dataframe\">\n",
              "  <thead>\n",
              "    <tr style=\"text-align: right;\">\n",
              "      <th></th>\n",
              "      <th>item_id</th>\n",
              "      <th>item_name</th>\n",
              "    </tr>\n",
              "  </thead>\n",
              "  <tbody>\n",
              "    <tr>\n",
              "      <th>0</th>\n",
              "      <td>1</td>\n",
              "      <td>Toy Story (1995)</td>\n",
              "    </tr>\n",
              "    <tr>\n",
              "      <th>1</th>\n",
              "      <td>2</td>\n",
              "      <td>Jumanji (1995)</td>\n",
              "    </tr>\n",
              "    <tr>\n",
              "      <th>2</th>\n",
              "      <td>3</td>\n",
              "      <td>Grumpier Old Men (1995)</td>\n",
              "    </tr>\n",
              "    <tr>\n",
              "      <th>3</th>\n",
              "      <td>4</td>\n",
              "      <td>Waiting to Exhale (1995)</td>\n",
              "    </tr>\n",
              "    <tr>\n",
              "      <th>4</th>\n",
              "      <td>5</td>\n",
              "      <td>Father of the Bride Part II (1995)</td>\n",
              "    </tr>\n",
              "  </tbody>\n",
              "</table>\n",
              "</div>\n",
              "    <div class=\"colab-df-buttons\">\n",
              "\n",
              "  <div class=\"colab-df-container\">\n",
              "    <button class=\"colab-df-convert\" onclick=\"convertToInteractive('df-7897d104-0d97-4d64-9a16-e9ab8a12fba1')\"\n",
              "            title=\"Convert this dataframe to an interactive table.\"\n",
              "            style=\"display:none;\">\n",
              "\n",
              "  <svg xmlns=\"http://www.w3.org/2000/svg\" height=\"24px\" viewBox=\"0 -960 960 960\">\n",
              "    <path d=\"M120-120v-720h720v720H120Zm60-500h600v-160H180v160Zm220 220h160v-160H400v160Zm0 220h160v-160H400v160ZM180-400h160v-160H180v160Zm440 0h160v-160H620v160ZM180-180h160v-160H180v160Zm440 0h160v-160H620v160Z\"/>\n",
              "  </svg>\n",
              "    </button>\n",
              "\n",
              "  <style>\n",
              "    .colab-df-container {\n",
              "      display:flex;\n",
              "      gap: 12px;\n",
              "    }\n",
              "\n",
              "    .colab-df-convert {\n",
              "      background-color: #E8F0FE;\n",
              "      border: none;\n",
              "      border-radius: 50%;\n",
              "      cursor: pointer;\n",
              "      display: none;\n",
              "      fill: #1967D2;\n",
              "      height: 32px;\n",
              "      padding: 0 0 0 0;\n",
              "      width: 32px;\n",
              "    }\n",
              "\n",
              "    .colab-df-convert:hover {\n",
              "      background-color: #E2EBFA;\n",
              "      box-shadow: 0px 1px 2px rgba(60, 64, 67, 0.3), 0px 1px 3px 1px rgba(60, 64, 67, 0.15);\n",
              "      fill: #174EA6;\n",
              "    }\n",
              "\n",
              "    .colab-df-buttons div {\n",
              "      margin-bottom: 4px;\n",
              "    }\n",
              "\n",
              "    [theme=dark] .colab-df-convert {\n",
              "      background-color: #3B4455;\n",
              "      fill: #D2E3FC;\n",
              "    }\n",
              "\n",
              "    [theme=dark] .colab-df-convert:hover {\n",
              "      background-color: #434B5C;\n",
              "      box-shadow: 0px 1px 3px 1px rgba(0, 0, 0, 0.15);\n",
              "      filter: drop-shadow(0px 1px 2px rgba(0, 0, 0, 0.3));\n",
              "      fill: #FFFFFF;\n",
              "    }\n",
              "  </style>\n",
              "\n",
              "    <script>\n",
              "      const buttonEl =\n",
              "        document.querySelector('#df-7897d104-0d97-4d64-9a16-e9ab8a12fba1 button.colab-df-convert');\n",
              "      buttonEl.style.display =\n",
              "        google.colab.kernel.accessAllowed ? 'block' : 'none';\n",
              "\n",
              "      async function convertToInteractive(key) {\n",
              "        const element = document.querySelector('#df-7897d104-0d97-4d64-9a16-e9ab8a12fba1');\n",
              "        const dataTable =\n",
              "          await google.colab.kernel.invokeFunction('convertToInteractive',\n",
              "                                                    [key], {});\n",
              "        if (!dataTable) return;\n",
              "\n",
              "        const docLinkHtml = 'Like what you see? Visit the ' +\n",
              "          '<a target=\"_blank\" href=https://colab.research.google.com/notebooks/data_table.ipynb>data table notebook</a>'\n",
              "          + ' to learn more about interactive tables.';\n",
              "        element.innerHTML = '';\n",
              "        dataTable['output_type'] = 'display_data';\n",
              "        await google.colab.output.renderOutput(dataTable, element);\n",
              "        const docLink = document.createElement('div');\n",
              "        docLink.innerHTML = docLinkHtml;\n",
              "        element.appendChild(docLink);\n",
              "      }\n",
              "    </script>\n",
              "  </div>\n",
              "\n",
              "\n",
              "<div id=\"df-8df017c7-faec-4a70-b6fc-1ca354d6ccad\">\n",
              "  <button class=\"colab-df-quickchart\" onclick=\"quickchart('df-8df017c7-faec-4a70-b6fc-1ca354d6ccad')\"\n",
              "            title=\"Suggest charts\"\n",
              "            style=\"display:none;\">\n",
              "\n",
              "<svg xmlns=\"http://www.w3.org/2000/svg\" height=\"24px\"viewBox=\"0 0 24 24\"\n",
              "     width=\"24px\">\n",
              "    <g>\n",
              "        <path d=\"M19 3H5c-1.1 0-2 .9-2 2v14c0 1.1.9 2 2 2h14c1.1 0 2-.9 2-2V5c0-1.1-.9-2-2-2zM9 17H7v-7h2v7zm4 0h-2V7h2v10zm4 0h-2v-4h2v4z\"/>\n",
              "    </g>\n",
              "</svg>\n",
              "  </button>\n",
              "\n",
              "<style>\n",
              "  .colab-df-quickchart {\n",
              "      --bg-color: #E8F0FE;\n",
              "      --fill-color: #1967D2;\n",
              "      --hover-bg-color: #E2EBFA;\n",
              "      --hover-fill-color: #174EA6;\n",
              "      --disabled-fill-color: #AAA;\n",
              "      --disabled-bg-color: #DDD;\n",
              "  }\n",
              "\n",
              "  [theme=dark] .colab-df-quickchart {\n",
              "      --bg-color: #3B4455;\n",
              "      --fill-color: #D2E3FC;\n",
              "      --hover-bg-color: #434B5C;\n",
              "      --hover-fill-color: #FFFFFF;\n",
              "      --disabled-bg-color: #3B4455;\n",
              "      --disabled-fill-color: #666;\n",
              "  }\n",
              "\n",
              "  .colab-df-quickchart {\n",
              "    background-color: var(--bg-color);\n",
              "    border: none;\n",
              "    border-radius: 50%;\n",
              "    cursor: pointer;\n",
              "    display: none;\n",
              "    fill: var(--fill-color);\n",
              "    height: 32px;\n",
              "    padding: 0;\n",
              "    width: 32px;\n",
              "  }\n",
              "\n",
              "  .colab-df-quickchart:hover {\n",
              "    background-color: var(--hover-bg-color);\n",
              "    box-shadow: 0 1px 2px rgba(60, 64, 67, 0.3), 0 1px 3px 1px rgba(60, 64, 67, 0.15);\n",
              "    fill: var(--button-hover-fill-color);\n",
              "  }\n",
              "\n",
              "  .colab-df-quickchart-complete:disabled,\n",
              "  .colab-df-quickchart-complete:disabled:hover {\n",
              "    background-color: var(--disabled-bg-color);\n",
              "    fill: var(--disabled-fill-color);\n",
              "    box-shadow: none;\n",
              "  }\n",
              "\n",
              "  .colab-df-spinner {\n",
              "    border: 2px solid var(--fill-color);\n",
              "    border-color: transparent;\n",
              "    border-bottom-color: var(--fill-color);\n",
              "    animation:\n",
              "      spin 1s steps(1) infinite;\n",
              "  }\n",
              "\n",
              "  @keyframes spin {\n",
              "    0% {\n",
              "      border-color: transparent;\n",
              "      border-bottom-color: var(--fill-color);\n",
              "      border-left-color: var(--fill-color);\n",
              "    }\n",
              "    20% {\n",
              "      border-color: transparent;\n",
              "      border-left-color: var(--fill-color);\n",
              "      border-top-color: var(--fill-color);\n",
              "    }\n",
              "    30% {\n",
              "      border-color: transparent;\n",
              "      border-left-color: var(--fill-color);\n",
              "      border-top-color: var(--fill-color);\n",
              "      border-right-color: var(--fill-color);\n",
              "    }\n",
              "    40% {\n",
              "      border-color: transparent;\n",
              "      border-right-color: var(--fill-color);\n",
              "      border-top-color: var(--fill-color);\n",
              "    }\n",
              "    60% {\n",
              "      border-color: transparent;\n",
              "      border-right-color: var(--fill-color);\n",
              "    }\n",
              "    80% {\n",
              "      border-color: transparent;\n",
              "      border-right-color: var(--fill-color);\n",
              "      border-bottom-color: var(--fill-color);\n",
              "    }\n",
              "    90% {\n",
              "      border-color: transparent;\n",
              "      border-bottom-color: var(--fill-color);\n",
              "    }\n",
              "  }\n",
              "</style>\n",
              "\n",
              "  <script>\n",
              "    async function quickchart(key) {\n",
              "      const quickchartButtonEl =\n",
              "        document.querySelector('#' + key + ' button');\n",
              "      quickchartButtonEl.disabled = true;  // To prevent multiple clicks.\n",
              "      quickchartButtonEl.classList.add('colab-df-spinner');\n",
              "      try {\n",
              "        const charts = await google.colab.kernel.invokeFunction(\n",
              "            'suggestCharts', [key], {});\n",
              "      } catch (error) {\n",
              "        console.error('Error during call to suggestCharts:', error);\n",
              "      }\n",
              "      quickchartButtonEl.classList.remove('colab-df-spinner');\n",
              "      quickchartButtonEl.classList.add('colab-df-quickchart-complete');\n",
              "    }\n",
              "    (() => {\n",
              "      let quickchartButtonEl =\n",
              "        document.querySelector('#df-8df017c7-faec-4a70-b6fc-1ca354d6ccad button');\n",
              "      quickchartButtonEl.style.display =\n",
              "        google.colab.kernel.accessAllowed ? 'block' : 'none';\n",
              "    })();\n",
              "  </script>\n",
              "</div>\n",
              "    </div>\n",
              "  </div>\n"
            ]
          },
          "metadata": {},
          "execution_count": 4
        }
      ],
      "source": [
        "list_movies_names = []\n",
        "list_item_ids = []\n",
        "with open(op.join(ML_1M_FOLDER, 'movies.dat'), encoding = \"ISO-8859-1\") as fp:\n",
        "    for line in fp:\n",
        "        list_item_ids.append(line.split('::')[0])\n",
        "        list_movies_names.append(line.split('::')[1])\n",
        "\n",
        "movies_names = pd.DataFrame(list(zip(list_item_ids, list_movies_names)),\n",
        "               columns =['item_id', 'item_name'])\n",
        "movies_names.head()"
      ]
    },
    {
      "cell_type": "code",
      "source": [],
      "metadata": {
        "id": "vyiN3id6Jdy7"
      },
      "execution_count": 4,
      "outputs": []
    },
    {
      "cell_type": "markdown",
      "metadata": {
        "id": "6nVdjC0IV1B3"
      },
      "source": [
        "Here we add the title of the movies to the `all_ratings` data."
      ]
    },
    {
      "cell_type": "code",
      "execution_count": 5,
      "metadata": {
        "id": "21gIXEkXV1B4"
      },
      "outputs": [],
      "source": [
        "movies_names['item_id']=movies_names['item_id'].astype(int)\n",
        "all_ratings['item_id']=all_ratings['item_id'].astype(int)\n",
        "all_ratings = all_ratings.merge(movies_names,on='item_id')"
      ]
    },
    {
      "cell_type": "code",
      "execution_count": 6,
      "metadata": {
        "id": "_XJlXE1mV1B8",
        "colab": {
          "base_uri": "https://localhost:8080/",
          "height": 206
        },
        "outputId": "84ffddd4-d68d-41e6-b13f-a77fb45e7f8d"
      },
      "outputs": [
        {
          "output_type": "execute_result",
          "data": {
            "text/plain": [
              "   user_id  item_id  ratings  timestamp  \\\n",
              "0        1     1193        5  978300760   \n",
              "1        2     1193        5  978298413   \n",
              "2       12     1193        4  978220179   \n",
              "3       15     1193        4  978199279   \n",
              "4       17     1193        5  978158471   \n",
              "\n",
              "                                item_name  \n",
              "0  One Flew Over the Cuckoo's Nest (1975)  \n",
              "1  One Flew Over the Cuckoo's Nest (1975)  \n",
              "2  One Flew Over the Cuckoo's Nest (1975)  \n",
              "3  One Flew Over the Cuckoo's Nest (1975)  \n",
              "4  One Flew Over the Cuckoo's Nest (1975)  "
            ],
            "text/html": [
              "\n",
              "  <div id=\"df-9e8ba75a-762e-4bbe-abb1-b9e3ad470a9f\" class=\"colab-df-container\">\n",
              "    <div>\n",
              "<style scoped>\n",
              "    .dataframe tbody tr th:only-of-type {\n",
              "        vertical-align: middle;\n",
              "    }\n",
              "\n",
              "    .dataframe tbody tr th {\n",
              "        vertical-align: top;\n",
              "    }\n",
              "\n",
              "    .dataframe thead th {\n",
              "        text-align: right;\n",
              "    }\n",
              "</style>\n",
              "<table border=\"1\" class=\"dataframe\">\n",
              "  <thead>\n",
              "    <tr style=\"text-align: right;\">\n",
              "      <th></th>\n",
              "      <th>user_id</th>\n",
              "      <th>item_id</th>\n",
              "      <th>ratings</th>\n",
              "      <th>timestamp</th>\n",
              "      <th>item_name</th>\n",
              "    </tr>\n",
              "  </thead>\n",
              "  <tbody>\n",
              "    <tr>\n",
              "      <th>0</th>\n",
              "      <td>1</td>\n",
              "      <td>1193</td>\n",
              "      <td>5</td>\n",
              "      <td>978300760</td>\n",
              "      <td>One Flew Over the Cuckoo's Nest (1975)</td>\n",
              "    </tr>\n",
              "    <tr>\n",
              "      <th>1</th>\n",
              "      <td>2</td>\n",
              "      <td>1193</td>\n",
              "      <td>5</td>\n",
              "      <td>978298413</td>\n",
              "      <td>One Flew Over the Cuckoo's Nest (1975)</td>\n",
              "    </tr>\n",
              "    <tr>\n",
              "      <th>2</th>\n",
              "      <td>12</td>\n",
              "      <td>1193</td>\n",
              "      <td>4</td>\n",
              "      <td>978220179</td>\n",
              "      <td>One Flew Over the Cuckoo's Nest (1975)</td>\n",
              "    </tr>\n",
              "    <tr>\n",
              "      <th>3</th>\n",
              "      <td>15</td>\n",
              "      <td>1193</td>\n",
              "      <td>4</td>\n",
              "      <td>978199279</td>\n",
              "      <td>One Flew Over the Cuckoo's Nest (1975)</td>\n",
              "    </tr>\n",
              "    <tr>\n",
              "      <th>4</th>\n",
              "      <td>17</td>\n",
              "      <td>1193</td>\n",
              "      <td>5</td>\n",
              "      <td>978158471</td>\n",
              "      <td>One Flew Over the Cuckoo's Nest (1975)</td>\n",
              "    </tr>\n",
              "  </tbody>\n",
              "</table>\n",
              "</div>\n",
              "    <div class=\"colab-df-buttons\">\n",
              "\n",
              "  <div class=\"colab-df-container\">\n",
              "    <button class=\"colab-df-convert\" onclick=\"convertToInteractive('df-9e8ba75a-762e-4bbe-abb1-b9e3ad470a9f')\"\n",
              "            title=\"Convert this dataframe to an interactive table.\"\n",
              "            style=\"display:none;\">\n",
              "\n",
              "  <svg xmlns=\"http://www.w3.org/2000/svg\" height=\"24px\" viewBox=\"0 -960 960 960\">\n",
              "    <path d=\"M120-120v-720h720v720H120Zm60-500h600v-160H180v160Zm220 220h160v-160H400v160Zm0 220h160v-160H400v160ZM180-400h160v-160H180v160Zm440 0h160v-160H620v160ZM180-180h160v-160H180v160Zm440 0h160v-160H620v160Z\"/>\n",
              "  </svg>\n",
              "    </button>\n",
              "\n",
              "  <style>\n",
              "    .colab-df-container {\n",
              "      display:flex;\n",
              "      gap: 12px;\n",
              "    }\n",
              "\n",
              "    .colab-df-convert {\n",
              "      background-color: #E8F0FE;\n",
              "      border: none;\n",
              "      border-radius: 50%;\n",
              "      cursor: pointer;\n",
              "      display: none;\n",
              "      fill: #1967D2;\n",
              "      height: 32px;\n",
              "      padding: 0 0 0 0;\n",
              "      width: 32px;\n",
              "    }\n",
              "\n",
              "    .colab-df-convert:hover {\n",
              "      background-color: #E2EBFA;\n",
              "      box-shadow: 0px 1px 2px rgba(60, 64, 67, 0.3), 0px 1px 3px 1px rgba(60, 64, 67, 0.15);\n",
              "      fill: #174EA6;\n",
              "    }\n",
              "\n",
              "    .colab-df-buttons div {\n",
              "      margin-bottom: 4px;\n",
              "    }\n",
              "\n",
              "    [theme=dark] .colab-df-convert {\n",
              "      background-color: #3B4455;\n",
              "      fill: #D2E3FC;\n",
              "    }\n",
              "\n",
              "    [theme=dark] .colab-df-convert:hover {\n",
              "      background-color: #434B5C;\n",
              "      box-shadow: 0px 1px 3px 1px rgba(0, 0, 0, 0.15);\n",
              "      filter: drop-shadow(0px 1px 2px rgba(0, 0, 0, 0.3));\n",
              "      fill: #FFFFFF;\n",
              "    }\n",
              "  </style>\n",
              "\n",
              "    <script>\n",
              "      const buttonEl =\n",
              "        document.querySelector('#df-9e8ba75a-762e-4bbe-abb1-b9e3ad470a9f button.colab-df-convert');\n",
              "      buttonEl.style.display =\n",
              "        google.colab.kernel.accessAllowed ? 'block' : 'none';\n",
              "\n",
              "      async function convertToInteractive(key) {\n",
              "        const element = document.querySelector('#df-9e8ba75a-762e-4bbe-abb1-b9e3ad470a9f');\n",
              "        const dataTable =\n",
              "          await google.colab.kernel.invokeFunction('convertToInteractive',\n",
              "                                                    [key], {});\n",
              "        if (!dataTable) return;\n",
              "\n",
              "        const docLinkHtml = 'Like what you see? Visit the ' +\n",
              "          '<a target=\"_blank\" href=https://colab.research.google.com/notebooks/data_table.ipynb>data table notebook</a>'\n",
              "          + ' to learn more about interactive tables.';\n",
              "        element.innerHTML = '';\n",
              "        dataTable['output_type'] = 'display_data';\n",
              "        await google.colab.output.renderOutput(dataTable, element);\n",
              "        const docLink = document.createElement('div');\n",
              "        docLink.innerHTML = docLinkHtml;\n",
              "        element.appendChild(docLink);\n",
              "      }\n",
              "    </script>\n",
              "  </div>\n",
              "\n",
              "\n",
              "<div id=\"df-8e1c8e0d-1103-46cb-8d35-d1004f536f7b\">\n",
              "  <button class=\"colab-df-quickchart\" onclick=\"quickchart('df-8e1c8e0d-1103-46cb-8d35-d1004f536f7b')\"\n",
              "            title=\"Suggest charts\"\n",
              "            style=\"display:none;\">\n",
              "\n",
              "<svg xmlns=\"http://www.w3.org/2000/svg\" height=\"24px\"viewBox=\"0 0 24 24\"\n",
              "     width=\"24px\">\n",
              "    <g>\n",
              "        <path d=\"M19 3H5c-1.1 0-2 .9-2 2v14c0 1.1.9 2 2 2h14c1.1 0 2-.9 2-2V5c0-1.1-.9-2-2-2zM9 17H7v-7h2v7zm4 0h-2V7h2v10zm4 0h-2v-4h2v4z\"/>\n",
              "    </g>\n",
              "</svg>\n",
              "  </button>\n",
              "\n",
              "<style>\n",
              "  .colab-df-quickchart {\n",
              "      --bg-color: #E8F0FE;\n",
              "      --fill-color: #1967D2;\n",
              "      --hover-bg-color: #E2EBFA;\n",
              "      --hover-fill-color: #174EA6;\n",
              "      --disabled-fill-color: #AAA;\n",
              "      --disabled-bg-color: #DDD;\n",
              "  }\n",
              "\n",
              "  [theme=dark] .colab-df-quickchart {\n",
              "      --bg-color: #3B4455;\n",
              "      --fill-color: #D2E3FC;\n",
              "      --hover-bg-color: #434B5C;\n",
              "      --hover-fill-color: #FFFFFF;\n",
              "      --disabled-bg-color: #3B4455;\n",
              "      --disabled-fill-color: #666;\n",
              "  }\n",
              "\n",
              "  .colab-df-quickchart {\n",
              "    background-color: var(--bg-color);\n",
              "    border: none;\n",
              "    border-radius: 50%;\n",
              "    cursor: pointer;\n",
              "    display: none;\n",
              "    fill: var(--fill-color);\n",
              "    height: 32px;\n",
              "    padding: 0;\n",
              "    width: 32px;\n",
              "  }\n",
              "\n",
              "  .colab-df-quickchart:hover {\n",
              "    background-color: var(--hover-bg-color);\n",
              "    box-shadow: 0 1px 2px rgba(60, 64, 67, 0.3), 0 1px 3px 1px rgba(60, 64, 67, 0.15);\n",
              "    fill: var(--button-hover-fill-color);\n",
              "  }\n",
              "\n",
              "  .colab-df-quickchart-complete:disabled,\n",
              "  .colab-df-quickchart-complete:disabled:hover {\n",
              "    background-color: var(--disabled-bg-color);\n",
              "    fill: var(--disabled-fill-color);\n",
              "    box-shadow: none;\n",
              "  }\n",
              "\n",
              "  .colab-df-spinner {\n",
              "    border: 2px solid var(--fill-color);\n",
              "    border-color: transparent;\n",
              "    border-bottom-color: var(--fill-color);\n",
              "    animation:\n",
              "      spin 1s steps(1) infinite;\n",
              "  }\n",
              "\n",
              "  @keyframes spin {\n",
              "    0% {\n",
              "      border-color: transparent;\n",
              "      border-bottom-color: var(--fill-color);\n",
              "      border-left-color: var(--fill-color);\n",
              "    }\n",
              "    20% {\n",
              "      border-color: transparent;\n",
              "      border-left-color: var(--fill-color);\n",
              "      border-top-color: var(--fill-color);\n",
              "    }\n",
              "    30% {\n",
              "      border-color: transparent;\n",
              "      border-left-color: var(--fill-color);\n",
              "      border-top-color: var(--fill-color);\n",
              "      border-right-color: var(--fill-color);\n",
              "    }\n",
              "    40% {\n",
              "      border-color: transparent;\n",
              "      border-right-color: var(--fill-color);\n",
              "      border-top-color: var(--fill-color);\n",
              "    }\n",
              "    60% {\n",
              "      border-color: transparent;\n",
              "      border-right-color: var(--fill-color);\n",
              "    }\n",
              "    80% {\n",
              "      border-color: transparent;\n",
              "      border-right-color: var(--fill-color);\n",
              "      border-bottom-color: var(--fill-color);\n",
              "    }\n",
              "    90% {\n",
              "      border-color: transparent;\n",
              "      border-bottom-color: var(--fill-color);\n",
              "    }\n",
              "  }\n",
              "</style>\n",
              "\n",
              "  <script>\n",
              "    async function quickchart(key) {\n",
              "      const quickchartButtonEl =\n",
              "        document.querySelector('#' + key + ' button');\n",
              "      quickchartButtonEl.disabled = true;  // To prevent multiple clicks.\n",
              "      quickchartButtonEl.classList.add('colab-df-spinner');\n",
              "      try {\n",
              "        const charts = await google.colab.kernel.invokeFunction(\n",
              "            'suggestCharts', [key], {});\n",
              "      } catch (error) {\n",
              "        console.error('Error during call to suggestCharts:', error);\n",
              "      }\n",
              "      quickchartButtonEl.classList.remove('colab-df-spinner');\n",
              "      quickchartButtonEl.classList.add('colab-df-quickchart-complete');\n",
              "    }\n",
              "    (() => {\n",
              "      let quickchartButtonEl =\n",
              "        document.querySelector('#df-8e1c8e0d-1103-46cb-8d35-d1004f536f7b button');\n",
              "      quickchartButtonEl.style.display =\n",
              "        google.colab.kernel.accessAllowed ? 'block' : 'none';\n",
              "    })();\n",
              "  </script>\n",
              "</div>\n",
              "    </div>\n",
              "  </div>\n"
            ]
          },
          "metadata": {},
          "execution_count": 6
        }
      ],
      "source": [
        "all_ratings.head()"
      ]
    },
    {
      "cell_type": "markdown",
      "metadata": {
        "id": "enyJuYhUUUEL"
      },
      "source": [
        "The dataframe `all_ratings` contains all the raw data for our problem."
      ]
    },
    {
      "cell_type": "code",
      "execution_count": 7,
      "metadata": {
        "id": "3M7-jinQUUEO",
        "colab": {
          "base_uri": "https://localhost:8080/"
        },
        "outputId": "41228ab3-d5b1-4ddc-d994-1de909835dd0"
      },
      "outputs": [
        {
          "output_type": "execute_result",
          "data": {
            "text/plain": [
              "1000209"
            ]
          },
          "metadata": {},
          "execution_count": 7
        }
      ],
      "source": [
        "#number of entries\n",
        "len(all_ratings)"
      ]
    },
    {
      "cell_type": "code",
      "execution_count": 8,
      "metadata": {
        "id": "ofVcE781UUEa",
        "colab": {
          "base_uri": "https://localhost:8080/"
        },
        "outputId": "623e7c23-cd68-457f-c29b-8e59b492d52f"
      },
      "outputs": [
        {
          "output_type": "execute_result",
          "data": {
            "text/plain": [
              "count    1.000209e+06\n",
              "mean     3.581564e+00\n",
              "std      1.117102e+00\n",
              "min      1.000000e+00\n",
              "25%      3.000000e+00\n",
              "50%      4.000000e+00\n",
              "75%      4.000000e+00\n",
              "max      5.000000e+00\n",
              "Name: ratings, dtype: float64"
            ]
          },
          "metadata": {},
          "execution_count": 8
        }
      ],
      "source": [
        "# statistics of ratings\n",
        "all_ratings['ratings'].describe()"
      ]
    },
    {
      "cell_type": "code",
      "execution_count": 9,
      "metadata": {
        "id": "tCdV2qzMUUEk",
        "colab": {
          "base_uri": "https://localhost:8080/"
        },
        "outputId": "a3f5b384-33d8-4a22-c80a-9d28bf8941af"
      },
      "outputs": [
        {
          "output_type": "execute_result",
          "data": {
            "text/plain": [
              "array([5, 4, 3, 2, 1])"
            ]
          },
          "metadata": {},
          "execution_count": 9
        }
      ],
      "source": [
        "# The ratings are 1, 2, 3, 4, 5\n",
        "all_ratings['ratings'].unique()"
      ]
    },
    {
      "cell_type": "markdown",
      "source": [
        "We now check the user IDs."
      ],
      "metadata": {
        "id": "Q5qXp4HX3P_D"
      }
    },
    {
      "cell_type": "code",
      "source": [
        "all_ratings['user_id'].describe()"
      ],
      "metadata": {
        "id": "c1c1lNFG3LM0",
        "colab": {
          "base_uri": "https://localhost:8080/"
        },
        "outputId": "cd3b1091-8835-4977-d9cf-8aeca84e8fdb"
      },
      "execution_count": 10,
      "outputs": [
        {
          "output_type": "execute_result",
          "data": {
            "text/plain": [
              "count    1.000209e+06\n",
              "mean     3.024512e+03\n",
              "std      1.728413e+03\n",
              "min      1.000000e+00\n",
              "25%      1.506000e+03\n",
              "50%      3.070000e+03\n",
              "75%      4.476000e+03\n",
              "max      6.040000e+03\n",
              "Name: user_id, dtype: float64"
            ]
          },
          "metadata": {},
          "execution_count": 10
        }
      ]
    },
    {
      "cell_type": "code",
      "execution_count": 11,
      "metadata": {
        "id": "P1QoS71CUUE7",
        "colab": {
          "base_uri": "https://localhost:8080/"
        },
        "outputId": "8f23b659-8f58-4d6b-a0a7-a727229f7702"
      },
      "outputs": [
        {
          "output_type": "stream",
          "name": "stdout",
          "text": [
            "6040\n"
          ]
        }
      ],
      "source": [
        "# number of unique users\n",
        "total_user_id = len(all_ratings['user_id'].unique())\n",
        "print(total_user_id)"
      ]
    },
    {
      "cell_type": "markdown",
      "metadata": {
        "id": "-Az4KDFgV1CQ"
      },
      "source": [
        "We see that  the users seem to be indexed from 1 to 6040. Let's check that below using the following code."
      ]
    },
    {
      "cell_type": "code",
      "execution_count": 12,
      "metadata": {
        "id": "Pj8ZAzmIV1CQ"
      },
      "outputs": [],
      "source": [
        "list_user_id = list(all_ratings['user_id'].unique())\n",
        "list_user_id.sort()"
      ]
    },
    {
      "cell_type": "code",
      "execution_count": 13,
      "metadata": {
        "id": "l9omI-cwV1CT"
      },
      "outputs": [],
      "source": [
        "for i,j in enumerate(list_user_id):\n",
        "    if j != i+1:\n",
        "        print(i,j)"
      ]
    },
    {
      "cell_type": "markdown",
      "source": [
        "We can see that `list_user_id` contains contiguous indices from 1 to 6040."
      ],
      "metadata": {
        "id": "7wElJE5T2zKx"
      }
    },
    {
      "cell_type": "markdown",
      "metadata": {
        "id": "h-LytszyV1CV"
      },
      "source": [
        "We create a new column `user_num` to get an index from 0 to 6039 for users:"
      ]
    },
    {
      "cell_type": "code",
      "execution_count": 14,
      "metadata": {
        "id": "jE6WVgT-V1CV"
      },
      "outputs": [],
      "source": [
        "all_ratings['user_num'] = all_ratings['user_id'].apply(lambda x :x-1)"
      ]
    },
    {
      "cell_type": "code",
      "execution_count": 15,
      "metadata": {
        "id": "6HldBddZV1CY",
        "colab": {
          "base_uri": "https://localhost:8080/",
          "height": 206
        },
        "outputId": "c1a74424-7828-4acf-9fbb-27b3f1991872"
      },
      "outputs": [
        {
          "output_type": "execute_result",
          "data": {
            "text/plain": [
              "   user_id  item_id  ratings  timestamp  \\\n",
              "0        1     1193        5  978300760   \n",
              "1        2     1193        5  978298413   \n",
              "2       12     1193        4  978220179   \n",
              "3       15     1193        4  978199279   \n",
              "4       17     1193        5  978158471   \n",
              "\n",
              "                                item_name  user_num  \n",
              "0  One Flew Over the Cuckoo's Nest (1975)         0  \n",
              "1  One Flew Over the Cuckoo's Nest (1975)         1  \n",
              "2  One Flew Over the Cuckoo's Nest (1975)        11  \n",
              "3  One Flew Over the Cuckoo's Nest (1975)        14  \n",
              "4  One Flew Over the Cuckoo's Nest (1975)        16  "
            ],
            "text/html": [
              "\n",
              "  <div id=\"df-78f93ed6-45b4-40a6-a8d6-fcc4735be5d7\" class=\"colab-df-container\">\n",
              "    <div>\n",
              "<style scoped>\n",
              "    .dataframe tbody tr th:only-of-type {\n",
              "        vertical-align: middle;\n",
              "    }\n",
              "\n",
              "    .dataframe tbody tr th {\n",
              "        vertical-align: top;\n",
              "    }\n",
              "\n",
              "    .dataframe thead th {\n",
              "        text-align: right;\n",
              "    }\n",
              "</style>\n",
              "<table border=\"1\" class=\"dataframe\">\n",
              "  <thead>\n",
              "    <tr style=\"text-align: right;\">\n",
              "      <th></th>\n",
              "      <th>user_id</th>\n",
              "      <th>item_id</th>\n",
              "      <th>ratings</th>\n",
              "      <th>timestamp</th>\n",
              "      <th>item_name</th>\n",
              "      <th>user_num</th>\n",
              "    </tr>\n",
              "  </thead>\n",
              "  <tbody>\n",
              "    <tr>\n",
              "      <th>0</th>\n",
              "      <td>1</td>\n",
              "      <td>1193</td>\n",
              "      <td>5</td>\n",
              "      <td>978300760</td>\n",
              "      <td>One Flew Over the Cuckoo's Nest (1975)</td>\n",
              "      <td>0</td>\n",
              "    </tr>\n",
              "    <tr>\n",
              "      <th>1</th>\n",
              "      <td>2</td>\n",
              "      <td>1193</td>\n",
              "      <td>5</td>\n",
              "      <td>978298413</td>\n",
              "      <td>One Flew Over the Cuckoo's Nest (1975)</td>\n",
              "      <td>1</td>\n",
              "    </tr>\n",
              "    <tr>\n",
              "      <th>2</th>\n",
              "      <td>12</td>\n",
              "      <td>1193</td>\n",
              "      <td>4</td>\n",
              "      <td>978220179</td>\n",
              "      <td>One Flew Over the Cuckoo's Nest (1975)</td>\n",
              "      <td>11</td>\n",
              "    </tr>\n",
              "    <tr>\n",
              "      <th>3</th>\n",
              "      <td>15</td>\n",
              "      <td>1193</td>\n",
              "      <td>4</td>\n",
              "      <td>978199279</td>\n",
              "      <td>One Flew Over the Cuckoo's Nest (1975)</td>\n",
              "      <td>14</td>\n",
              "    </tr>\n",
              "    <tr>\n",
              "      <th>4</th>\n",
              "      <td>17</td>\n",
              "      <td>1193</td>\n",
              "      <td>5</td>\n",
              "      <td>978158471</td>\n",
              "      <td>One Flew Over the Cuckoo's Nest (1975)</td>\n",
              "      <td>16</td>\n",
              "    </tr>\n",
              "  </tbody>\n",
              "</table>\n",
              "</div>\n",
              "    <div class=\"colab-df-buttons\">\n",
              "\n",
              "  <div class=\"colab-df-container\">\n",
              "    <button class=\"colab-df-convert\" onclick=\"convertToInteractive('df-78f93ed6-45b4-40a6-a8d6-fcc4735be5d7')\"\n",
              "            title=\"Convert this dataframe to an interactive table.\"\n",
              "            style=\"display:none;\">\n",
              "\n",
              "  <svg xmlns=\"http://www.w3.org/2000/svg\" height=\"24px\" viewBox=\"0 -960 960 960\">\n",
              "    <path d=\"M120-120v-720h720v720H120Zm60-500h600v-160H180v160Zm220 220h160v-160H400v160Zm0 220h160v-160H400v160ZM180-400h160v-160H180v160Zm440 0h160v-160H620v160ZM180-180h160v-160H180v160Zm440 0h160v-160H620v160Z\"/>\n",
              "  </svg>\n",
              "    </button>\n",
              "\n",
              "  <style>\n",
              "    .colab-df-container {\n",
              "      display:flex;\n",
              "      gap: 12px;\n",
              "    }\n",
              "\n",
              "    .colab-df-convert {\n",
              "      background-color: #E8F0FE;\n",
              "      border: none;\n",
              "      border-radius: 50%;\n",
              "      cursor: pointer;\n",
              "      display: none;\n",
              "      fill: #1967D2;\n",
              "      height: 32px;\n",
              "      padding: 0 0 0 0;\n",
              "      width: 32px;\n",
              "    }\n",
              "\n",
              "    .colab-df-convert:hover {\n",
              "      background-color: #E2EBFA;\n",
              "      box-shadow: 0px 1px 2px rgba(60, 64, 67, 0.3), 0px 1px 3px 1px rgba(60, 64, 67, 0.15);\n",
              "      fill: #174EA6;\n",
              "    }\n",
              "\n",
              "    .colab-df-buttons div {\n",
              "      margin-bottom: 4px;\n",
              "    }\n",
              "\n",
              "    [theme=dark] .colab-df-convert {\n",
              "      background-color: #3B4455;\n",
              "      fill: #D2E3FC;\n",
              "    }\n",
              "\n",
              "    [theme=dark] .colab-df-convert:hover {\n",
              "      background-color: #434B5C;\n",
              "      box-shadow: 0px 1px 3px 1px rgba(0, 0, 0, 0.15);\n",
              "      filter: drop-shadow(0px 1px 2px rgba(0, 0, 0, 0.3));\n",
              "      fill: #FFFFFF;\n",
              "    }\n",
              "  </style>\n",
              "\n",
              "    <script>\n",
              "      const buttonEl =\n",
              "        document.querySelector('#df-78f93ed6-45b4-40a6-a8d6-fcc4735be5d7 button.colab-df-convert');\n",
              "      buttonEl.style.display =\n",
              "        google.colab.kernel.accessAllowed ? 'block' : 'none';\n",
              "\n",
              "      async function convertToInteractive(key) {\n",
              "        const element = document.querySelector('#df-78f93ed6-45b4-40a6-a8d6-fcc4735be5d7');\n",
              "        const dataTable =\n",
              "          await google.colab.kernel.invokeFunction('convertToInteractive',\n",
              "                                                    [key], {});\n",
              "        if (!dataTable) return;\n",
              "\n",
              "        const docLinkHtml = 'Like what you see? Visit the ' +\n",
              "          '<a target=\"_blank\" href=https://colab.research.google.com/notebooks/data_table.ipynb>data table notebook</a>'\n",
              "          + ' to learn more about interactive tables.';\n",
              "        element.innerHTML = '';\n",
              "        dataTable['output_type'] = 'display_data';\n",
              "        await google.colab.output.renderOutput(dataTable, element);\n",
              "        const docLink = document.createElement('div');\n",
              "        docLink.innerHTML = docLinkHtml;\n",
              "        element.appendChild(docLink);\n",
              "      }\n",
              "    </script>\n",
              "  </div>\n",
              "\n",
              "\n",
              "<div id=\"df-a38a3f7b-02d2-4410-918f-e677bbb302d1\">\n",
              "  <button class=\"colab-df-quickchart\" onclick=\"quickchart('df-a38a3f7b-02d2-4410-918f-e677bbb302d1')\"\n",
              "            title=\"Suggest charts\"\n",
              "            style=\"display:none;\">\n",
              "\n",
              "<svg xmlns=\"http://www.w3.org/2000/svg\" height=\"24px\"viewBox=\"0 0 24 24\"\n",
              "     width=\"24px\">\n",
              "    <g>\n",
              "        <path d=\"M19 3H5c-1.1 0-2 .9-2 2v14c0 1.1.9 2 2 2h14c1.1 0 2-.9 2-2V5c0-1.1-.9-2-2-2zM9 17H7v-7h2v7zm4 0h-2V7h2v10zm4 0h-2v-4h2v4z\"/>\n",
              "    </g>\n",
              "</svg>\n",
              "  </button>\n",
              "\n",
              "<style>\n",
              "  .colab-df-quickchart {\n",
              "      --bg-color: #E8F0FE;\n",
              "      --fill-color: #1967D2;\n",
              "      --hover-bg-color: #E2EBFA;\n",
              "      --hover-fill-color: #174EA6;\n",
              "      --disabled-fill-color: #AAA;\n",
              "      --disabled-bg-color: #DDD;\n",
              "  }\n",
              "\n",
              "  [theme=dark] .colab-df-quickchart {\n",
              "      --bg-color: #3B4455;\n",
              "      --fill-color: #D2E3FC;\n",
              "      --hover-bg-color: #434B5C;\n",
              "      --hover-fill-color: #FFFFFF;\n",
              "      --disabled-bg-color: #3B4455;\n",
              "      --disabled-fill-color: #666;\n",
              "  }\n",
              "\n",
              "  .colab-df-quickchart {\n",
              "    background-color: var(--bg-color);\n",
              "    border: none;\n",
              "    border-radius: 50%;\n",
              "    cursor: pointer;\n",
              "    display: none;\n",
              "    fill: var(--fill-color);\n",
              "    height: 32px;\n",
              "    padding: 0;\n",
              "    width: 32px;\n",
              "  }\n",
              "\n",
              "  .colab-df-quickchart:hover {\n",
              "    background-color: var(--hover-bg-color);\n",
              "    box-shadow: 0 1px 2px rgba(60, 64, 67, 0.3), 0 1px 3px 1px rgba(60, 64, 67, 0.15);\n",
              "    fill: var(--button-hover-fill-color);\n",
              "  }\n",
              "\n",
              "  .colab-df-quickchart-complete:disabled,\n",
              "  .colab-df-quickchart-complete:disabled:hover {\n",
              "    background-color: var(--disabled-bg-color);\n",
              "    fill: var(--disabled-fill-color);\n",
              "    box-shadow: none;\n",
              "  }\n",
              "\n",
              "  .colab-df-spinner {\n",
              "    border: 2px solid var(--fill-color);\n",
              "    border-color: transparent;\n",
              "    border-bottom-color: var(--fill-color);\n",
              "    animation:\n",
              "      spin 1s steps(1) infinite;\n",
              "  }\n",
              "\n",
              "  @keyframes spin {\n",
              "    0% {\n",
              "      border-color: transparent;\n",
              "      border-bottom-color: var(--fill-color);\n",
              "      border-left-color: var(--fill-color);\n",
              "    }\n",
              "    20% {\n",
              "      border-color: transparent;\n",
              "      border-left-color: var(--fill-color);\n",
              "      border-top-color: var(--fill-color);\n",
              "    }\n",
              "    30% {\n",
              "      border-color: transparent;\n",
              "      border-left-color: var(--fill-color);\n",
              "      border-top-color: var(--fill-color);\n",
              "      border-right-color: var(--fill-color);\n",
              "    }\n",
              "    40% {\n",
              "      border-color: transparent;\n",
              "      border-right-color: var(--fill-color);\n",
              "      border-top-color: var(--fill-color);\n",
              "    }\n",
              "    60% {\n",
              "      border-color: transparent;\n",
              "      border-right-color: var(--fill-color);\n",
              "    }\n",
              "    80% {\n",
              "      border-color: transparent;\n",
              "      border-right-color: var(--fill-color);\n",
              "      border-bottom-color: var(--fill-color);\n",
              "    }\n",
              "    90% {\n",
              "      border-color: transparent;\n",
              "      border-bottom-color: var(--fill-color);\n",
              "    }\n",
              "  }\n",
              "</style>\n",
              "\n",
              "  <script>\n",
              "    async function quickchart(key) {\n",
              "      const quickchartButtonEl =\n",
              "        document.querySelector('#' + key + ' button');\n",
              "      quickchartButtonEl.disabled = true;  // To prevent multiple clicks.\n",
              "      quickchartButtonEl.classList.add('colab-df-spinner');\n",
              "      try {\n",
              "        const charts = await google.colab.kernel.invokeFunction(\n",
              "            'suggestCharts', [key], {});\n",
              "      } catch (error) {\n",
              "        console.error('Error during call to suggestCharts:', error);\n",
              "      }\n",
              "      quickchartButtonEl.classList.remove('colab-df-spinner');\n",
              "      quickchartButtonEl.classList.add('colab-df-quickchart-complete');\n",
              "    }\n",
              "    (() => {\n",
              "      let quickchartButtonEl =\n",
              "        document.querySelector('#df-a38a3f7b-02d2-4410-918f-e677bbb302d1 button');\n",
              "      quickchartButtonEl.style.display =\n",
              "        google.colab.kernel.accessAllowed ? 'block' : 'none';\n",
              "    })();\n",
              "  </script>\n",
              "</div>\n",
              "    </div>\n",
              "  </div>\n"
            ]
          },
          "metadata": {},
          "execution_count": 15
        }
      ],
      "source": [
        "all_ratings.head()"
      ]
    },
    {
      "cell_type": "markdown",
      "metadata": {
        "id": "W0OThRYhV1Cb"
      },
      "source": [
        "We now look at movies."
      ]
    },
    {
      "cell_type": "code",
      "execution_count": 16,
      "metadata": {
        "id": "l3gfokbNUUFH",
        "colab": {
          "base_uri": "https://localhost:8080/"
        },
        "outputId": "91cdeebf-bb24-43ea-ae5f-a07762f4ecfc"
      },
      "outputs": [
        {
          "output_type": "execute_result",
          "data": {
            "text/plain": [
              "count    1.000209e+06\n",
              "mean     1.865540e+03\n",
              "std      1.096041e+03\n",
              "min      1.000000e+00\n",
              "25%      1.030000e+03\n",
              "50%      1.835000e+03\n",
              "75%      2.770000e+03\n",
              "max      3.952000e+03\n",
              "Name: item_id, dtype: float64"
            ]
          },
          "metadata": {},
          "execution_count": 16
        }
      ],
      "source": [
        "all_ratings['item_id'].describe()"
      ]
    },
    {
      "cell_type": "code",
      "execution_count": 17,
      "metadata": {
        "id": "8ncInsk_V1Cg",
        "colab": {
          "base_uri": "https://localhost:8080/"
        },
        "outputId": "b34b4e26-b6bb-4ba6-f7e2-47340026a319"
      },
      "outputs": [
        {
          "output_type": "stream",
          "name": "stdout",
          "text": [
            "3706\n"
          ]
        }
      ],
      "source": [
        "# number of unique rated items\n",
        "total_item_id = len(all_ratings['item_id'].unique())\n",
        "print(total_item_id)"
      ]
    },
    {
      "cell_type": "markdown",
      "metadata": {
        "id": "3gGu2LjiV1Ci"
      },
      "source": [
        "Here there is a clear problem: there are 3706 different movies but the range of `item_id` starts at 1 and ends at 3952. So there are gaps, so the first thing you will need to do is to create a new column `item_num` so that all movies are indexed from 0 to 3705."
      ]
    },
    {
      "cell_type": "code",
      "execution_count": 18,
      "metadata": {
        "id": "9Zs7e-pyV1Cj"
      },
      "outputs": [],
      "source": [
        "itemnum_2_itemid = list(all_ratings['item_id'].unique())\n",
        "itemnum_2_itemid.sort()\n",
        "itemid_2_itemnum = {c:i for i,c in enumerate(itemnum_2_itemid)}\n",
        "all_ratings['item_num'] = all_ratings['item_id'].apply(lambda x: itemid_2_itemnum[x])"
      ]
    },
    {
      "cell_type": "markdown",
      "metadata": {
        "id": "weNJOlzcV1Cl"
      },
      "source": [
        "This function will verify that we have created `item_num` correctly."
      ]
    },
    {
      "cell_type": "code",
      "execution_count": 19,
      "metadata": {
        "id": "ktctMT12V1Cl"
      },
      "outputs": [],
      "source": [
        "def check_ratings_num(df):\n",
        "    item_num = set(df['item_num'])\n",
        "    if item_num == set(range(len(item_num))):\n",
        "        return True\n",
        "    else:\n",
        "        return False"
      ]
    },
    {
      "cell_type": "code",
      "execution_count": 20,
      "metadata": {
        "id": "w4w1XQnfV1Cp",
        "colab": {
          "base_uri": "https://localhost:8080/"
        },
        "outputId": "fb73c720-0c4f-4288-a3b9-7ecd70e07733"
      },
      "outputs": [
        {
          "output_type": "execute_result",
          "data": {
            "text/plain": [
              "True"
            ]
          },
          "metadata": {},
          "execution_count": 20
        }
      ],
      "source": [
        "check_ratings_num(all_ratings)"
      ]
    },
    {
      "cell_type": "code",
      "execution_count": 21,
      "metadata": {
        "id": "HYa43L6EV1Cr",
        "colab": {
          "base_uri": "https://localhost:8080/",
          "height": 206
        },
        "outputId": "c736e5c2-fc8b-49e3-98a6-78ea82506aea"
      },
      "outputs": [
        {
          "output_type": "execute_result",
          "data": {
            "text/plain": [
              "   user_id  item_id  ratings  timestamp  \\\n",
              "0        1     1193        5  978300760   \n",
              "1        2     1193        5  978298413   \n",
              "2       12     1193        4  978220179   \n",
              "3       15     1193        4  978199279   \n",
              "4       17     1193        5  978158471   \n",
              "\n",
              "                                item_name  user_num  item_num  \n",
              "0  One Flew Over the Cuckoo's Nest (1975)         0      1104  \n",
              "1  One Flew Over the Cuckoo's Nest (1975)         1      1104  \n",
              "2  One Flew Over the Cuckoo's Nest (1975)        11      1104  \n",
              "3  One Flew Over the Cuckoo's Nest (1975)        14      1104  \n",
              "4  One Flew Over the Cuckoo's Nest (1975)        16      1104  "
            ],
            "text/html": [
              "\n",
              "  <div id=\"df-cc165235-3eec-47db-8431-678b0bb8aee5\" class=\"colab-df-container\">\n",
              "    <div>\n",
              "<style scoped>\n",
              "    .dataframe tbody tr th:only-of-type {\n",
              "        vertical-align: middle;\n",
              "    }\n",
              "\n",
              "    .dataframe tbody tr th {\n",
              "        vertical-align: top;\n",
              "    }\n",
              "\n",
              "    .dataframe thead th {\n",
              "        text-align: right;\n",
              "    }\n",
              "</style>\n",
              "<table border=\"1\" class=\"dataframe\">\n",
              "  <thead>\n",
              "    <tr style=\"text-align: right;\">\n",
              "      <th></th>\n",
              "      <th>user_id</th>\n",
              "      <th>item_id</th>\n",
              "      <th>ratings</th>\n",
              "      <th>timestamp</th>\n",
              "      <th>item_name</th>\n",
              "      <th>user_num</th>\n",
              "      <th>item_num</th>\n",
              "    </tr>\n",
              "  </thead>\n",
              "  <tbody>\n",
              "    <tr>\n",
              "      <th>0</th>\n",
              "      <td>1</td>\n",
              "      <td>1193</td>\n",
              "      <td>5</td>\n",
              "      <td>978300760</td>\n",
              "      <td>One Flew Over the Cuckoo's Nest (1975)</td>\n",
              "      <td>0</td>\n",
              "      <td>1104</td>\n",
              "    </tr>\n",
              "    <tr>\n",
              "      <th>1</th>\n",
              "      <td>2</td>\n",
              "      <td>1193</td>\n",
              "      <td>5</td>\n",
              "      <td>978298413</td>\n",
              "      <td>One Flew Over the Cuckoo's Nest (1975)</td>\n",
              "      <td>1</td>\n",
              "      <td>1104</td>\n",
              "    </tr>\n",
              "    <tr>\n",
              "      <th>2</th>\n",
              "      <td>12</td>\n",
              "      <td>1193</td>\n",
              "      <td>4</td>\n",
              "      <td>978220179</td>\n",
              "      <td>One Flew Over the Cuckoo's Nest (1975)</td>\n",
              "      <td>11</td>\n",
              "      <td>1104</td>\n",
              "    </tr>\n",
              "    <tr>\n",
              "      <th>3</th>\n",
              "      <td>15</td>\n",
              "      <td>1193</td>\n",
              "      <td>4</td>\n",
              "      <td>978199279</td>\n",
              "      <td>One Flew Over the Cuckoo's Nest (1975)</td>\n",
              "      <td>14</td>\n",
              "      <td>1104</td>\n",
              "    </tr>\n",
              "    <tr>\n",
              "      <th>4</th>\n",
              "      <td>17</td>\n",
              "      <td>1193</td>\n",
              "      <td>5</td>\n",
              "      <td>978158471</td>\n",
              "      <td>One Flew Over the Cuckoo's Nest (1975)</td>\n",
              "      <td>16</td>\n",
              "      <td>1104</td>\n",
              "    </tr>\n",
              "  </tbody>\n",
              "</table>\n",
              "</div>\n",
              "    <div class=\"colab-df-buttons\">\n",
              "\n",
              "  <div class=\"colab-df-container\">\n",
              "    <button class=\"colab-df-convert\" onclick=\"convertToInteractive('df-cc165235-3eec-47db-8431-678b0bb8aee5')\"\n",
              "            title=\"Convert this dataframe to an interactive table.\"\n",
              "            style=\"display:none;\">\n",
              "\n",
              "  <svg xmlns=\"http://www.w3.org/2000/svg\" height=\"24px\" viewBox=\"0 -960 960 960\">\n",
              "    <path d=\"M120-120v-720h720v720H120Zm60-500h600v-160H180v160Zm220 220h160v-160H400v160Zm0 220h160v-160H400v160ZM180-400h160v-160H180v160Zm440 0h160v-160H620v160ZM180-180h160v-160H180v160Zm440 0h160v-160H620v160Z\"/>\n",
              "  </svg>\n",
              "    </button>\n",
              "\n",
              "  <style>\n",
              "    .colab-df-container {\n",
              "      display:flex;\n",
              "      gap: 12px;\n",
              "    }\n",
              "\n",
              "    .colab-df-convert {\n",
              "      background-color: #E8F0FE;\n",
              "      border: none;\n",
              "      border-radius: 50%;\n",
              "      cursor: pointer;\n",
              "      display: none;\n",
              "      fill: #1967D2;\n",
              "      height: 32px;\n",
              "      padding: 0 0 0 0;\n",
              "      width: 32px;\n",
              "    }\n",
              "\n",
              "    .colab-df-convert:hover {\n",
              "      background-color: #E2EBFA;\n",
              "      box-shadow: 0px 1px 2px rgba(60, 64, 67, 0.3), 0px 1px 3px 1px rgba(60, 64, 67, 0.15);\n",
              "      fill: #174EA6;\n",
              "    }\n",
              "\n",
              "    .colab-df-buttons div {\n",
              "      margin-bottom: 4px;\n",
              "    }\n",
              "\n",
              "    [theme=dark] .colab-df-convert {\n",
              "      background-color: #3B4455;\n",
              "      fill: #D2E3FC;\n",
              "    }\n",
              "\n",
              "    [theme=dark] .colab-df-convert:hover {\n",
              "      background-color: #434B5C;\n",
              "      box-shadow: 0px 1px 3px 1px rgba(0, 0, 0, 0.15);\n",
              "      filter: drop-shadow(0px 1px 2px rgba(0, 0, 0, 0.3));\n",
              "      fill: #FFFFFF;\n",
              "    }\n",
              "  </style>\n",
              "\n",
              "    <script>\n",
              "      const buttonEl =\n",
              "        document.querySelector('#df-cc165235-3eec-47db-8431-678b0bb8aee5 button.colab-df-convert');\n",
              "      buttonEl.style.display =\n",
              "        google.colab.kernel.accessAllowed ? 'block' : 'none';\n",
              "\n",
              "      async function convertToInteractive(key) {\n",
              "        const element = document.querySelector('#df-cc165235-3eec-47db-8431-678b0bb8aee5');\n",
              "        const dataTable =\n",
              "          await google.colab.kernel.invokeFunction('convertToInteractive',\n",
              "                                                    [key], {});\n",
              "        if (!dataTable) return;\n",
              "\n",
              "        const docLinkHtml = 'Like what you see? Visit the ' +\n",
              "          '<a target=\"_blank\" href=https://colab.research.google.com/notebooks/data_table.ipynb>data table notebook</a>'\n",
              "          + ' to learn more about interactive tables.';\n",
              "        element.innerHTML = '';\n",
              "        dataTable['output_type'] = 'display_data';\n",
              "        await google.colab.output.renderOutput(dataTable, element);\n",
              "        const docLink = document.createElement('div');\n",
              "        docLink.innerHTML = docLinkHtml;\n",
              "        element.appendChild(docLink);\n",
              "      }\n",
              "    </script>\n",
              "  </div>\n",
              "\n",
              "\n",
              "<div id=\"df-9c6bc15e-3156-4e41-9e87-b055f2099f72\">\n",
              "  <button class=\"colab-df-quickchart\" onclick=\"quickchart('df-9c6bc15e-3156-4e41-9e87-b055f2099f72')\"\n",
              "            title=\"Suggest charts\"\n",
              "            style=\"display:none;\">\n",
              "\n",
              "<svg xmlns=\"http://www.w3.org/2000/svg\" height=\"24px\"viewBox=\"0 0 24 24\"\n",
              "     width=\"24px\">\n",
              "    <g>\n",
              "        <path d=\"M19 3H5c-1.1 0-2 .9-2 2v14c0 1.1.9 2 2 2h14c1.1 0 2-.9 2-2V5c0-1.1-.9-2-2-2zM9 17H7v-7h2v7zm4 0h-2V7h2v10zm4 0h-2v-4h2v4z\"/>\n",
              "    </g>\n",
              "</svg>\n",
              "  </button>\n",
              "\n",
              "<style>\n",
              "  .colab-df-quickchart {\n",
              "      --bg-color: #E8F0FE;\n",
              "      --fill-color: #1967D2;\n",
              "      --hover-bg-color: #E2EBFA;\n",
              "      --hover-fill-color: #174EA6;\n",
              "      --disabled-fill-color: #AAA;\n",
              "      --disabled-bg-color: #DDD;\n",
              "  }\n",
              "\n",
              "  [theme=dark] .colab-df-quickchart {\n",
              "      --bg-color: #3B4455;\n",
              "      --fill-color: #D2E3FC;\n",
              "      --hover-bg-color: #434B5C;\n",
              "      --hover-fill-color: #FFFFFF;\n",
              "      --disabled-bg-color: #3B4455;\n",
              "      --disabled-fill-color: #666;\n",
              "  }\n",
              "\n",
              "  .colab-df-quickchart {\n",
              "    background-color: var(--bg-color);\n",
              "    border: none;\n",
              "    border-radius: 50%;\n",
              "    cursor: pointer;\n",
              "    display: none;\n",
              "    fill: var(--fill-color);\n",
              "    height: 32px;\n",
              "    padding: 0;\n",
              "    width: 32px;\n",
              "  }\n",
              "\n",
              "  .colab-df-quickchart:hover {\n",
              "    background-color: var(--hover-bg-color);\n",
              "    box-shadow: 0 1px 2px rgba(60, 64, 67, 0.3), 0 1px 3px 1px rgba(60, 64, 67, 0.15);\n",
              "    fill: var(--button-hover-fill-color);\n",
              "  }\n",
              "\n",
              "  .colab-df-quickchart-complete:disabled,\n",
              "  .colab-df-quickchart-complete:disabled:hover {\n",
              "    background-color: var(--disabled-bg-color);\n",
              "    fill: var(--disabled-fill-color);\n",
              "    box-shadow: none;\n",
              "  }\n",
              "\n",
              "  .colab-df-spinner {\n",
              "    border: 2px solid var(--fill-color);\n",
              "    border-color: transparent;\n",
              "    border-bottom-color: var(--fill-color);\n",
              "    animation:\n",
              "      spin 1s steps(1) infinite;\n",
              "  }\n",
              "\n",
              "  @keyframes spin {\n",
              "    0% {\n",
              "      border-color: transparent;\n",
              "      border-bottom-color: var(--fill-color);\n",
              "      border-left-color: var(--fill-color);\n",
              "    }\n",
              "    20% {\n",
              "      border-color: transparent;\n",
              "      border-left-color: var(--fill-color);\n",
              "      border-top-color: var(--fill-color);\n",
              "    }\n",
              "    30% {\n",
              "      border-color: transparent;\n",
              "      border-left-color: var(--fill-color);\n",
              "      border-top-color: var(--fill-color);\n",
              "      border-right-color: var(--fill-color);\n",
              "    }\n",
              "    40% {\n",
              "      border-color: transparent;\n",
              "      border-right-color: var(--fill-color);\n",
              "      border-top-color: var(--fill-color);\n",
              "    }\n",
              "    60% {\n",
              "      border-color: transparent;\n",
              "      border-right-color: var(--fill-color);\n",
              "    }\n",
              "    80% {\n",
              "      border-color: transparent;\n",
              "      border-right-color: var(--fill-color);\n",
              "      border-bottom-color: var(--fill-color);\n",
              "    }\n",
              "    90% {\n",
              "      border-color: transparent;\n",
              "      border-bottom-color: var(--fill-color);\n",
              "    }\n",
              "  }\n",
              "</style>\n",
              "\n",
              "  <script>\n",
              "    async function quickchart(key) {\n",
              "      const quickchartButtonEl =\n",
              "        document.querySelector('#' + key + ' button');\n",
              "      quickchartButtonEl.disabled = true;  // To prevent multiple clicks.\n",
              "      quickchartButtonEl.classList.add('colab-df-spinner');\n",
              "      try {\n",
              "        const charts = await google.colab.kernel.invokeFunction(\n",
              "            'suggestCharts', [key], {});\n",
              "      } catch (error) {\n",
              "        console.error('Error during call to suggestCharts:', error);\n",
              "      }\n",
              "      quickchartButtonEl.classList.remove('colab-df-spinner');\n",
              "      quickchartButtonEl.classList.add('colab-df-quickchart-complete');\n",
              "    }\n",
              "    (() => {\n",
              "      let quickchartButtonEl =\n",
              "        document.querySelector('#df-9c6bc15e-3156-4e41-9e87-b055f2099f72 button');\n",
              "      quickchartButtonEl.style.display =\n",
              "        google.colab.kernel.accessAllowed ? 'block' : 'none';\n",
              "    })();\n",
              "  </script>\n",
              "</div>\n",
              "    </div>\n",
              "  </div>\n"
            ]
          },
          "metadata": {},
          "execution_count": 21
        }
      ],
      "source": [
        "all_ratings.head()"
      ]
    },
    {
      "cell_type": "markdown",
      "source": [
        "### Preliminary data analysis\n",
        "\n",
        "**Exercises**: Find the top 10 most popular movies in the dataset and include the result in your report"
      ],
      "metadata": {
        "id": "y2XGHdnbLms4"
      }
    },
    {
      "cell_type": "code",
      "source": [
        "# Group by 'item_id' and calculate the count of ratings for each movie\n",
        "movie_ratings_count = all_ratings.groupby('item_id')['ratings'].count()\n",
        "\n",
        "# Sort the movies based on the number of ratings in descending order\n",
        "sorted_movies = movie_ratings_count.sort_values(ascending=False)\n",
        "\n",
        "# Get the top 10 most popular movies\n",
        "top_10_movies = sorted_movies.head(10)\n",
        "\n",
        "# Print or display the result\n",
        "print(top_10_movies)"
      ],
      "metadata": {
        "id": "V-jcrW96lwsW",
        "colab": {
          "base_uri": "https://localhost:8080/"
        },
        "outputId": "50e14081-e844-43bd-b29f-10efc64c8c12"
      },
      "execution_count": 22,
      "outputs": [
        {
          "output_type": "stream",
          "name": "stdout",
          "text": [
            "item_id\n",
            "2858    3428\n",
            "260     2991\n",
            "1196    2990\n",
            "1210    2883\n",
            "480     2672\n",
            "2028    2653\n",
            "589     2649\n",
            "2571    2590\n",
            "1270    2583\n",
            "593     2578\n",
            "Name: ratings, dtype: int64\n"
          ]
        }
      ]
    },
    {
      "cell_type": "markdown",
      "source": [
        "**Exercise**: Plot the histogram of popularity (x-axis: # of given ratings, y-axis: # of movies with the given # of ratings). Include the plot in your report."
      ],
      "metadata": {
        "id": "1KOFiKMCr0_4"
      }
    },
    {
      "cell_type": "code",
      "source": [
        "import matplotlib.pyplot as plt\n",
        "\n",
        "# Group by 'item_id' and calculate the count of ratings for each movie\n",
        "movie_ratings_count = all_ratings.groupby('item_id')['ratings'].count()\n",
        "\n",
        "# Plot the histogram\n",
        "plt.figure(figsize=(10, 6))\n",
        "plt.hist(movie_ratings_count, bins=50, color='blue', edgecolor='black')\n",
        "plt.title('Histogram of Movie Popularity Based on Ratings')\n",
        "plt.xlabel('Number of Ratings')\n",
        "plt.ylabel('Number of Movies')\n",
        "plt.grid(True)\n",
        "plt.show()"
      ],
      "metadata": {
        "id": "iES1dtjRmnvv",
        "colab": {
          "base_uri": "https://localhost:8080/",
          "height": 564
        },
        "outputId": "5d1f4a4c-4658-4373-db32-b9f7490776a4"
      },
      "execution_count": 23,
      "outputs": [
        {
          "output_type": "display_data",
          "data": {
            "text/plain": [
              "<Figure size 1000x600 with 1 Axes>"
            ],
            "image/png": "[encoded data removed]"
          },
          "metadata": {}
        }
      ]
    },
    {
      "cell_type": "markdown",
      "source": [
        "**Exercise**: Plot the histogram of user activity (x-axis: # of given ratings, y-axis: # of users with the given # of ratings). Include the plot in your report."
      ],
      "metadata": {
        "id": "9e7Er529r3xY"
      }
    },
    {
      "cell_type": "code",
      "source": [
        "# Group by 'user_num' and calculate the count of ratings for each user\n",
        "user_ratings_count = all_ratings.groupby('user_num')['ratings'].count()\n",
        "\n",
        "# Plot the histogram\n",
        "plt.figure(figsize=(10, 6))\n",
        "plt.hist(user_ratings_count, bins=50, color='green', edgecolor='black')\n",
        "plt.title('Histogram of User Activity Based on Ratings')\n",
        "plt.xlabel('Number of Ratings Given by Users')\n",
        "plt.ylabel('Number of Users')\n",
        "plt.grid(True)\n",
        "plt.show()"
      ],
      "metadata": {
        "id": "f-5mN1F6qLLF",
        "colab": {
          "base_uri": "https://localhost:8080/",
          "height": 564
        },
        "outputId": "1acff737-d8be-4ca2-bdcb-1a135977e928"
      },
      "execution_count": 24,
      "outputs": [
        {
          "output_type": "display_data",
          "data": {
            "text/plain": [
              "<Figure size 1000x600 with 1 Axes>"
            ],
            "image/png": "[encoded data removed]"
          },
          "metadata": {}
        }
      ]
    },
    {
      "cell_type": "markdown",
      "source": [
        "**Exercise**: Compute the average ratings for every movie and find the top 20 highly rated movies. Include the list of 20 highly rated movies and their ratings in your report. Are these highly rated movies popular?"
      ],
      "metadata": {
        "id": "nI7Tomlfr64A"
      }
    },
    {
      "cell_type": "code",
      "source": [
        "# Calculate the average ratings for each movie\n",
        "average_ratings = all_ratings.groupby('item_id')['ratings'].mean()\n",
        "\n",
        "# Sort the movies based on average ratings in descending order\n",
        "top_rated_movies = average_ratings.sort_values(ascending=False)\n",
        "\n",
        "# Get the top 20 highly rated movies\n",
        "top_20_rated_movies = top_rated_movies.head(20)\n",
        "\n",
        "# Print or display the result\n",
        "print(top_20_rated_movies)"
      ],
      "metadata": {
        "id": "3TFUhkPEqyLq",
        "colab": {
          "base_uri": "https://localhost:8080/"
        },
        "outputId": "20d5bc1c-8176-4c0a-d317-5b7f379c85f7"
      },
      "execution_count": 25,
      "outputs": [
        {
          "output_type": "stream",
          "name": "stdout",
          "text": [
            "item_id\n",
            "989     5.000000\n",
            "3881    5.000000\n",
            "1830    5.000000\n",
            "3382    5.000000\n",
            "787     5.000000\n",
            "3280    5.000000\n",
            "3607    5.000000\n",
            "3233    5.000000\n",
            "3172    5.000000\n",
            "3656    5.000000\n",
            "3245    4.800000\n",
            "53      4.750000\n",
            "2503    4.666667\n",
            "2905    4.608696\n",
            "2019    4.560510\n",
            "318     4.554558\n",
            "858     4.524966\n",
            "745     4.520548\n",
            "50      4.517106\n",
            "527     4.510417\n",
            "Name: ratings, dtype: float64\n"
          ]
        }
      ]
    },
    {
      "cell_type": "markdown",
      "source": [
        "These highly rated movies are not most popular movies."
      ],
      "metadata": {
        "id": "OYXD-eNv4PyD"
      }
    },
    {
      "cell_type": "markdown",
      "metadata": {
        "id": "Ur4bjuniUUFj"
      },
      "source": [
        "---\n",
        "## Train, Validation, and Test Data\n",
        "\n",
        "Now we will split the data in _train_, _val_ and _test_ be using a pre-defined function from [scikit-learn](http://scikit-learn.org/stable/)"
      ]
    },
    {
      "cell_type": "code",
      "execution_count": 26,
      "metadata": {
        "id": "ZT5oxhoGUUFm"
      },
      "outputs": [],
      "source": [
        "#Split the data into train, validation and test\n",
        "from sklearn.model_selection import train_test_split\n",
        "\n",
        "ratings_trainval, ratings_test = train_test_split(all_ratings, test_size=0.1, random_state=42)\n",
        "\n",
        "ratings_train, ratings_val = train_test_split(ratings_trainval, test_size=0.1, random_state=42)"
      ]
    },
    {
      "cell_type": "code",
      "source": [
        "user_id_train = ratings_train['user_id']\n",
        "item_id_train = ratings_train['item_id']\n",
        "rating_train = ratings_train['ratings']\n",
        "\n",
        "user_id_test = ratings_test['user_id']\n",
        "item_id_test = ratings_test['item_id']\n",
        "rating_test = ratings_test['ratings']"
      ],
      "metadata": {
        "id": "_xIuapYfBssG"
      },
      "execution_count": 27,
      "outputs": []
    },
    {
      "cell_type": "code",
      "source": [
        "movies_not_train = list(set(all_ratings['item_id']) -set(item_id_train))\n",
        "movies_not_train_name=set(all_ratings.loc[movies_not_train]['item_name'])\n",
        "print(movies_not_train_name)"
      ],
      "metadata": {
        "id": "kRo_Un-IBiof",
        "colab": {
          "base_uri": "https://localhost:8080/"
        },
        "outputId": "ea12b9b0-edb4-4add-ca9d-355cb32ae1e3"
      },
      "execution_count": 28,
      "outputs": [
        {
          "output_type": "stream",
          "name": "stdout",
          "text": [
            "{'My Fair Lady (1964)', 'James and the Giant Peach (1996)', 'Erin Brockovich (2000)', \"One Flew Over the Cuckoo's Nest (1975)\"}\n"
          ]
        }
      ]
    },
    {
      "cell_type": "markdown",
      "metadata": {
        "id": "Vmx1YZmTUUGG"
      },
      "source": [
        "We see that a few movies are not rated in the train set. For those movies, it is hard to predict their ratings accurately."
      ]
    },
    {
      "cell_type": "markdown",
      "source": [
        "---\n",
        "## Data Load and Batching"
      ],
      "metadata": {
        "id": "Rlhi4ocr4iOD"
      }
    },
    {
      "cell_type": "markdown",
      "source": [
        "Use GPU if available."
      ],
      "metadata": {
        "id": "3JEV5wxk5h0t"
      }
    },
    {
      "cell_type": "code",
      "source": [
        "import torch\n",
        "device = torch.device(\"cuda:0\" if torch.cuda.is_available() else \"cpu\")"
      ],
      "metadata": {
        "id": "fU4OIArA5iyb"
      },
      "execution_count": 29,
      "outputs": []
    },
    {
      "cell_type": "markdown",
      "source": [
        "We define a function to return a triplet of user_num, item_num, rating from the dataframe."
      ],
      "metadata": {
        "id": "za-dIdY45tpa"
      }
    },
    {
      "cell_type": "code",
      "source": [
        "def df_2_tensor(df, device):\n",
        "    # return a triplet user_num, item_num, rating from the dataframe\n",
        "    user_num = np.asarray(df['user_num'])\n",
        "    item_num = np.asarray(df['item_num'])\n",
        "    rating = np.asarray(df['ratings'])\n",
        "    return torch.from_numpy(user_num).to(device), torch.from_numpy(item_num).to(device), torch.from_numpy(rating).to(device)"
      ],
      "metadata": {
        "id": "rxsYMLko5Qu6"
      },
      "execution_count": 30,
      "outputs": []
    },
    {
      "cell_type": "markdown",
      "source": [
        "Below, we construct 3 tensors containing the `user_num`, `item_num` and `rating` for the training set. All tensors have the same shape so that `train_user_num[i]` watched `train_item_num[i]` and gave a rating of `train_rating[i]`."
      ],
      "metadata": {
        "id": "-v3Bjgyt5VjV"
      }
    },
    {
      "cell_type": "code",
      "source": [
        "train_user_num, train_item_num, train_rating = df_2_tensor(ratings_train,device)"
      ],
      "metadata": {
        "id": "XPRBxFWX5Uwy"
      },
      "execution_count": 31,
      "outputs": []
    },
    {
      "cell_type": "markdown",
      "source": [
        "We now do the same thing for the validation and test sets."
      ],
      "metadata": {
        "id": "uJwGxZFH5emq"
      }
    },
    {
      "cell_type": "code",
      "source": [
        "val_user_num, val_item_num, val_rating = df_2_tensor(ratings_val,device)\n",
        "test_user_num, test_item_num, test_rating = df_2_tensor(ratings_test,device)"
      ],
      "metadata": {
        "id": "UWMHCQ0V5ZSt"
      },
      "execution_count": 32,
      "outputs": []
    },
    {
      "cell_type": "markdown",
      "source": [
        "Now you need to construct a dataset and a dataloader. For this, you can define a first function taking as arguments the tensors defined above and returning a list (Hint: you may use the [zip function](https://www.w3schools.com/python/ref_func_zip.asp)); then a second function taking as argument a dataset, the batchsize and a boolean for the shuffling."
      ],
      "metadata": {
        "id": "LgoPPq9c5A7K"
      }
    },
    {
      "cell_type": "markdown",
      "source": [
        "**Exercise**: Filling in the missing code below to construct dataset and dataloader."
      ],
      "metadata": {
        "id": "FuM5hsyldlfe"
      }
    },
    {
      "cell_type": "code",
      "source": [
        "from torch.utils.data import Dataset, DataLoader"
      ],
      "metadata": {
        "id": "aHdpkn-ewuOT"
      },
      "execution_count": 33,
      "outputs": []
    },
    {
      "cell_type": "code",
      "source": [
        "def tensor_2_dataset(user,item,rating):\n",
        "    # your code here\n",
        "    # Hint: check the zip function\n",
        "    dataset = list(zip(user, item, rating))\n",
        "    return dataset\n",
        "\n",
        "\n",
        "def make_dataloader(dataset,bs,shuffle):\n",
        "    # your code here\n",
        "    dataloader = DataLoader(dataset, batch_size=bs, shuffle=shuffle)\n",
        "    return dataloader\n"
      ],
      "metadata": {
        "id": "fYYeRdVe5ALx"
      },
      "execution_count": 34,
      "outputs": []
    },
    {
      "cell_type": "code",
      "source": [
        "train_dataset = tensor_2_dataset(train_user_num,train_item_num, train_rating)\n",
        "val_dataset = tensor_2_dataset(val_user_num,val_item_num,val_rating)\n",
        "test_dataset = tensor_2_dataset(test_user_num, test_item_num, test_rating)"
      ],
      "metadata": {
        "id": "AU-xgyto5Gyh"
      },
      "execution_count": 35,
      "outputs": []
    },
    {
      "cell_type": "markdown",
      "source": [
        "Load the train, validation, and test data in batchs of size 1024."
      ],
      "metadata": {
        "id": "610dw-Uo5dIn"
      }
    },
    {
      "cell_type": "code",
      "source": [
        "train_dataloader = make_dataloader(train_dataset,1024,True)\n",
        "val_dataloader = make_dataloader(val_dataset,1024, False)\n",
        "test_dataloader = make_dataloader(test_dataset,1024,False)"
      ],
      "metadata": {
        "id": "GJQOXjWX5ODw"
      },
      "execution_count": 36,
      "outputs": []
    },
    {
      "cell_type": "markdown",
      "metadata": {
        "id": "Q7JF-d05UUGc"
      },
      "source": [
        "---\n",
        "## The model\n",
        "\n"
      ]
    },
    {
      "cell_type": "code",
      "execution_count": 37,
      "metadata": {
        "id": "tsrfFi1QUUGd"
      },
      "outputs": [],
      "source": [
        "import torch.nn as nn\n",
        "import torch.nn.functional as F\n",
        "import torch.optim as optim"
      ]
    },
    {
      "cell_type": "markdown",
      "metadata": {
        "id": "HpkKu7PVUUGp"
      },
      "source": [
        "We will use some custom embeddings defined as below."
      ]
    },
    {
      "cell_type": "code",
      "execution_count": 38,
      "metadata": {
        "id": "eB6_y1nMUUGq"
      },
      "outputs": [],
      "source": [
        "class ScaledEmbedding(nn.Embedding):\n",
        "    \"\"\"\n",
        "    Embedding layer that initialises its values\n",
        "    to using a normal variable scaled by the inverse\n",
        "    of the embedding dimension.\n",
        "    \"\"\"\n",
        "    def reset_parameters(self):\n",
        "        \"\"\"\n",
        "        Initialize parameters.\n",
        "        \"\"\"\n",
        "\n",
        "        self.weight.data.normal_(0, 1.0 / self.embedding_dim)\n",
        "        if self.padding_idx is not None:\n",
        "            self.weight.data[self.padding_idx].fill_(0.0)\n",
        "\n",
        "\n",
        "class ZeroEmbedding(nn.Embedding):\n",
        "    \"\"\"\n",
        "    Used for biases.\n",
        "    \"\"\"\n",
        "\n",
        "    def reset_parameters(self):\n",
        "        \"\"\"\n",
        "        Initialize parameters.\n",
        "        \"\"\"\n",
        "\n",
        "        self.weight.data.zero_()\n",
        "        if self.padding_idx is not None:\n",
        "            self.weight.data[self.padding_idx].fill_(0.0)"
      ]
    },
    {
      "cell_type": "markdown",
      "source": [
        "### Creating Our Own Embedding Module\n",
        "\n",
        "Now, we define the `Model_dot`(class to represents users and items. It's composed of a 4 `embedding` layers:\n",
        "\n",
        "- a `(num_users x latent_dim)` embedding layer to represent users,\n",
        "- a `(num_items x latent_dim)` embedding layer to represent items,\n",
        "- a `(num_users x 1)` embedding layer to represent user biases, and\n",
        "- a `(num_items x 1)` embedding layer to represent item biases.\n",
        "\n",
        "\n",
        "\n",
        "\n",
        "\n"
      ],
      "metadata": {
        "id": "cZdXB0ieIv2J"
      }
    },
    {
      "cell_type": "markdown",
      "source": [
        "**Exercise**: Fill the missing code to define the embeddings."
      ],
      "metadata": {
        "id": "s0F7EJoz7jbJ"
      }
    },
    {
      "cell_type": "code",
      "execution_count": 39,
      "metadata": {
        "id": "ktXRW3-4UUGt"
      },
      "outputs": [],
      "source": [
        "class DotModel(nn.Module):\n",
        "\n",
        "    def __init__(self,\n",
        "                 num_users,\n",
        "                 num_items,\n",
        "                 embedding_dim=32):\n",
        "\n",
        "        super(DotModel, self).__init__()\n",
        "\n",
        "        self.embedding_dim = embedding_dim\n",
        "\n",
        "        # TODO: generate user and item embeddigns using ScaledEmbedding\n",
        "        # your code\n",
        "        self.user_embeddings = ScaledEmbedding(num_users, embedding_dim)\n",
        "        self.item_embeddings = ScaledEmbedding(num_items, embedding_dim)\n",
        "\n",
        "        # TODO: generate bias embeddigns using ZeroEmbedding\n",
        "        # your code\n",
        "        self.user_biases = ZeroEmbedding(num_users, 1)\n",
        "        self.item_biases = ZeroEmbedding(num_items, 1)\n",
        "\n",
        "\n",
        "    def forward(self, user_ids, item_ids):\n",
        "\n",
        "        # TODO: compute and return the predicted rating based on the embedding vectors and biases.\n",
        "        # your code\n",
        "\n",
        "        # Get the embedding vectors for users and items\n",
        "        user_embeds = self.user_embeddings(user_ids)\n",
        "        item_embeds = self.item_embeddings(item_ids)\n",
        "\n",
        "        # Get the bias terms for users and items\n",
        "        user_bias = self.user_biases(user_ids).squeeze()\n",
        "        item_bias = self.item_biases(item_ids).squeeze()\n",
        "\n",
        "        # Compute the predicted rating (dot product) and add biases\n",
        "        prediction = torch.sum(user_embeds * item_embeds, dim=1) + user_bias + item_bias\n",
        "\n",
        "        # Apply sigmoid activation function to the prediction\n",
        "        # prediction = torch.sigmoid(prediction)\n",
        "        #\n",
        "        return prediction"
      ]
    },
    {
      "cell_type": "code",
      "execution_count": 40,
      "metadata": {
        "id": "PlbbwU1ze5d7"
      },
      "outputs": [],
      "source": [
        "net = DotModel(total_user_id,total_item_id).to(device)"
      ]
    },
    {
      "cell_type": "code",
      "source": [
        "net"
      ],
      "metadata": {
        "id": "Qr2Dwbgz8D7C",
        "colab": {
          "base_uri": "https://localhost:8080/"
        },
        "outputId": "d7e5f8a6-261c-48a8-87de-231c9ce82861"
      },
      "execution_count": 41,
      "outputs": [
        {
          "output_type": "execute_result",
          "data": {
            "text/plain": [
              "DotModel(\n",
              "  (user_embeddings): ScaledEmbedding(6040, 32)\n",
              "  (item_embeddings): ScaledEmbedding(3706, 32)\n",
              "  (user_biases): ZeroEmbedding(6040, 1)\n",
              "  (item_biases): ZeroEmbedding(3706, 1)\n",
              ")"
            ]
          },
          "metadata": {},
          "execution_count": 41
        }
      ]
    },
    {
      "cell_type": "markdown",
      "metadata": {
        "id": "ysX9Q9pxiMG4"
      },
      "source": [
        "Now we check your network by taking  a batch from train loader."
      ]
    },
    {
      "cell_type": "code",
      "source": [
        "batch_user, batch_item, batch_rating = next(iter(train_dataloader))\n",
        "batch_user, batch_item, batch_rating = batch_user.to(device), batch_item.to(device), batch_rating.to(device)"
      ],
      "metadata": {
        "id": "RLdCbCnzB2S-"
      },
      "execution_count": 42,
      "outputs": []
    },
    {
      "cell_type": "code",
      "execution_count": 43,
      "metadata": {
        "id": "I20UhBLZjBEs",
        "colab": {
          "base_uri": "https://localhost:8080/"
        },
        "outputId": "e1b3ec44-e489-44ad-8ce3-749d1f8ba301"
      },
      "outputs": [
        {
          "output_type": "execute_result",
          "data": {
            "text/plain": [
              "torch.Size([1024])"
            ]
          },
          "metadata": {},
          "execution_count": 43
        }
      ],
      "source": [
        "predictions = net(batch_user, batch_item)\n",
        "predictions.shape"
      ]
    },
    {
      "cell_type": "markdown",
      "source": [
        "We will use MSE loss defined below:"
      ],
      "metadata": {
        "id": "Dnmsgb3SJc_M"
      }
    },
    {
      "cell_type": "code",
      "source": [
        "def regression_loss(predicted_ratings, observed_ratings):\n",
        "    return ((observed_ratings - predicted_ratings) ** 2).mean()"
      ],
      "metadata": {
        "id": "TXXAisyw8L7i"
      },
      "execution_count": 44,
      "outputs": []
    },
    {
      "cell_type": "code",
      "source": [
        "loss=regression_loss(predictions,batch_rating)"
      ],
      "metadata": {
        "id": "l38_kUO38Qn7"
      },
      "execution_count": 45,
      "outputs": []
    },
    {
      "cell_type": "code",
      "source": [
        "loss"
      ],
      "metadata": {
        "id": "FZ3T-Ucv8yUK",
        "colab": {
          "base_uri": "https://localhost:8080/"
        },
        "outputId": "64793430-c120-4c12-93d5-ae4ff9ce3816"
      },
      "execution_count": 46,
      "outputs": [
        {
          "output_type": "execute_result",
          "data": {
            "text/plain": [
              "tensor(14.4057, grad_fn=<MeanBackward0>)"
            ]
          },
          "metadata": {},
          "execution_count": 46
        }
      ]
    },
    {
      "cell_type": "markdown",
      "source": [
        "## Train and test the model"
      ],
      "metadata": {
        "id": "aMYwouCb884T"
      }
    },
    {
      "cell_type": "markdown",
      "source": [
        "Now we define `FactorizationModel` class  that allows us to train and evaluate the explicit factorization models.\n"
      ],
      "metadata": {
        "id": "mhJebD7X9v6Z"
      }
    },
    {
      "cell_type": "markdown",
      "metadata": {
        "id": "wz1h-gG-V1DX"
      },
      "source": [
        "- The `fit` function should take as argument a dataloader for the training and a dataloader for the validation. At the end of each epoch, you run the test method on the validation set. Then you print both the loss on the training set and on the validation set to see if you are overfitting.\n",
        "\n",
        "- Weight decay, or *L2 regularization*, consists in adding to your loss function the sum of all the weights squared. Why do that? Because when we compute the gradients, it will add a contribution to them that will encourage the weights to be as small as possible."
      ]
    },
    {
      "cell_type": "markdown",
      "source": [
        "**Exercise**: Filling in the missing code below to complete the training pass and validation pass."
      ],
      "metadata": {
        "id": "jyGx-MznEqk2"
      }
    },
    {
      "cell_type": "code",
      "execution_count": 47,
      "metadata": {
        "id": "2ekPPr7SUUG7"
      },
      "outputs": [],
      "source": [
        "class FactorizationModel(object):\n",
        "\n",
        "    def __init__(self, embedding_dim=32, n_iter=10, l2=0.0,\n",
        "                 learning_rate=1e-2, device=device, net=None, num_users=None,\n",
        "                 num_items=None,random_state=None):\n",
        "\n",
        "        self._embedding_dim = embedding_dim\n",
        "        self._n_iter = n_iter\n",
        "        self._learning_rate = learning_rate\n",
        "        self._l2 = l2\n",
        "        self._device = device\n",
        "        self._num_users = num_users\n",
        "        self._num_items = num_items\n",
        "        self._net = net\n",
        "        self._optimizer = None\n",
        "        self._loss_func = None\n",
        "        self._random_state = random_state or np.random.RandomState()\n",
        "\n",
        "\n",
        "    def _initialize(self):\n",
        "        if self._net is None:\n",
        "            self._net = DotModel(self._num_users, self._num_items, self._embedding_dim).to(self._device)\n",
        "\n",
        "        self._optimizer = optim.Adam(\n",
        "                self._net.parameters(),\n",
        "                lr=self._learning_rate,\n",
        "                weight_decay=self._l2\n",
        "            )\n",
        "\n",
        "        self._loss_func = regression_loss\n",
        "\n",
        "    @property\n",
        "    def _initialized(self):\n",
        "        return self._optimizer is not None\n",
        "\n",
        "\n",
        "    def fit(self, dataloader, val_dataloader, verbose=True):\n",
        "        if not self._initialized:\n",
        "            self._initialize()\n",
        "\n",
        "        valid_loss_min = np.Inf # track change in validation loss\n",
        "        train_losses, valid_losses, valid_maes =[], [], [] # track train losses, valid loss, and valid maes over epoches\n",
        "\n",
        "        for epoch_num in range(self._n_iter):\n",
        "            tot_train_loss = 0.0\n",
        "            ###################\n",
        "            # train the model #\n",
        "            ###################\n",
        "            #TODO: trainining loop:\n",
        "            # your code\n",
        "            for user_ids, item_ids, ratings in dataloader:\n",
        "                user_ids, item_ids, ratings = user_ids.to(self._device), item_ids.to(self._device), ratings.to(self._device)\n",
        "\n",
        "                # 1. Forward pass\n",
        "                predictions = self._net.forward(user_ids, item_ids)\n",
        "\n",
        "                # 2. Calculate loss\n",
        "                loss = self._loss_func(predictions, ratings)\n",
        "\n",
        "                # 3. Zero gradients\n",
        "                self._optimizer.zero_grad()\n",
        "\n",
        "                # 4. Backward pass\n",
        "                loss.backward()\n",
        "\n",
        "                # 5. Update weights\n",
        "                self._optimizer.step()\n",
        "\n",
        "                # 6. Accumulate training loss\n",
        "                tot_train_loss += loss.item()\n",
        "\n",
        "            train_loss = tot_train_loss /len(dataloader)\n",
        "\n",
        "            # Go to the validation loop\n",
        "            valid_loss, valid_mae = self.test(val_dataloader)\n",
        "\n",
        "            train_losses.append(train_loss)\n",
        "            valid_losses.append(valid_loss)\n",
        "            valid_maes.append(valid_mae)\n",
        "\n",
        "            if verbose:\n",
        "                print('Epoch {}: loss_train {}, loss_val {}'.format(epoch_num, train_loss,valid_loss))\n",
        "\n",
        "            if np.isnan(train_loss) or train_loss == 0.0:\n",
        "                raise ValueError('Degenerate train loss: {}'.format(train_loss))\n",
        "\n",
        "            #TODO: Saving model if validation loss has decreased\n",
        "            # your code\n",
        "            if valid_loss < valid_loss_min:\n",
        "                print('Validation loss decreased ({:.6f} --> {:.6f}).  Saving model ...'.format(valid_loss_min, valid_loss))\n",
        "                torch.save(self._net.state_dict(), 'best_model.pth')\n",
        "                valid_loss_min = valid_loss\n",
        "\n",
        "\n",
        "        return train_losses, valid_losses, valid_maes\n",
        "\n",
        "\n",
        "    ######################\n",
        "    # validate/Test the model #\n",
        "    ######################\n",
        "    def test(self, dataloader, verbose = False):\n",
        "        self._net.eval()\n",
        "        L1loss = torch.nn.L1Loss()\n",
        "        tot_test_loss = 0.0\n",
        "        tot_test_mae = 0.0\n",
        "\n",
        "        # TODO: validation/testing loop\n",
        "        # your code here (mae = mean absolute error)\n",
        "        for user_ids, item_ids, ratings in dataloader:\n",
        "            user_ids, item_ids, ratings = user_ids.to(self._device), item_ids.to(self._device), ratings.to(self._device)\n",
        "\n",
        "            # Forward pass\n",
        "            predictions = self._net(user_ids, item_ids)\n",
        "\n",
        "            # Calculate loss (RMSE)\n",
        "            loss = torch.sqrt(self._loss_func(predictions, ratings))\n",
        "\n",
        "            # Calculate Mean Absolute Error (MAE)\n",
        "            mae = L1loss(predictions, ratings)\n",
        "\n",
        "            # Accumulate test loss and MAE\n",
        "            tot_test_loss += loss.item()\n",
        "            tot_test_mae += mae.item()\n",
        "\n",
        "        test_loss = tot_test_loss / len(dataloader)\n",
        "        test_mae = tot_test_mae / len(dataloader)\n",
        "        if verbose:\n",
        "            print(f\"RMSE: {np.sqrt(test_loss)}, MAE: {test_mae}\")\n",
        "        return test_loss, test_mae"
      ]
    },
    {
      "cell_type": "code",
      "execution_count": 48,
      "metadata": {
        "id": "qGuzPUNrUUG_"
      },
      "outputs": [],
      "source": [
        "#TODO: Construct your model using FactorizationModel\n",
        "# your code\n",
        "model = FactorizationModel(\n",
        "    embedding_dim=32,\n",
        "    n_iter=10,\n",
        "    learning_rate=0.01,\n",
        "    num_users=total_user_id,\n",
        "    num_items=total_item_id,\n",
        "    random_state=torch.manual_seed(42)  # Set seed for reproducibility\n",
        ")"
      ]
    },
    {
      "cell_type": "code",
      "source": [
        "model"
      ],
      "metadata": {
        "colab": {
          "base_uri": "https://localhost:8080/"
        },
        "id": "m1Kjwxhu8IMN",
        "outputId": "21ff3f3c-82c7-46a3-9022-3b45a2fbdc4d"
      },
      "execution_count": 49,
      "outputs": [
        {
          "output_type": "execute_result",
          "data": {
            "text/plain": [
              "<__main__.FactorizationModel at 0x78f974199810>"
            ]
          },
          "metadata": {},
          "execution_count": 49
        }
      ]
    },
    {
      "cell_type": "markdown",
      "source": [
        "**Exercise**: Train the model and plot the train losses and valid losses over epoches.\n",
        "At which epoch, you would stop the training? Include the plot and your answer in the report."
      ],
      "metadata": {
        "id": "fLZyF15WgbK7"
      }
    },
    {
      "cell_type": "markdown",
      "source": [
        "At the third epoch, I would stop the training, because the following trainings will decrease the training loss but increase the validation loss, which is a sign for overfitting."
      ],
      "metadata": {
        "id": "oj2_raIwvBbN"
      }
    },
    {
      "cell_type": "code",
      "source": [
        "# Assuming you have FactorizationModel, train_dataloader, and val_dataloader defined\n",
        "model = FactorizationModel(embedding_dim=32, n_iter=10, learning_rate=1e-2, num_users=total_user_id, num_items=total_item_id)\n",
        "\n",
        "# Train the model\n",
        "train_losses, valid_losses, valid_maes = model.fit(train_dataloader, val_dataloader)"
      ],
      "metadata": {
        "colab": {
          "base_uri": "https://localhost:8080/"
        },
        "id": "cYi6x2Ioh8I0",
        "outputId": "152b469d-ebc7-47b7-a076-0e1d99cab965"
      },
      "execution_count": 50,
      "outputs": [
        {
          "output_type": "stream",
          "name": "stdout",
          "text": [
            "Epoch 0: loss_train 2.1287932051251635, loss_val 0.9357655935666778\n",
            "Validation loss decreased (inf --> 0.935766).  Saving model ...\n",
            "Epoch 1: loss_train 0.7929274815351072, loss_val 0.9293934587727893\n",
            "Validation loss decreased (0.935766 --> 0.929393).  Saving model ...\n",
            "Epoch 2: loss_train 0.7060798659469142, loss_val 0.9389868554743853\n",
            "Epoch 3: loss_train 0.654394028463749, loss_val 0.9521677595647898\n",
            "Epoch 4: loss_train 0.6242048274537529, loss_val 0.9590438956564123\n",
            "Epoch 5: loss_train 0.6051477819605909, loss_val 0.9672422321005301\n",
            "Epoch 6: loss_train 0.5932577368662213, loss_val 0.9737098914655772\n",
            "Epoch 7: loss_train 0.5839860998846665, loss_val 0.9800943346186117\n",
            "Epoch 8: loss_train 0.5767882381274243, loss_val 0.9835500588471239\n",
            "Epoch 9: loss_train 0.5703369119778426, loss_val 0.9864448227665641\n"
          ]
        }
      ]
    },
    {
      "cell_type": "code",
      "source": [
        "plt.figure(figsize=(10, 6))\n",
        "plt.plot(range(1, len(train_losses) + 1), train_losses, label='Train Loss')\n",
        "plt.plot(range(1, len(valid_losses) + 1), valid_losses, label='Validation Loss')\n",
        "plt.xlabel('Epoch')\n",
        "plt.ylabel('Loss')\n",
        "plt.title('Training and Validation Losses Over Epochs')\n",
        "plt.legend()\n",
        "plt.show()"
      ],
      "metadata": {
        "colab": {
          "base_uri": "https://localhost:8080/",
          "height": 564
        },
        "id": "rTivvP_it2D-",
        "outputId": "e0f93025-9bf8-4fe8-d476-110ee656be9c"
      },
      "execution_count": 51,
      "outputs": [
        {
          "output_type": "display_data",
          "data": {
            "text/plain": [
              "<Figure size 1000x600 with 1 Axes>"
            ],
            "image/png": "[encoded data removed]"
          },
          "metadata": {}
        }
      ]
    },
    {
      "cell_type": "markdown",
      "source": [
        "**Exercise**: Now, let's compute the RMSE and mean absolute error on the test data. Include your answers in your report."
      ],
      "metadata": {
        "id": "iTwwARoap0WI"
      }
    },
    {
      "cell_type": "code",
      "source": [
        "# Test the model\n",
        "test_loss, test_mae = model.test(test_dataloader, verbose=True)\n",
        "\n",
        "# Include the results in your report\n",
        "print(f\"Test RMSE: {np.sqrt(test_loss)}, Test MAE: {test_mae}\")"
      ],
      "metadata": {
        "colab": {
          "base_uri": "https://localhost:8080/"
        },
        "id": "nC_CLVAsvm86",
        "outputId": "cabb9755-2c5f-4d26-d773-1eb783e70f7e"
      },
      "execution_count": 52,
      "outputs": [
        {
          "output_type": "stream",
          "name": "stdout",
          "text": [
            "RMSE: 0.9927726961833258, MAE: 0.7644789741963757\n",
            "Test RMSE: 0.9927726961833258, Test MAE: 0.7644789741963757\n"
          ]
        }
      ]
    },
    {
      "cell_type": "markdown",
      "metadata": {
        "id": "yXVIF75IUUHW"
      },
      "source": [
        "## Optimize your model and training\n",
        "\n",
        "**Exercise**: Play with the hyperparameters (embedding_dim, n_iter, learning_rate, L2 regularization, etc) to beat the benchmarks presented in [Surprise](https://github.com/NicolasHug/Surprise). List the hyperparameters and the RMSE and MAE on test data in the report. Save the model state to `model_cf.pt` and submit it to Canvas.\n"
      ]
    },
    {
      "cell_type": "markdown",
      "source": [
        "Here is comparison between the best benckmarks in [Surprise](https://github.com/NicolasHug/Surprise) and your model after hyperparameters tunning.\n",
        "\n",
        "| [Movielens 1M](https://grouplens.org/datasets/movielens/1m)                                                                             |   RMSE |   MAE |\n",
        "|:----------------------------------------------------------------------------------------------------------------------------------------|-------:|------:|\n",
        "| [SVD++ (cache_ratings=False)](https://surprise.readthedocs.io/en/stable/matrix_factorization.html#surprise.prediction_algorithms.matrix_factorization.SVDpp)  |  0.862 | 0.672 |\n",
        "| [SVD++ (cache_ratings=True)](https://surprise.readthedocs.io/en/stable/matrix_factorization.html#surprise.prediction_algorithms.matrix_factorization.SVDpp)  |  0.862 | 0.672 |\n",
        "| **Yours**|  **XXX** | **XXX** |\n",
        "\n"
      ],
      "metadata": {
        "id": "N3JT3S4X2H_z"
      }
    },
    {
      "cell_type": "code",
      "source": [
        "model_cf_pt = FactorizationModel(\n",
        "    embedding_dim=50,\n",
        "    n_iter=5,\n",
        "    learning_rate=0.005,\n",
        "    num_users=total_user_id,\n",
        "    num_items=total_item_id,\n",
        "    random_state=torch.manual_seed(42)  # Set seed for reproducibility\n",
        ")\n",
        "model_cf_pt = FactorizationModel(embedding_dim=32, n_iter=60, learning_rate=0.0005, num_users=total_user_id, num_items=total_item_id)\n",
        "\n",
        "# Train the model\n",
        "train_losses_cf_pt, valid_losses_cf_pt, valid_maes_cf_pt = model_cf_pt.fit(train_dataloader, val_dataloader)"
      ],
      "metadata": {
        "colab": {
          "base_uri": "https://localhost:8080/"
        },
        "id": "av52bk2Vxvda",
        "outputId": "f0060c56-9982-408f-c1e5-e103a46772e7"
      },
      "execution_count": 53,
      "outputs": [
        {
          "output_type": "stream",
          "name": "stdout",
          "text": [
            "Epoch 0: loss_train 11.984152354375281, loss_val 2.7452967898412184\n",
            "Validation loss decreased (inf --> 2.745297).  Saving model ...\n",
            "Epoch 1: loss_train 3.155056906769974, loss_val 1.2141730798916384\n",
            "Validation loss decreased (2.745297 --> 1.214173).  Saving model ...\n",
            "Epoch 2: loss_train 1.1658558145616993, loss_val 1.0046831545504658\n",
            "Validation loss decreased (1.214173 --> 1.004683).  Saving model ...\n",
            "Epoch 3: loss_train 0.9255006864215388, loss_val 0.9446516294370998\n",
            "Validation loss decreased (1.004683 --> 0.944652).  Saving model ...\n",
            "Epoch 4: loss_train 0.8534293283868317, loss_val 0.9215176471255042\n",
            "Validation loss decreased (0.944652 --> 0.921518).  Saving model ...\n",
            "Epoch 5: loss_train 0.8231038526453153, loss_val 0.9112083031372591\n",
            "Validation loss decreased (0.921518 --> 0.911208).  Saving model ...\n",
            "Epoch 6: loss_train 0.8069660615439367, loss_val 0.9050782302563841\n",
            "Validation loss decreased (0.911208 --> 0.905078).  Saving model ...\n",
            "Epoch 7: loss_train 0.796373425935856, loss_val 0.9011277204210107\n",
            "Validation loss decreased (0.905078 --> 0.901128).  Saving model ...\n",
            "Epoch 8: loss_train 0.7884263888452993, loss_val 0.8982008993625641\n",
            "Validation loss decreased (0.901128 --> 0.898201).  Saving model ...\n",
            "Epoch 9: loss_train 0.7818950671288702, loss_val 0.8956871249459006\n",
            "Validation loss decreased (0.898201 --> 0.895687).  Saving model ...\n",
            "Epoch 10: loss_train 0.7759687561127875, loss_val 0.8938252275640314\n",
            "Validation loss decreased (0.895687 --> 0.893825).  Saving model ...\n",
            "Epoch 11: loss_train 0.7703159067666892, loss_val 0.8918058757077564\n",
            "Validation loss decreased (0.893825 --> 0.891806).  Saving model ...\n",
            "Epoch 12: loss_train 0.7649654982366947, loss_val 0.8901760415597395\n",
            "Validation loss decreased (0.891806 --> 0.890176).  Saving model ...\n",
            "Epoch 13: loss_train 0.7595923831216013, loss_val 0.8881891491738233\n",
            "Validation loss decreased (0.890176 --> 0.888189).  Saving model ...\n",
            "Epoch 14: loss_train 0.7539535370288473, loss_val 0.8862546926194971\n",
            "Validation loss decreased (0.888189 --> 0.886255).  Saving model ...\n",
            "Epoch 15: loss_train 0.7479955474234591, loss_val 0.8846129700541496\n",
            "Validation loss decreased (0.886255 --> 0.884613).  Saving model ...\n",
            "Epoch 16: loss_train 0.7418007727975797, loss_val 0.882810965180397\n",
            "Validation loss decreased (0.884613 --> 0.882811).  Saving model ...\n",
            "Epoch 17: loss_train 0.7350971044012995, loss_val 0.8805881637063894\n",
            "Validation loss decreased (0.882811 --> 0.880588).  Saving model ...\n",
            "Epoch 18: loss_train 0.7277992463322601, loss_val 0.8790173584764654\n",
            "Validation loss decreased (0.880588 --> 0.879017).  Saving model ...\n",
            "Epoch 19: loss_train 0.7201956873289262, loss_val 0.8767611553723161\n",
            "Validation loss decreased (0.879017 --> 0.876761).  Saving model ...\n",
            "Epoch 20: loss_train 0.7124468800846977, loss_val 0.8745555484836752\n",
            "Validation loss decreased (0.876761 --> 0.874556).  Saving model ...\n",
            "Epoch 21: loss_train 0.7039303370948994, loss_val 0.8726137829097834\n",
            "Validation loss decreased (0.874556 --> 0.872614).  Saving model ...\n",
            "Epoch 22: loss_train 0.695310603037025, loss_val 0.8706624805927277\n",
            "Validation loss decreased (0.872614 --> 0.870662).  Saving model ...\n",
            "Epoch 23: loss_train 0.6864796212375767, loss_val 0.8684665743600238\n",
            "Validation loss decreased (0.870662 --> 0.868467).  Saving model ...\n",
            "Epoch 24: loss_train 0.6775287736696426, loss_val 0.867087496952577\n",
            "Validation loss decreased (0.868467 --> 0.867087).  Saving model ...\n",
            "Epoch 25: loss_train 0.6685693334750454, loss_val 0.86519974402406\n",
            "Validation loss decreased (0.867087 --> 0.865200).  Saving model ...\n",
            "Epoch 26: loss_train 0.6591259505261075, loss_val 0.8634879907423799\n",
            "Validation loss decreased (0.865200 --> 0.863488).  Saving model ...\n",
            "Epoch 27: loss_train 0.6497862149368633, loss_val 0.8621722012758255\n",
            "Validation loss decreased (0.863488 --> 0.862172).  Saving model ...\n",
            "Epoch 28: loss_train 0.6407075832889537, loss_val 0.8612275922840292\n",
            "Validation loss decreased (0.862172 --> 0.861228).  Saving model ...\n",
            "Epoch 29: loss_train 0.6314008019187234, loss_val 0.8601700209758498\n",
            "Validation loss decreased (0.861228 --> 0.860170).  Saving model ...\n",
            "Epoch 30: loss_train 0.6221073962973825, loss_val 0.859442415562543\n",
            "Validation loss decreased (0.860170 --> 0.859442).  Saving model ...\n",
            "Epoch 31: loss_train 0.613112743228975, loss_val 0.858846286481077\n",
            "Validation loss decreased (0.859442 --> 0.858846).  Saving model ...\n",
            "Epoch 32: loss_train 0.6038920669393106, loss_val 0.8586424385959451\n",
            "Validation loss decreased (0.858846 --> 0.858642).  Saving model ...\n",
            "Epoch 33: loss_train 0.5947752582906473, loss_val 0.8588758869604631\n",
            "Epoch 34: loss_train 0.5861357579177077, loss_val 0.8586977225812998\n",
            "Epoch 35: loss_train 0.5774779883824815, loss_val 0.8591044321656227\n",
            "Epoch 36: loss_train 0.5687885270124734, loss_val 0.8594360913742672\n",
            "Epoch 37: loss_train 0.5606422213216623, loss_val 0.8604738901961934\n",
            "Epoch 38: loss_train 0.5525125807358159, loss_val 0.8614115647294305\n",
            "Epoch 39: loss_train 0.5448739235900869, loss_val 0.8620576330206611\n",
            "Epoch 40: loss_train 0.5372528123735177, loss_val 0.8636435121297836\n",
            "Epoch 41: loss_train 0.5299846234571453, loss_val 0.8649607036601413\n",
            "Epoch 42: loss_train 0.5231768817386844, loss_val 0.866321475668387\n",
            "Epoch 43: loss_train 0.5165222948322995, loss_val 0.8680111731995236\n",
            "Epoch 44: loss_train 0.5102296696994642, loss_val 0.8698028867894952\n",
            "Epoch 45: loss_train 0.5042962712621448, loss_val 0.8716744468970732\n",
            "Epoch 46: loss_train 0.4983441447368776, loss_val 0.8734895607287233\n",
            "Epoch 47: loss_train 0.492957785800852, loss_val 0.8756381063298746\n",
            "Epoch 48: loss_train 0.4877720632863165, loss_val 0.8775327361442826\n",
            "Epoch 49: loss_train 0.4829170329101158, loss_val 0.8792380433190953\n",
            "Epoch 50: loss_train 0.4782673213819061, loss_val 0.8816729289564219\n",
            "Epoch 51: loss_train 0.47396211740043426, loss_val 0.8834670314734633\n",
            "Epoch 52: loss_train 0.4695612159792823, loss_val 0.88574703308669\n",
            "Epoch 53: loss_train 0.46576042232489345, loss_val 0.8878319940783761\n",
            "Epoch 54: loss_train 0.4621184802416599, loss_val 0.8894985995509408\n",
            "Epoch 55: loss_train 0.45847953035674915, loss_val 0.8917897736484354\n",
            "Epoch 56: loss_train 0.45514496596473636, loss_val 0.8936336352066561\n",
            "Epoch 57: loss_train 0.4520394079236671, loss_val 0.8953080834312872\n",
            "Epoch 58: loss_train 0.4489406134669829, loss_val 0.8975546075539156\n",
            "Epoch 59: loss_train 0.44612385494389917, loss_val 0.8994816453619436\n"
          ]
        }
      ]
    },
    {
      "cell_type": "code",
      "source": [
        "# Test the model\n",
        "test_loss_cf_pt, test_mae_cf_pt = model_cf_pt.test(test_dataloader, verbose=True)\n",
        "\n",
        "# Include the results in your report\n",
        "print(f\"Test RMSE: {np.sqrt(test_loss_cf_pt)}, Test MAE: {test_mae_cf_pt}\")"
      ],
      "metadata": {
        "colab": {
          "base_uri": "https://localhost:8080/"
        },
        "id": "zMjX0VmP6tQM",
        "outputId": "03c0e0c4-f450-436d-a41e-c92717c1fbf2"
      },
      "execution_count": 54,
      "outputs": [
        {
          "output_type": "stream",
          "name": "stdout",
          "text": [
            "RMSE: 0.9489693051598526, MAE: 0.7027544896213376\n",
            "Test RMSE: 0.9489693051598526, Test MAE: 0.7027544896213376\n"
          ]
        }
      ]
    },
    {
      "cell_type": "markdown",
      "metadata": {
        "id": "VK3KgG47V1Di"
      },
      "source": [
        "## Interpreting Biases\n",
        "\n",
        "Now you need to rank the movies according to their bias. For this, you need to recover the biases of the movies, make a list of the pairs `[name of the movie, its bias]` and then sort this list according to the biases. You can use the method sort of a list.\n",
        "\n",
        "**Exercise**: What are your top 10 movies with the largest values of movie bias? What do you think about this ranking? Include your answers in your report."
      ]
    },
    {
      "cell_type": "code",
      "execution_count": 55,
      "metadata": {
        "id": "7KDDTQfxV1Di"
      },
      "outputs": [],
      "source": [
        "#TODO: retreive the bias of the movies from your optimized model and store it in the numpy array item_bais_np\n",
        "item_bias_np = model_cf_pt._net.item_biases.cpu().weight.data.numpy()\n",
        "item_bias_np = item_bias_np.squeeze()"
      ]
    },
    {
      "cell_type": "code",
      "execution_count": 56,
      "metadata": {
        "id": "VgHLnzpQyS9B"
      },
      "outputs": [],
      "source": [
        "# construct a dictionary that maps item_num to item_name, and vice versa\n",
        "numitem_2_name = {i:name for name,i in np.asarray(all_ratings[['item_name', 'item_num']])}\n",
        "name_2_numitem = {name:i for name,i in np.asarray(all_ratings[['item_name', 'item_num']])}"
      ]
    },
    {
      "cell_type": "code",
      "execution_count": 57,
      "metadata": {
        "id": "ciREXjeuyS9B"
      },
      "outputs": [],
      "source": [
        "# Construct a list of movie names and the corresponding bias.\n",
        "list_name_bias = [[name, item_bias_np[name_2_numitem[name]]] for name in list(ratings_train['item_name'].unique())]"
      ]
    },
    {
      "cell_type": "code",
      "execution_count": 58,
      "metadata": {
        "id": "pe-H03pUyS9C",
        "colab": {
          "base_uri": "https://localhost:8080/"
        },
        "outputId": "25a7a734-ee6d-436f-c41e-e2a070bbea3e"
      },
      "outputs": [
        {
          "output_type": "execute_result",
          "data": {
            "text/plain": [
              "[['Shawshank Redemption, The (1994)', 0.93047535],\n",
              " ['Star Wars: Episode IV - A New Hope (1977)', 0.90628374],\n",
              " ['Raiders of the Lost Ark (1981)', 0.8904129],\n",
              " ['Sixth Sense, The (1999)', 0.88602823],\n",
              " [\"Schindler's List (1993)\", 0.8849474],\n",
              " ['Godfather, The (1972)', 0.86447656],\n",
              " ['Usual Suspects, The (1995)', 0.84592587],\n",
              " ['Wrong Trousers, The (1993)', 0.80962205],\n",
              " ['Rear Window (1954)', 0.7753089],\n",
              " ['Silence of the Lambs, The (1991)', 0.7645593]]"
            ]
          },
          "metadata": {},
          "execution_count": 58
        }
      ],
      "source": [
        "#TODO: sort the movie names by biases and output the top 10 movie names with the largest biases.\n",
        "# your code\n",
        "sort_list = sorted(list_name_bias, key = lambda x: x[1], reverse =True)[:10]\n",
        "sort_list"
      ]
    },
    {
      "cell_type": "markdown",
      "metadata": {
        "id": "Dc1ZKW9XV1Dl"
      },
      "source": [
        "## PCA of movies' embeddings\n",
        "\n",
        "Now you can also play with the embeddings learned by your algorithm for the movies.\n",
        "\n",
        "It is not quite so easy to directly interpret the embedding matrices. There are just too many factors for a human to look at. But there is a technique that can pull out the most important underlying *directions* in such a matrix, called *principal component analysis* (PCA). We will not be going into this in detail in this class, because it is not particularly important for you to understand to be a deep learning practitioner. We can visualize the movie embeddings based on two of the strongest PCA components."
      ]
    },
    {
      "cell_type": "markdown",
      "source": [
        "**Exercise**: Do you observe anything interesting from the movie embeddings? Include the plot of the movie embeddings and your answer in your report."
      ],
      "metadata": {
        "id": "6audyNC7RxzP"
      }
    },
    {
      "cell_type": "code",
      "execution_count": 59,
      "metadata": {
        "id": "HX37hFDsV1Dl"
      },
      "outputs": [],
      "source": [
        "from sklearn.decomposition import PCA\n",
        "from operator import itemgetter"
      ]
    },
    {
      "cell_type": "code",
      "execution_count": 60,
      "metadata": {
        "id": "J3JKToYkyS9D"
      },
      "outputs": [],
      "source": [
        "#TODO: retrive your movie embedding vectors and store them as a numpy matrix\n",
        "item_emb_np = model_cf_pt._net.item_embeddings.cpu().weight.data.numpy()"
      ]
    },
    {
      "cell_type": "code",
      "execution_count": 61,
      "metadata": {
        "id": "ICTZZA_ryS9E"
      },
      "outputs": [],
      "source": [
        "#Here we perform PCA to extract the 4 principal components\n",
        "pca = PCA(n_components=4)\n",
        "latent_fac = pca.fit_transform(item_emb_np)"
      ]
    },
    {
      "cell_type": "code",
      "source": [
        "latent_fac.shape"
      ],
      "metadata": {
        "colab": {
          "base_uri": "https://localhost:8080/"
        },
        "id": "GwqHgzIzZPuy",
        "outputId": "34b7a6a0-f933-407c-d091-f6e534f6d79e"
      },
      "execution_count": 62,
      "outputs": [
        {
          "output_type": "execute_result",
          "data": {
            "text/plain": [
              "(3706, 4)"
            ]
          },
          "metadata": {},
          "execution_count": 62
        }
      ]
    },
    {
      "cell_type": "code",
      "source": [
        "item_emb_np.shape"
      ],
      "metadata": {
        "colab": {
          "base_uri": "https://localhost:8080/"
        },
        "id": "r9oqAo_eZYKs",
        "outputId": "de37b0ed-b950-4cc2-c6e1-41949b3fe6f9"
      },
      "execution_count": 63,
      "outputs": [
        {
          "output_type": "execute_result",
          "data": {
            "text/plain": [
              "(3706, 32)"
            ]
          },
          "metadata": {},
          "execution_count": 63
        }
      ]
    },
    {
      "cell_type": "markdown",
      "source": [
        "Next, we plot the embeddings of the top 80 mostly rated movies using the second and third principal components."
      ],
      "metadata": {
        "id": "xVeF3WyEU4zk"
      }
    },
    {
      "cell_type": "code",
      "source": [
        "#Here we get the top 1000 mostly rated movies\n",
        "g = all_ratings.groupby('item_name')['ratings'].count()\n",
        "most_rated_movies = g.sort_values(ascending=False).index.values[:1000]\n",
        "# we get the corresponding movie numbers\n",
        "most_rated_movies_num = [name_2_numitem[n] for n in most_rated_movies]"
      ],
      "metadata": {
        "id": "sXY9VbTTU4Hj"
      },
      "execution_count": 64,
      "outputs": []
    },
    {
      "cell_type": "code",
      "execution_count": 65,
      "metadata": {
        "id": "9ExxO9aTyS9F",
        "colab": {
          "base_uri": "https://localhost:8080/",
          "height": 948
        },
        "outputId": "48481488-5fdf-44a9-d958-32d5fd769daf"
      },
      "outputs": [
        {
          "output_type": "display_data",
          "data": {
            "text/plain": [
              "<Figure size 1500x1500 with 1 Axes>"
            ],
            "image/png": "[encoded data removed]"
          },
          "metadata": {}
        }
      ],
      "source": [
        "nums = most_rated_movies_num[:80]\n",
        "txt_movies_names = [numitem_2_name[i] for i in nums]\n",
        "X = latent_fac[nums,1]\n",
        "Y = latent_fac[nums,2]\n",
        "plt.figure(figsize=(15,15))\n",
        "plt.scatter(X, Y)\n",
        "for i, x, y in zip(txt_movies_names, X, Y):\n",
        "    plt.text(x+0.01,y-0.01,i, fontsize=11)\n",
        "plt.show()"
      ]
    },
    {
      "cell_type": "markdown",
      "source": [
        "## Predict your own ratings\n",
        "\n",
        "Now that we have succesfully trained a model, let's see how to deal with the situation where we have a new user. How can we make recommendations to new users?\n",
        "\n",
        "It turns out that we can utilize the learned movie embedding vectors to estimate new users' embedding vector, based on a few ratings from them. You may have noticed that when you sign up for services such as Pandora and Netflix, they tend to ask you a few questions about what movie or music you like; this is how they come up with your initial collaborative filtering recommendations.\n",
        "\n",
        "\n",
        "- First, give 40 ratings between 1-5 to the movies that your team watched before among the mostly rated movies;"
      ],
      "metadata": {
        "id": "4Zcau6EUUURG"
      }
    },
    {
      "cell_type": "code",
      "source": [
        "import random\n",
        "random.seed(40)\n",
        "selected_items = random.sample(nums, 40)\n",
        "rate = {}\n",
        "for item in selected_items:\n",
        "  try:\n",
        "    rate[item] =  random.randint(2, 4)\n",
        "  except:\n",
        "    continue\n",
        "rate\n",
        "my_ratings = rate\n",
        "my_ratings"
      ],
      "metadata": {
        "id": "oGZfqlMW-EtT",
        "colab": {
          "base_uri": "https://localhost:8080/"
        },
        "outputId": "c396f529-9534-4f1b-e42a-4cd9779249a0"
      },
      "execution_count": 66,
      "outputs": [
        {
          "output_type": "execute_result",
          "data": {
            "text/plain": [
              "{2898: 2,\n",
              " 1275: 4,\n",
              " 1993: 3,\n",
              " 466: 4,\n",
              " 2708: 3,\n",
              " 2775: 3,\n",
              " 2511: 2,\n",
              " 1107: 4,\n",
              " 858: 2,\n",
              " 527: 3,\n",
              " 1820: 3,\n",
              " 1120: 4,\n",
              " 578: 2,\n",
              " 3238: 2,\n",
              " 2374: 4,\n",
              " 346: 2,\n",
              " 1445: 4,\n",
              " 367: 4,\n",
              " 1574: 2,\n",
              " 2592: 2,\n",
              " 1108: 3,\n",
              " 851: 4,\n",
              " 49: 3,\n",
              " 1025: 2,\n",
              " 3550: 2,\n",
              " 31: 2,\n",
              " 2099: 3,\n",
              " 579: 3,\n",
              " 627: 2,\n",
              " 443: 3,\n",
              " 1104: 4,\n",
              " 3341: 3,\n",
              " 575: 4,\n",
              " 2748: 3,\n",
              " 1563: 3,\n",
              " 1478: 4,\n",
              " 2426: 4,\n",
              " 106: 2,\n",
              " 1123: 2,\n",
              " 1173: 2}"
            ]
          },
          "metadata": {},
          "execution_count": 66
        }
      ]
    },
    {
      "cell_type": "markdown",
      "source": [
        "\n",
        "- Second, compute your own embedding vector `my_emb_np` and `my_emb_bias` by running an ordinary least squares with L_2 regularization based on your ratings and the previously computed movie embedding vectors. In other words, `item_emb_np` is the co-variate and your own 40 ratings are the response.\n",
        "\n",
        "  Hint: you may use the [ridge regression (linear regression with L2 regularization)](https://scikit-learn.org/stable/modules/generated/sklearn.linear_model.Ridge.html) in the sklearn package."
      ],
      "metadata": {
        "id": "FQjezgMJzKuL"
      }
    },
    {
      "cell_type": "code",
      "source": [
        "from sklearn.linear_model import Ridge\n",
        "import numpy as np\n",
        "\n",
        "device = torch.device('cuda:0' if torch.cuda.is_available() else 'cpu')\n",
        "\n",
        "movie_ids = list(my_ratings.keys())\n",
        "user_ratings = list(my_ratings.values())\n",
        "\n",
        "model_pred = FactorizationModel(\n",
        "    embedding_dim=32,\n",
        "    n_iter=60,\n",
        "    learning_rate=0.0005,\n",
        "    num_users=total_user_id,\n",
        "    num_items=total_item_id)\n",
        "model_pred._initialize()\n",
        "model_pred._net.load_state_dict(torch.load('best_model.pth'))\n",
        "\n",
        "model_pred = model_pred._net.to(device)\n",
        "movie_ids_tensor = torch.tensor(movie_ids).to(device)\n",
        "\n",
        "X = np.array([model_pred.item_embeddings(movie_id).cpu().detach().numpy() for movie_id in movie_ids_tensor])\n",
        "y_tensor = torch.tensor(user_ratings).to(device)\n",
        "\n",
        "model = Ridge(alpha=1.0)\n",
        "model.fit(X, y_tensor.cpu().numpy())\n",
        "\n",
        "my_emb_np = model.coef_    # 32\n",
        "my_emb_bias = model.intercept_ # 1"
      ],
      "metadata": {
        "id": "YRF6EH3y-JSu"
      },
      "execution_count": 67,
      "outputs": []
    },
    {
      "cell_type": "markdown",
      "source": [
        "-  Then compute the predicted ratings for all movies using your embedding vectors and biases, together with the movie embedding vectors and biases."
      ],
      "metadata": {
        "id": "rweDLiwXeE53"
      }
    },
    {
      "cell_type": "code",
      "source": [
        "device = torch.device('cuda:0' if torch.cuda.is_available() else 'cpu')\n",
        "\n",
        "user_embeds = torch.tensor(my_emb_np).to(device)\n",
        "user_bias = torch.tensor(my_emb_bias).to(device)\n",
        "\n",
        "result = {}\n",
        "\n",
        "g = all_ratings.groupby('item_name')['ratings'].count()\n",
        "most_rated_movies = g.sort_values(ascending=False).index.values\n",
        "all_mov = [name_2_numitem[n] for n in most_rated_movies]\n",
        "\n",
        "for item_id in all_mov:\n",
        "    item_id_tensor = torch.tensor([item_id]).to(device)\n",
        "    item_embeds = model_pred.item_embeddings(item_id_tensor).to(device)\n",
        "    item_bias = model_pred.item_biases(item_id_tensor).to(device)\n",
        "\n",
        "    result[item_id] = torch.sum(user_embeds * item_embeds, dim=1) + user_bias + item_bias\n",
        "\n",
        "result = {numitem_2_name[item_id]: score.item() for item_id, score in result.items()}\n",
        "\n",
        "len(result)"
      ],
      "metadata": {
        "id": "jN4GobDrHwvA",
        "colab": {
          "base_uri": "https://localhost:8080/"
        },
        "outputId": "01fd4c30-554b-400b-aa22-65b638f7aa46"
      },
      "execution_count": 68,
      "outputs": [
        {
          "output_type": "execute_result",
          "data": {
            "text/plain": [
              "3706"
            ]
          },
          "metadata": {},
          "execution_count": 68
        }
      ]
    },
    {
      "cell_type": "markdown",
      "source": [
        "- Finally, among all movies that you haven't rated, output the top 10 movies with the highest predicted ratings."
      ],
      "metadata": {
        "id": "cmuoQ966z9EQ"
      }
    },
    {
      "cell_type": "code",
      "source": [
        "# output the top 10 movies with the highest predicted ratings.\n",
        "High_10_mov = []\n",
        "sorted_items = sorted(result.items(), key=lambda item: item[1], reverse = True)\n",
        "cnt,i = 0,0\n",
        "while cnt < 10:\n",
        "  if name_2_numitem[sorted_items[i][0]] not in my_ratings.keys():\n",
        "    High_10_mov.append(sorted_items[i][0])\n",
        "    cnt += 1\n",
        "  i += 1\n",
        "  # print(i)\n",
        "High_10_mov"
      ],
      "metadata": {
        "id": "pDYEImAIjI-H",
        "colab": {
          "base_uri": "https://localhost:8080/"
        },
        "outputId": "0bdcd8b1-a543-4f8f-f399-42798295b0af"
      },
      "execution_count": 69,
      "outputs": [
        {
          "output_type": "execute_result",
          "data": {
            "text/plain": [
              "['Star Wars: Episode IV - A New Hope (1977)',\n",
              " 'Terminator, The (1984)',\n",
              " 'Lake Placid (1999)',\n",
              " 'Star Wars: Episode V - The Empire Strikes Back (1980)',\n",
              " 'Mission: Impossible 2 (2000)',\n",
              " 'L.A. Confidential (1997)',\n",
              " 'World Is Not Enough, The (1999)',\n",
              " 'Mystery Men (1999)',\n",
              " 'Space Cowboys (2000)',\n",
              " 'Entrapment (1999)']"
            ]
          },
          "metadata": {},
          "execution_count": 69
        }
      ]
    },
    {
      "cell_type": "markdown",
      "source": [
        "**Question**: How do you feel about the predicted ratings? Do you like these top 10 movies? Include your answer in your report."
      ],
      "metadata": {
        "id": "FZ20yUNHk_7Y"
      }
    },
    {
      "cell_type": "markdown",
      "source": [
        "---\n",
        "## Movie valuation\n",
        "\n",
        "The rating data provided the company like Netflix information about the value of a movie that was not available to movie production studios. The collaborative filting algorithm allows Netflix to accurately value the content in a data-driven manner. For example, if Netflix were offered the opportunity to license *Toy Story (1995)*, it would need to provide Disney an initial quote of the license fee. Traditional methods suggest looking at box office returns of *Toy Story* franchise and projecting the potential value of the film.\n",
        "\n",
        "In this following, we will explore a novel approach to determine the valuation of a movie based on the predicted ratings. We make the following simplifying assumpitons (Note that these assumptions can be certainly relaxed with more complicated procedures and data):\n",
        "\n",
        "- **Netflix are focusing on the top 1000 active users and 1000 popular movies (with the most number of observed ratings).** In other words, in the following movie valuation calculation, we just consider the top 1000 activie users and 1000 popular movies, disregarding the rest.\n",
        "\n",
        "- For each user, the total amount of viewing time is proportional to the number of observed ratings. In other words, more active users spend more time on Netflix;\n",
        "\n",
        "- For each given user, the viewing time across different movies follow a [Zipf's law](https://en.wikipedia.org/wiki/Zipf%27s_law), that is\n",
        "\n",
        "  $$\n",
        "    \\text{Viewtime of movie $i$} \\propto \\frac{1}{\\text{rank of } i }\n",
        "  $$\n",
        "  Here the rank of $i$ is determined by sorting the **predicted rating** of movie $i$ by the user in descending order. In other words, the user spend less time on watching movies with lower ratings.\n",
        "\n",
        "- Netflix has a fixed total budget of 1 Billion dollars to license the content;\n",
        "\n",
        "- Netflix estimates the value of a movie based on the expected share of customer viewing time of the movie on its platform:\n",
        "$$\n",
        "\\text{Value of a movie $i$ } = \\frac{\\text{View time of movie $i$ of all users}}{\\text{Total view time of all users} } \\times \\text{Total content license budget}\n",
        "$$"
      ],
      "metadata": {
        "id": "Z7fPfgNBoFT7"
      }
    },
    {
      "cell_type": "markdown",
      "source": [
        "\n",
        "### Compute the value of each movie"
      ],
      "metadata": {
        "id": "p7nNaeIJrxKA"
      }
    },
    {
      "cell_type": "code",
      "source": [
        "# Get indices for top 1000 active users and top 1000 mostly rated movies\n",
        "top1000_user_num = pd.Series(all_ratings[\"user_num\"].value_counts()[:1000].index, name=\"user_num\")\n",
        "top1000_item_num = pd.Series(all_ratings[\"item_num\"].value_counts()[:1000].index, name=\"item_num\")\n",
        "# Construct dataframes for storing predicted ratings\n",
        "pred_ratings = pd.merge(top1000_user_num, top1000_item_num, how=\"cross\")\n",
        "cartesian_user_num = torch.from_numpy(np.asarray(pred_ratings[\"user_num\"])).to(device)\n",
        "cartesian_item_num = torch.from_numpy(np.asarray(pred_ratings[\"item_num\"])).to(device)"
      ],
      "metadata": {
        "id": "z_C67BTjrSDc"
      },
      "execution_count": 70,
      "outputs": []
    },
    {
      "cell_type": "code",
      "source": [
        "pred_ratings.head()"
      ],
      "metadata": {
        "id": "6_u71ReKG-_2",
        "colab": {
          "base_uri": "https://localhost:8080/",
          "height": 206
        },
        "outputId": "1ea915d7-1899-4f73-fb29-4dde765d787a"
      },
      "execution_count": 71,
      "outputs": [
        {
          "output_type": "execute_result",
          "data": {
            "text/plain": [
              "   user_num  item_num\n",
              "0      4168      2651\n",
              "1      4168       253\n",
              "2      4168      1106\n",
              "3      4168      1120\n",
              "4      4168       466"
            ],
            "text/html": [
              "\n",
              "  <div id=\"df-b7a8aad6-8f83-407e-9294-fed7c933b979\" class=\"colab-df-container\">\n",
              "    <div>\n",
              "<style scoped>\n",
              "    .dataframe tbody tr th:only-of-type {\n",
              "        vertical-align: middle;\n",
              "    }\n",
              "\n",
              "    .dataframe tbody tr th {\n",
              "        vertical-align: top;\n",
              "    }\n",
              "\n",
              "    .dataframe thead th {\n",
              "        text-align: right;\n",
              "    }\n",
              "</style>\n",
              "<table border=\"1\" class=\"dataframe\">\n",
              "  <thead>\n",
              "    <tr style=\"text-align: right;\">\n",
              "      <th></th>\n",
              "      <th>user_num</th>\n",
              "      <th>item_num</th>\n",
              "    </tr>\n",
              "  </thead>\n",
              "  <tbody>\n",
              "    <tr>\n",
              "      <th>0</th>\n",
              "      <td>4168</td>\n",
              "      <td>2651</td>\n",
              "    </tr>\n",
              "    <tr>\n",
              "      <th>1</th>\n",
              "      <td>4168</td>\n",
              "      <td>253</td>\n",
              "    </tr>\n",
              "    <tr>\n",
              "      <th>2</th>\n",
              "      <td>4168</td>\n",
              "      <td>1106</td>\n",
              "    </tr>\n",
              "    <tr>\n",
              "      <th>3</th>\n",
              "      <td>4168</td>\n",
              "      <td>1120</td>\n",
              "    </tr>\n",
              "    <tr>\n",
              "      <th>4</th>\n",
              "      <td>4168</td>\n",
              "      <td>466</td>\n",
              "    </tr>\n",
              "  </tbody>\n",
              "</table>\n",
              "</div>\n",
              "    <div class=\"colab-df-buttons\">\n",
              "\n",
              "  <div class=\"colab-df-container\">\n",
              "    <button class=\"colab-df-convert\" onclick=\"convertToInteractive('df-b7a8aad6-8f83-407e-9294-fed7c933b979')\"\n",
              "            title=\"Convert this dataframe to an interactive table.\"\n",
              "            style=\"display:none;\">\n",
              "\n",
              "  <svg xmlns=\"http://www.w3.org/2000/svg\" height=\"24px\" viewBox=\"0 -960 960 960\">\n",
              "    <path d=\"M120-120v-720h720v720H120Zm60-500h600v-160H180v160Zm220 220h160v-160H400v160Zm0 220h160v-160H400v160ZM180-400h160v-160H180v160Zm440 0h160v-160H620v160ZM180-180h160v-160H180v160Zm440 0h160v-160H620v160Z\"/>\n",
              "  </svg>\n",
              "    </button>\n",
              "\n",
              "  <style>\n",
              "    .colab-df-container {\n",
              "      display:flex;\n",
              "      gap: 12px;\n",
              "    }\n",
              "\n",
              "    .colab-df-convert {\n",
              "      background-color: #E8F0FE;\n",
              "      border: none;\n",
              "      border-radius: 50%;\n",
              "      cursor: pointer;\n",
              "      display: none;\n",
              "      fill: #1967D2;\n",
              "      height: 32px;\n",
              "      padding: 0 0 0 0;\n",
              "      width: 32px;\n",
              "    }\n",
              "\n",
              "    .colab-df-convert:hover {\n",
              "      background-color: #E2EBFA;\n",
              "      box-shadow: 0px 1px 2px rgba(60, 64, 67, 0.3), 0px 1px 3px 1px rgba(60, 64, 67, 0.15);\n",
              "      fill: #174EA6;\n",
              "    }\n",
              "\n",
              "    .colab-df-buttons div {\n",
              "      margin-bottom: 4px;\n",
              "    }\n",
              "\n",
              "    [theme=dark] .colab-df-convert {\n",
              "      background-color: #3B4455;\n",
              "      fill: #D2E3FC;\n",
              "    }\n",
              "\n",
              "    [theme=dark] .colab-df-convert:hover {\n",
              "      background-color: #434B5C;\n",
              "      box-shadow: 0px 1px 3px 1px rgba(0, 0, 0, 0.15);\n",
              "      filter: drop-shadow(0px 1px 2px rgba(0, 0, 0, 0.3));\n",
              "      fill: #FFFFFF;\n",
              "    }\n",
              "  </style>\n",
              "\n",
              "    <script>\n",
              "      const buttonEl =\n",
              "        document.querySelector('#df-b7a8aad6-8f83-407e-9294-fed7c933b979 button.colab-df-convert');\n",
              "      buttonEl.style.display =\n",
              "        google.colab.kernel.accessAllowed ? 'block' : 'none';\n",
              "\n",
              "      async function convertToInteractive(key) {\n",
              "        const element = document.querySelector('#df-b7a8aad6-8f83-407e-9294-fed7c933b979');\n",
              "        const dataTable =\n",
              "          await google.colab.kernel.invokeFunction('convertToInteractive',\n",
              "                                                    [key], {});\n",
              "        if (!dataTable) return;\n",
              "\n",
              "        const docLinkHtml = 'Like what you see? Visit the ' +\n",
              "          '<a target=\"_blank\" href=https://colab.research.google.com/notebooks/data_table.ipynb>data table notebook</a>'\n",
              "          + ' to learn more about interactive tables.';\n",
              "        element.innerHTML = '';\n",
              "        dataTable['output_type'] = 'display_data';\n",
              "        await google.colab.output.renderOutput(dataTable, element);\n",
              "        const docLink = document.createElement('div');\n",
              "        docLink.innerHTML = docLinkHtml;\n",
              "        element.appendChild(docLink);\n",
              "      }\n",
              "    </script>\n",
              "  </div>\n",
              "\n",
              "\n",
              "<div id=\"df-57ba80be-4356-4d7c-a7ac-d357bdc8dc73\">\n",
              "  <button class=\"colab-df-quickchart\" onclick=\"quickchart('df-57ba80be-4356-4d7c-a7ac-d357bdc8dc73')\"\n",
              "            title=\"Suggest charts\"\n",
              "            style=\"display:none;\">\n",
              "\n",
              "<svg xmlns=\"http://www.w3.org/2000/svg\" height=\"24px\"viewBox=\"0 0 24 24\"\n",
              "     width=\"24px\">\n",
              "    <g>\n",
              "        <path d=\"M19 3H5c-1.1 0-2 .9-2 2v14c0 1.1.9 2 2 2h14c1.1 0 2-.9 2-2V5c0-1.1-.9-2-2-2zM9 17H7v-7h2v7zm4 0h-2V7h2v10zm4 0h-2v-4h2v4z\"/>\n",
              "    </g>\n",
              "</svg>\n",
              "  </button>\n",
              "\n",
              "<style>\n",
              "  .colab-df-quickchart {\n",
              "      --bg-color: #E8F0FE;\n",
              "      --fill-color: #1967D2;\n",
              "      --hover-bg-color: #E2EBFA;\n",
              "      --hover-fill-color: #174EA6;\n",
              "      --disabled-fill-color: #AAA;\n",
              "      --disabled-bg-color: #DDD;\n",
              "  }\n",
              "\n",
              "  [theme=dark] .colab-df-quickchart {\n",
              "      --bg-color: #3B4455;\n",
              "      --fill-color: #D2E3FC;\n",
              "      --hover-bg-color: #434B5C;\n",
              "      --hover-fill-color: #FFFFFF;\n",
              "      --disabled-bg-color: #3B4455;\n",
              "      --disabled-fill-color: #666;\n",
              "  }\n",
              "\n",
              "  .colab-df-quickchart {\n",
              "    background-color: var(--bg-color);\n",
              "    border: none;\n",
              "    border-radius: 50%;\n",
              "    cursor: pointer;\n",
              "    display: none;\n",
              "    fill: var(--fill-color);\n",
              "    height: 32px;\n",
              "    padding: 0;\n",
              "    width: 32px;\n",
              "  }\n",
              "\n",
              "  .colab-df-quickchart:hover {\n",
              "    background-color: var(--hover-bg-color);\n",
              "    box-shadow: 0 1px 2px rgba(60, 64, 67, 0.3), 0 1px 3px 1px rgba(60, 64, 67, 0.15);\n",
              "    fill: var(--button-hover-fill-color);\n",
              "  }\n",
              "\n",
              "  .colab-df-quickchart-complete:disabled,\n",
              "  .colab-df-quickchart-complete:disabled:hover {\n",
              "    background-color: var(--disabled-bg-color);\n",
              "    fill: var(--disabled-fill-color);\n",
              "    box-shadow: none;\n",
              "  }\n",
              "\n",
              "  .colab-df-spinner {\n",
              "    border: 2px solid var(--fill-color);\n",
              "    border-color: transparent;\n",
              "    border-bottom-color: var(--fill-color);\n",
              "    animation:\n",
              "      spin 1s steps(1) infinite;\n",
              "  }\n",
              "\n",
              "  @keyframes spin {\n",
              "    0% {\n",
              "      border-color: transparent;\n",
              "      border-bottom-color: var(--fill-color);\n",
              "      border-left-color: var(--fill-color);\n",
              "    }\n",
              "    20% {\n",
              "      border-color: transparent;\n",
              "      border-left-color: var(--fill-color);\n",
              "      border-top-color: var(--fill-color);\n",
              "    }\n",
              "    30% {\n",
              "      border-color: transparent;\n",
              "      border-left-color: var(--fill-color);\n",
              "      border-top-color: var(--fill-color);\n",
              "      border-right-color: var(--fill-color);\n",
              "    }\n",
              "    40% {\n",
              "      border-color: transparent;\n",
              "      border-right-color: var(--fill-color);\n",
              "      border-top-color: var(--fill-color);\n",
              "    }\n",
              "    60% {\n",
              "      border-color: transparent;\n",
              "      border-right-color: var(--fill-color);\n",
              "    }\n",
              "    80% {\n",
              "      border-color: transparent;\n",
              "      border-right-color: var(--fill-color);\n",
              "      border-bottom-color: var(--fill-color);\n",
              "    }\n",
              "    90% {\n",
              "      border-color: transparent;\n",
              "      border-bottom-color: var(--fill-color);\n",
              "    }\n",
              "  }\n",
              "</style>\n",
              "\n",
              "  <script>\n",
              "    async function quickchart(key) {\n",
              "      const quickchartButtonEl =\n",
              "        document.querySelector('#' + key + ' button');\n",
              "      quickchartButtonEl.disabled = true;  // To prevent multiple clicks.\n",
              "      quickchartButtonEl.classList.add('colab-df-spinner');\n",
              "      try {\n",
              "        const charts = await google.colab.kernel.invokeFunction(\n",
              "            'suggestCharts', [key], {});\n",
              "      } catch (error) {\n",
              "        console.error('Error during call to suggestCharts:', error);\n",
              "      }\n",
              "      quickchartButtonEl.classList.remove('colab-df-spinner');\n",
              "      quickchartButtonEl.classList.add('colab-df-quickchart-complete');\n",
              "    }\n",
              "    (() => {\n",
              "      let quickchartButtonEl =\n",
              "        document.querySelector('#df-57ba80be-4356-4d7c-a7ac-d357bdc8dc73 button');\n",
              "      quickchartButtonEl.style.display =\n",
              "        google.colab.kernel.accessAllowed ? 'block' : 'none';\n",
              "    })();\n",
              "  </script>\n",
              "</div>\n",
              "    </div>\n",
              "  </div>\n"
            ]
          },
          "metadata": {},
          "execution_count": 71
        }
      ]
    },
    {
      "cell_type": "code",
      "source": [
        "# sanity check: # of rows in pred_ratings == # of active users (1000) x # of popular items (1000)\n",
        "pred_ratings.shape[0] == 1000 * 1000"
      ],
      "metadata": {
        "id": "6Iga7-hsbB28",
        "colab": {
          "base_uri": "https://localhost:8080/"
        },
        "outputId": "d8684d86-c23f-46e4-913e-fdffe3223cf8"
      },
      "execution_count": 72,
      "outputs": [
        {
          "output_type": "execute_result",
          "data": {
            "text/plain": [
              "True"
            ]
          },
          "metadata": {},
          "execution_count": 72
        }
      ]
    },
    {
      "cell_type": "code",
      "source": [
        "#TODO: use your optimized model to compute the predicted ratings among the top 1000 active users and top 1000 popular movies\n",
        "\n",
        "# Get the embedding vectors for users and items\n",
        "model_pred = FactorizationModel(\n",
        "    embedding_dim=32,\n",
        "    n_iter=60,\n",
        "    learning_rate=0.0005,\n",
        "    num_users=total_user_id,\n",
        "    num_items=total_item_id)\n",
        "model_pred._initialize()\n",
        "model_pred._net.load_state_dict(torch.load('best_model.pth'))\n",
        "model_pred._net.eval()\n",
        "pred_ratings[\"pred_ratings\"] = model_pred._net(cartesian_user_num,cartesian_item_num).cpu().detach().numpy()"
      ],
      "metadata": {
        "id": "Kwd0kppNsy1x"
      },
      "execution_count": 73,
      "outputs": []
    },
    {
      "cell_type": "code",
      "source": [
        "# Each user's total viewtime is stored in Series user_total_viewtime\n",
        "user_total_viewtime = all_ratings[\"user_num\"].value_counts()[:1000] / all_ratings[\"user_num\"].value_counts()[:1000].sum()\n",
        "user_total_viewtime.name = \"user_total_viewtime\"\n",
        "user_total_viewtime.index.name = \"user_num\"\n",
        "pred_ratings = pd.merge(pred_ratings, user_total_viewtime, left_on=\"user_num\", right_on=\"user_num\", how=\"left\")"
      ],
      "metadata": {
        "id": "JPb_QqWnTS-p"
      },
      "execution_count": 74,
      "outputs": []
    },
    {
      "cell_type": "code",
      "source": [
        "pred_ratings.head()"
      ],
      "metadata": {
        "id": "XwtRGaxMHgX4",
        "colab": {
          "base_uri": "https://localhost:8080/",
          "height": 206
        },
        "outputId": "32e3b35f-16de-432a-a522-515a1c7f419b"
      },
      "execution_count": 75,
      "outputs": [
        {
          "output_type": "execute_result",
          "data": {
            "text/plain": [
              "   user_num  item_num  pred_ratings  user_total_viewtime\n",
              "0      4168      2651      4.960825              0.00449\n",
              "1      4168       253      5.307714              0.00449\n",
              "2      4168      1106      4.825239              0.00449\n",
              "3      4168      1120      4.307283              0.00449\n",
              "4      4168       466      4.172567              0.00449"
            ],
            "text/html": [
              "\n",
              "  <div id=\"df-67386a2f-1837-4852-9715-85e45969a41d\" class=\"colab-df-container\">\n",
              "    <div>\n",
              "<style scoped>\n",
              "    .dataframe tbody tr th:only-of-type {\n",
              "        vertical-align: middle;\n",
              "    }\n",
              "\n",
              "    .dataframe tbody tr th {\n",
              "        vertical-align: top;\n",
              "    }\n",
              "\n",
              "    .dataframe thead th {\n",
              "        text-align: right;\n",
              "    }\n",
              "</style>\n",
              "<table border=\"1\" class=\"dataframe\">\n",
              "  <thead>\n",
              "    <tr style=\"text-align: right;\">\n",
              "      <th></th>\n",
              "      <th>user_num</th>\n",
              "      <th>item_num</th>\n",
              "      <th>pred_ratings</th>\n",
              "      <th>user_total_viewtime</th>\n",
              "    </tr>\n",
              "  </thead>\n",
              "  <tbody>\n",
              "    <tr>\n",
              "      <th>0</th>\n",
              "      <td>4168</td>\n",
              "      <td>2651</td>\n",
              "      <td>4.960825</td>\n",
              "      <td>0.00449</td>\n",
              "    </tr>\n",
              "    <tr>\n",
              "      <th>1</th>\n",
              "      <td>4168</td>\n",
              "      <td>253</td>\n",
              "      <td>5.307714</td>\n",
              "      <td>0.00449</td>\n",
              "    </tr>\n",
              "    <tr>\n",
              "      <th>2</th>\n",
              "      <td>4168</td>\n",
              "      <td>1106</td>\n",
              "      <td>4.825239</td>\n",
              "      <td>0.00449</td>\n",
              "    </tr>\n",
              "    <tr>\n",
              "      <th>3</th>\n",
              "      <td>4168</td>\n",
              "      <td>1120</td>\n",
              "      <td>4.307283</td>\n",
              "      <td>0.00449</td>\n",
              "    </tr>\n",
              "    <tr>\n",
              "      <th>4</th>\n",
              "      <td>4168</td>\n",
              "      <td>466</td>\n",
              "      <td>4.172567</td>\n",
              "      <td>0.00449</td>\n",
              "    </tr>\n",
              "  </tbody>\n",
              "</table>\n",
              "</div>\n",
              "    <div class=\"colab-df-buttons\">\n",
              "\n",
              "  <div class=\"colab-df-container\">\n",
              "    <button class=\"colab-df-convert\" onclick=\"convertToInteractive('df-67386a2f-1837-4852-9715-85e45969a41d')\"\n",
              "            title=\"Convert this dataframe to an interactive table.\"\n",
              "            style=\"display:none;\">\n",
              "\n",
              "  <svg xmlns=\"http://www.w3.org/2000/svg\" height=\"24px\" viewBox=\"0 -960 960 960\">\n",
              "    <path d=\"M120-120v-720h720v720H120Zm60-500h600v-160H180v160Zm220 220h160v-160H400v160Zm0 220h160v-160H400v160ZM180-400h160v-160H180v160Zm440 0h160v-160H620v160ZM180-180h160v-160H180v160Zm440 0h160v-160H620v160Z\"/>\n",
              "  </svg>\n",
              "    </button>\n",
              "\n",
              "  <style>\n",
              "    .colab-df-container {\n",
              "      display:flex;\n",
              "      gap: 12px;\n",
              "    }\n",
              "\n",
              "    .colab-df-convert {\n",
              "      background-color: #E8F0FE;\n",
              "      border: none;\n",
              "      border-radius: 50%;\n",
              "      cursor: pointer;\n",
              "      display: none;\n",
              "      fill: #1967D2;\n",
              "      height: 32px;\n",
              "      padding: 0 0 0 0;\n",
              "      width: 32px;\n",
              "    }\n",
              "\n",
              "    .colab-df-convert:hover {\n",
              "      background-color: #E2EBFA;\n",
              "      box-shadow: 0px 1px 2px rgba(60, 64, 67, 0.3), 0px 1px 3px 1px rgba(60, 64, 67, 0.15);\n",
              "      fill: #174EA6;\n",
              "    }\n",
              "\n",
              "    .colab-df-buttons div {\n",
              "      margin-bottom: 4px;\n",
              "    }\n",
              "\n",
              "    [theme=dark] .colab-df-convert {\n",
              "      background-color: #3B4455;\n",
              "      fill: #D2E3FC;\n",
              "    }\n",
              "\n",
              "    [theme=dark] .colab-df-convert:hover {\n",
              "      background-color: #434B5C;\n",
              "      box-shadow: 0px 1px 3px 1px rgba(0, 0, 0, 0.15);\n",
              "      filter: drop-shadow(0px 1px 2px rgba(0, 0, 0, 0.3));\n",
              "      fill: #FFFFFF;\n",
              "    }\n",
              "  </style>\n",
              "\n",
              "    <script>\n",
              "      const buttonEl =\n",
              "        document.querySelector('#df-67386a2f-1837-4852-9715-85e45969a41d button.colab-df-convert');\n",
              "      buttonEl.style.display =\n",
              "        google.colab.kernel.accessAllowed ? 'block' : 'none';\n",
              "\n",
              "      async function convertToInteractive(key) {\n",
              "        const element = document.querySelector('#df-67386a2f-1837-4852-9715-85e45969a41d');\n",
              "        const dataTable =\n",
              "          await google.colab.kernel.invokeFunction('convertToInteractive',\n",
              "                                                    [key], {});\n",
              "        if (!dataTable) return;\n",
              "\n",
              "        const docLinkHtml = 'Like what you see? Visit the ' +\n",
              "          '<a target=\"_blank\" href=https://colab.research.google.com/notebooks/data_table.ipynb>data table notebook</a>'\n",
              "          + ' to learn more about interactive tables.';\n",
              "        element.innerHTML = '';\n",
              "        dataTable['output_type'] = 'display_data';\n",
              "        await google.colab.output.renderOutput(dataTable, element);\n",
              "        const docLink = document.createElement('div');\n",
              "        docLink.innerHTML = docLinkHtml;\n",
              "        element.appendChild(docLink);\n",
              "      }\n",
              "    </script>\n",
              "  </div>\n",
              "\n",
              "\n",
              "<div id=\"df-5b422c3e-9cde-4a06-901f-76cb681d9e3d\">\n",
              "  <button class=\"colab-df-quickchart\" onclick=\"quickchart('df-5b422c3e-9cde-4a06-901f-76cb681d9e3d')\"\n",
              "            title=\"Suggest charts\"\n",
              "            style=\"display:none;\">\n",
              "\n",
              "<svg xmlns=\"http://www.w3.org/2000/svg\" height=\"24px\"viewBox=\"0 0 24 24\"\n",
              "     width=\"24px\">\n",
              "    <g>\n",
              "        <path d=\"M19 3H5c-1.1 0-2 .9-2 2v14c0 1.1.9 2 2 2h14c1.1 0 2-.9 2-2V5c0-1.1-.9-2-2-2zM9 17H7v-7h2v7zm4 0h-2V7h2v10zm4 0h-2v-4h2v4z\"/>\n",
              "    </g>\n",
              "</svg>\n",
              "  </button>\n",
              "\n",
              "<style>\n",
              "  .colab-df-quickchart {\n",
              "      --bg-color: #E8F0FE;\n",
              "      --fill-color: #1967D2;\n",
              "      --hover-bg-color: #E2EBFA;\n",
              "      --hover-fill-color: #174EA6;\n",
              "      --disabled-fill-color: #AAA;\n",
              "      --disabled-bg-color: #DDD;\n",
              "  }\n",
              "\n",
              "  [theme=dark] .colab-df-quickchart {\n",
              "      --bg-color: #3B4455;\n",
              "      --fill-color: #D2E3FC;\n",
              "      --hover-bg-color: #434B5C;\n",
              "      --hover-fill-color: #FFFFFF;\n",
              "      --disabled-bg-color: #3B4455;\n",
              "      --disabled-fill-color: #666;\n",
              "  }\n",
              "\n",
              "  .colab-df-quickchart {\n",
              "    background-color: var(--bg-color);\n",
              "    border: none;\n",
              "    border-radius: 50%;\n",
              "    cursor: pointer;\n",
              "    display: none;\n",
              "    fill: var(--fill-color);\n",
              "    height: 32px;\n",
              "    padding: 0;\n",
              "    width: 32px;\n",
              "  }\n",
              "\n",
              "  .colab-df-quickchart:hover {\n",
              "    background-color: var(--hover-bg-color);\n",
              "    box-shadow: 0 1px 2px rgba(60, 64, 67, 0.3), 0 1px 3px 1px rgba(60, 64, 67, 0.15);\n",
              "    fill: var(--button-hover-fill-color);\n",
              "  }\n",
              "\n",
              "  .colab-df-quickchart-complete:disabled,\n",
              "  .colab-df-quickchart-complete:disabled:hover {\n",
              "    background-color: var(--disabled-bg-color);\n",
              "    fill: var(--disabled-fill-color);\n",
              "    box-shadow: none;\n",
              "  }\n",
              "\n",
              "  .colab-df-spinner {\n",
              "    border: 2px solid var(--fill-color);\n",
              "    border-color: transparent;\n",
              "    border-bottom-color: var(--fill-color);\n",
              "    animation:\n",
              "      spin 1s steps(1) infinite;\n",
              "  }\n",
              "\n",
              "  @keyframes spin {\n",
              "    0% {\n",
              "      border-color: transparent;\n",
              "      border-bottom-color: var(--fill-color);\n",
              "      border-left-color: var(--fill-color);\n",
              "    }\n",
              "    20% {\n",
              "      border-color: transparent;\n",
              "      border-left-color: var(--fill-color);\n",
              "      border-top-color: var(--fill-color);\n",
              "    }\n",
              "    30% {\n",
              "      border-color: transparent;\n",
              "      border-left-color: var(--fill-color);\n",
              "      border-top-color: var(--fill-color);\n",
              "      border-right-color: var(--fill-color);\n",
              "    }\n",
              "    40% {\n",
              "      border-color: transparent;\n",
              "      border-right-color: var(--fill-color);\n",
              "      border-top-color: var(--fill-color);\n",
              "    }\n",
              "    60% {\n",
              "      border-color: transparent;\n",
              "      border-right-color: var(--fill-color);\n",
              "    }\n",
              "    80% {\n",
              "      border-color: transparent;\n",
              "      border-right-color: var(--fill-color);\n",
              "      border-bottom-color: var(--fill-color);\n",
              "    }\n",
              "    90% {\n",
              "      border-color: transparent;\n",
              "      border-bottom-color: var(--fill-color);\n",
              "    }\n",
              "  }\n",
              "</style>\n",
              "\n",
              "  <script>\n",
              "    async function quickchart(key) {\n",
              "      const quickchartButtonEl =\n",
              "        document.querySelector('#' + key + ' button');\n",
              "      quickchartButtonEl.disabled = true;  // To prevent multiple clicks.\n",
              "      quickchartButtonEl.classList.add('colab-df-spinner');\n",
              "      try {\n",
              "        const charts = await google.colab.kernel.invokeFunction(\n",
              "            'suggestCharts', [key], {});\n",
              "      } catch (error) {\n",
              "        console.error('Error during call to suggestCharts:', error);\n",
              "      }\n",
              "      quickchartButtonEl.classList.remove('colab-df-spinner');\n",
              "      quickchartButtonEl.classList.add('colab-df-quickchart-complete');\n",
              "    }\n",
              "    (() => {\n",
              "      let quickchartButtonEl =\n",
              "        document.querySelector('#df-5b422c3e-9cde-4a06-901f-76cb681d9e3d button');\n",
              "      quickchartButtonEl.style.display =\n",
              "        google.colab.kernel.accessAllowed ? 'block' : 'none';\n",
              "    })();\n",
              "  </script>\n",
              "</div>\n",
              "    </div>\n",
              "  </div>\n"
            ]
          },
          "metadata": {},
          "execution_count": 75
        }
      ]
    },
    {
      "cell_type": "code",
      "source": [
        "# Each user per each movie viewtime: pred_all_ratings[\"user_item_viewtime\"] = [\"1/user_rank\"] / [\"sum(1/user_rank)\"] * [\"user_total_viewtime\"]\n",
        "# these wordy codes are to reduce RAM consumption otherwise Colab may crush\n",
        "pred_ratings[\"1/user_rank\"] = 1/pred_ratings.groupby(\"user_num\")[\"pred_ratings\"].rank(method = \"min\", ascending = False)\n",
        "sum_inverse_user_rank = pred_ratings.groupby(\"user_num\")[\"1/user_rank\"].sum()\n",
        "sum_inverse_user_rank.name = \"sum(1/user_rank)\"\n",
        "pred_ratings = pd.merge(pred_ratings, sum_inverse_user_rank, left_on=\"user_num\", right_on=\"user_num\", how=\"left\")\n",
        "pred_ratings[\"user_item_viewtime\"] = pred_ratings[\"1/user_rank\"] / pred_ratings[\"sum(1/user_rank)\"] * pred_ratings[\"user_total_viewtime\"]"
      ],
      "metadata": {
        "id": "CGYUQOGETpJH"
      },
      "execution_count": 76,
      "outputs": []
    },
    {
      "cell_type": "code",
      "source": [
        "pred_ratings"
      ],
      "metadata": {
        "id": "kg-eRoQlH1JI",
        "colab": {
          "base_uri": "https://localhost:8080/",
          "height": 424
        },
        "outputId": "fe7ab037-d07c-4488-d1f1-9e54fb85b0b2"
      },
      "execution_count": 77,
      "outputs": [
        {
          "output_type": "execute_result",
          "data": {
            "text/plain": [
              "        user_num  item_num  pred_ratings  user_total_viewtime  1/user_rank  \\\n",
              "0           4168      2651      4.960825             0.004490     0.017857   \n",
              "1           4168       253      5.307714             0.004490     0.071429   \n",
              "2           4168      1106      4.825239             0.004490     0.012195   \n",
              "3           4168      1120      4.307283             0.004490     0.003861   \n",
              "4           4168       466      4.172567             0.004490     0.003165   \n",
              "...          ...       ...           ...                  ...          ...   \n",
              "999995      3411      2126      4.206456             0.000569     0.001789   \n",
              "999996      3411        67      4.597145             0.000569     0.003953   \n",
              "999997      3411      2614      4.727465             0.000569     0.005587   \n",
              "999998      3411      1608      3.845058             0.000569     0.001241   \n",
              "999999      3411       966      4.286191             0.000569     0.002037   \n",
              "\n",
              "        sum(1/user_rank)  user_item_viewtime  \n",
              "0               7.485471        1.071203e-05  \n",
              "1               7.485471        4.284810e-05  \n",
              "2               7.485471        7.315530e-06  \n",
              "3               7.485471        2.316114e-06  \n",
              "4               7.485471        1.898334e-06  \n",
              "...                  ...                 ...  \n",
              "999995          7.485471        1.358789e-07  \n",
              "999996          7.485471        3.002226e-07  \n",
              "999997          7.485471        4.243370e-07  \n",
              "999998          7.485471        9.423861e-08  \n",
              "999999          7.485471        1.546972e-07  \n",
              "\n",
              "[1000000 rows x 7 columns]"
            ],
            "text/html": [
              "\n",
              "  <div id=\"df-06c650f5-5551-4343-b1b3-9915de9bbc62\" class=\"colab-df-container\">\n",
              "    <div>\n",
              "<style scoped>\n",
              "    .dataframe tbody tr th:only-of-type {\n",
              "        vertical-align: middle;\n",
              "    }\n",
              "\n",
              "    .dataframe tbody tr th {\n",
              "        vertical-align: top;\n",
              "    }\n",
              "\n",
              "    .dataframe thead th {\n",
              "        text-align: right;\n",
              "    }\n",
              "</style>\n",
              "<table border=\"1\" class=\"dataframe\">\n",
              "  <thead>\n",
              "    <tr style=\"text-align: right;\">\n",
              "      <th></th>\n",
              "      <th>user_num</th>\n",
              "      <th>item_num</th>\n",
              "      <th>pred_ratings</th>\n",
              "      <th>user_total_viewtime</th>\n",
              "      <th>1/user_rank</th>\n",
              "      <th>sum(1/user_rank)</th>\n",
              "      <th>user_item_viewtime</th>\n",
              "    </tr>\n",
              "  </thead>\n",
              "  <tbody>\n",
              "    <tr>\n",
              "      <th>0</th>\n",
              "      <td>4168</td>\n",
              "      <td>2651</td>\n",
              "      <td>4.960825</td>\n",
              "      <td>0.004490</td>\n",
              "      <td>0.017857</td>\n",
              "      <td>7.485471</td>\n",
              "      <td>1.071203e-05</td>\n",
              "    </tr>\n",
              "    <tr>\n",
              "      <th>1</th>\n",
              "      <td>4168</td>\n",
              "      <td>253</td>\n",
              "      <td>5.307714</td>\n",
              "      <td>0.004490</td>\n",
              "      <td>0.071429</td>\n",
              "      <td>7.485471</td>\n",
              "      <td>4.284810e-05</td>\n",
              "    </tr>\n",
              "    <tr>\n",
              "      <th>2</th>\n",
              "      <td>4168</td>\n",
              "      <td>1106</td>\n",
              "      <td>4.825239</td>\n",
              "      <td>0.004490</td>\n",
              "      <td>0.012195</td>\n",
              "      <td>7.485471</td>\n",
              "      <td>7.315530e-06</td>\n",
              "    </tr>\n",
              "    <tr>\n",
              "      <th>3</th>\n",
              "      <td>4168</td>\n",
              "      <td>1120</td>\n",
              "      <td>4.307283</td>\n",
              "      <td>0.004490</td>\n",
              "      <td>0.003861</td>\n",
              "      <td>7.485471</td>\n",
              "      <td>2.316114e-06</td>\n",
              "    </tr>\n",
              "    <tr>\n",
              "      <th>4</th>\n",
              "      <td>4168</td>\n",
              "      <td>466</td>\n",
              "      <td>4.172567</td>\n",
              "      <td>0.004490</td>\n",
              "      <td>0.003165</td>\n",
              "      <td>7.485471</td>\n",
              "      <td>1.898334e-06</td>\n",
              "    </tr>\n",
              "    <tr>\n",
              "      <th>...</th>\n",
              "      <td>...</td>\n",
              "      <td>...</td>\n",
              "      <td>...</td>\n",
              "      <td>...</td>\n",
              "      <td>...</td>\n",
              "      <td>...</td>\n",
              "      <td>...</td>\n",
              "    </tr>\n",
              "    <tr>\n",
              "      <th>999995</th>\n",
              "      <td>3411</td>\n",
              "      <td>2126</td>\n",
              "      <td>4.206456</td>\n",
              "      <td>0.000569</td>\n",
              "      <td>0.001789</td>\n",
              "      <td>7.485471</td>\n",
              "      <td>1.358789e-07</td>\n",
              "    </tr>\n",
              "    <tr>\n",
              "      <th>999996</th>\n",
              "      <td>3411</td>\n",
              "      <td>67</td>\n",
              "      <td>4.597145</td>\n",
              "      <td>0.000569</td>\n",
              "      <td>0.003953</td>\n",
              "      <td>7.485471</td>\n",
              "      <td>3.002226e-07</td>\n",
              "    </tr>\n",
              "    <tr>\n",
              "      <th>999997</th>\n",
              "      <td>3411</td>\n",
              "      <td>2614</td>\n",
              "      <td>4.727465</td>\n",
              "      <td>0.000569</td>\n",
              "      <td>0.005587</td>\n",
              "      <td>7.485471</td>\n",
              "      <td>4.243370e-07</td>\n",
              "    </tr>\n",
              "    <tr>\n",
              "      <th>999998</th>\n",
              "      <td>3411</td>\n",
              "      <td>1608</td>\n",
              "      <td>3.845058</td>\n",
              "      <td>0.000569</td>\n",
              "      <td>0.001241</td>\n",
              "      <td>7.485471</td>\n",
              "      <td>9.423861e-08</td>\n",
              "    </tr>\n",
              "    <tr>\n",
              "      <th>999999</th>\n",
              "      <td>3411</td>\n",
              "      <td>966</td>\n",
              "      <td>4.286191</td>\n",
              "      <td>0.000569</td>\n",
              "      <td>0.002037</td>\n",
              "      <td>7.485471</td>\n",
              "      <td>1.546972e-07</td>\n",
              "    </tr>\n",
              "  </tbody>\n",
              "</table>\n",
              "<p>1000000 rows × 7 columns</p>\n",
              "</div>\n",
              "    <div class=\"colab-df-buttons\">\n",
              "\n",
              "  <div class=\"colab-df-container\">\n",
              "    <button class=\"colab-df-convert\" onclick=\"convertToInteractive('df-06c650f5-5551-4343-b1b3-9915de9bbc62')\"\n",
              "            title=\"Convert this dataframe to an interactive table.\"\n",
              "            style=\"display:none;\">\n",
              "\n",
              "  <svg xmlns=\"http://www.w3.org/2000/svg\" height=\"24px\" viewBox=\"0 -960 960 960\">\n",
              "    <path d=\"M120-120v-720h720v720H120Zm60-500h600v-160H180v160Zm220 220h160v-160H400v160Zm0 220h160v-160H400v160ZM180-400h160v-160H180v160Zm440 0h160v-160H620v160ZM180-180h160v-160H180v160Zm440 0h160v-160H620v160Z\"/>\n",
              "  </svg>\n",
              "    </button>\n",
              "\n",
              "  <style>\n",
              "    .colab-df-container {\n",
              "      display:flex;\n",
              "      gap: 12px;\n",
              "    }\n",
              "\n",
              "    .colab-df-convert {\n",
              "      background-color: #E8F0FE;\n",
              "      border: none;\n",
              "      border-radius: 50%;\n",
              "      cursor: pointer;\n",
              "      display: none;\n",
              "      fill: #1967D2;\n",
              "      height: 32px;\n",
              "      padding: 0 0 0 0;\n",
              "      width: 32px;\n",
              "    }\n",
              "\n",
              "    .colab-df-convert:hover {\n",
              "      background-color: #E2EBFA;\n",
              "      box-shadow: 0px 1px 2px rgba(60, 64, 67, 0.3), 0px 1px 3px 1px rgba(60, 64, 67, 0.15);\n",
              "      fill: #174EA6;\n",
              "    }\n",
              "\n",
              "    .colab-df-buttons div {\n",
              "      margin-bottom: 4px;\n",
              "    }\n",
              "\n",
              "    [theme=dark] .colab-df-convert {\n",
              "      background-color: #3B4455;\n",
              "      fill: #D2E3FC;\n",
              "    }\n",
              "\n",
              "    [theme=dark] .colab-df-convert:hover {\n",
              "      background-color: #434B5C;\n",
              "      box-shadow: 0px 1px 3px 1px rgba(0, 0, 0, 0.15);\n",
              "      filter: drop-shadow(0px 1px 2px rgba(0, 0, 0, 0.3));\n",
              "      fill: #FFFFFF;\n",
              "    }\n",
              "  </style>\n",
              "\n",
              "    <script>\n",
              "      const buttonEl =\n",
              "        document.querySelector('#df-06c650f5-5551-4343-b1b3-9915de9bbc62 button.colab-df-convert');\n",
              "      buttonEl.style.display =\n",
              "        google.colab.kernel.accessAllowed ? 'block' : 'none';\n",
              "\n",
              "      async function convertToInteractive(key) {\n",
              "        const element = document.querySelector('#df-06c650f5-5551-4343-b1b3-9915de9bbc62');\n",
              "        const dataTable =\n",
              "          await google.colab.kernel.invokeFunction('convertToInteractive',\n",
              "                                                    [key], {});\n",
              "        if (!dataTable) return;\n",
              "\n",
              "        const docLinkHtml = 'Like what you see? Visit the ' +\n",
              "          '<a target=\"_blank\" href=https://colab.research.google.com/notebooks/data_table.ipynb>data table notebook</a>'\n",
              "          + ' to learn more about interactive tables.';\n",
              "        element.innerHTML = '';\n",
              "        dataTable['output_type'] = 'display_data';\n",
              "        await google.colab.output.renderOutput(dataTable, element);\n",
              "        const docLink = document.createElement('div');\n",
              "        docLink.innerHTML = docLinkHtml;\n",
              "        element.appendChild(docLink);\n",
              "      }\n",
              "    </script>\n",
              "  </div>\n",
              "\n",
              "\n",
              "<div id=\"df-8672cd5a-b80b-451d-bf99-7d87b3ac86ef\">\n",
              "  <button class=\"colab-df-quickchart\" onclick=\"quickchart('df-8672cd5a-b80b-451d-bf99-7d87b3ac86ef')\"\n",
              "            title=\"Suggest charts\"\n",
              "            style=\"display:none;\">\n",
              "\n",
              "<svg xmlns=\"http://www.w3.org/2000/svg\" height=\"24px\"viewBox=\"0 0 24 24\"\n",
              "     width=\"24px\">\n",
              "    <g>\n",
              "        <path d=\"M19 3H5c-1.1 0-2 .9-2 2v14c0 1.1.9 2 2 2h14c1.1 0 2-.9 2-2V5c0-1.1-.9-2-2-2zM9 17H7v-7h2v7zm4 0h-2V7h2v10zm4 0h-2v-4h2v4z\"/>\n",
              "    </g>\n",
              "</svg>\n",
              "  </button>\n",
              "\n",
              "<style>\n",
              "  .colab-df-quickchart {\n",
              "      --bg-color: #E8F0FE;\n",
              "      --fill-color: #1967D2;\n",
              "      --hover-bg-color: #E2EBFA;\n",
              "      --hover-fill-color: #174EA6;\n",
              "      --disabled-fill-color: #AAA;\n",
              "      --disabled-bg-color: #DDD;\n",
              "  }\n",
              "\n",
              "  [theme=dark] .colab-df-quickchart {\n",
              "      --bg-color: #3B4455;\n",
              "      --fill-color: #D2E3FC;\n",
              "      --hover-bg-color: #434B5C;\n",
              "      --hover-fill-color: #FFFFFF;\n",
              "      --disabled-bg-color: #3B4455;\n",
              "      --disabled-fill-color: #666;\n",
              "  }\n",
              "\n",
              "  .colab-df-quickchart {\n",
              "    background-color: var(--bg-color);\n",
              "    border: none;\n",
              "    border-radius: 50%;\n",
              "    cursor: pointer;\n",
              "    display: none;\n",
              "    fill: var(--fill-color);\n",
              "    height: 32px;\n",
              "    padding: 0;\n",
              "    width: 32px;\n",
              "  }\n",
              "\n",
              "  .colab-df-quickchart:hover {\n",
              "    background-color: var(--hover-bg-color);\n",
              "    box-shadow: 0 1px 2px rgba(60, 64, 67, 0.3), 0 1px 3px 1px rgba(60, 64, 67, 0.15);\n",
              "    fill: var(--button-hover-fill-color);\n",
              "  }\n",
              "\n",
              "  .colab-df-quickchart-complete:disabled,\n",
              "  .colab-df-quickchart-complete:disabled:hover {\n",
              "    background-color: var(--disabled-bg-color);\n",
              "    fill: var(--disabled-fill-color);\n",
              "    box-shadow: none;\n",
              "  }\n",
              "\n",
              "  .colab-df-spinner {\n",
              "    border: 2px solid var(--fill-color);\n",
              "    border-color: transparent;\n",
              "    border-bottom-color: var(--fill-color);\n",
              "    animation:\n",
              "      spin 1s steps(1) infinite;\n",
              "  }\n",
              "\n",
              "  @keyframes spin {\n",
              "    0% {\n",
              "      border-color: transparent;\n",
              "      border-bottom-color: var(--fill-color);\n",
              "      border-left-color: var(--fill-color);\n",
              "    }\n",
              "    20% {\n",
              "      border-color: transparent;\n",
              "      border-left-color: var(--fill-color);\n",
              "      border-top-color: var(--fill-color);\n",
              "    }\n",
              "    30% {\n",
              "      border-color: transparent;\n",
              "      border-left-color: var(--fill-color);\n",
              "      border-top-color: var(--fill-color);\n",
              "      border-right-color: var(--fill-color);\n",
              "    }\n",
              "    40% {\n",
              "      border-color: transparent;\n",
              "      border-right-color: var(--fill-color);\n",
              "      border-top-color: var(--fill-color);\n",
              "    }\n",
              "    60% {\n",
              "      border-color: transparent;\n",
              "      border-right-color: var(--fill-color);\n",
              "    }\n",
              "    80% {\n",
              "      border-color: transparent;\n",
              "      border-right-color: var(--fill-color);\n",
              "      border-bottom-color: var(--fill-color);\n",
              "    }\n",
              "    90% {\n",
              "      border-color: transparent;\n",
              "      border-bottom-color: var(--fill-color);\n",
              "    }\n",
              "  }\n",
              "</style>\n",
              "\n",
              "  <script>\n",
              "    async function quickchart(key) {\n",
              "      const quickchartButtonEl =\n",
              "        document.querySelector('#' + key + ' button');\n",
              "      quickchartButtonEl.disabled = true;  // To prevent multiple clicks.\n",
              "      quickchartButtonEl.classList.add('colab-df-spinner');\n",
              "      try {\n",
              "        const charts = await google.colab.kernel.invokeFunction(\n",
              "            'suggestCharts', [key], {});\n",
              "      } catch (error) {\n",
              "        console.error('Error during call to suggestCharts:', error);\n",
              "      }\n",
              "      quickchartButtonEl.classList.remove('colab-df-spinner');\n",
              "      quickchartButtonEl.classList.add('colab-df-quickchart-complete');\n",
              "    }\n",
              "    (() => {\n",
              "      let quickchartButtonEl =\n",
              "        document.querySelector('#df-8672cd5a-b80b-451d-bf99-7d87b3ac86ef button');\n",
              "      quickchartButtonEl.style.display =\n",
              "        google.colab.kernel.accessAllowed ? 'block' : 'none';\n",
              "    })();\n",
              "  </script>\n",
              "</div>\n",
              "    </div>\n",
              "  </div>\n"
            ]
          },
          "metadata": {},
          "execution_count": 77
        }
      ]
    },
    {
      "cell_type": "code",
      "source": [
        "# sanity check: sum of user_item_viewtime == 1\n",
        "pred_ratings[\"user_item_viewtime\"].sum()"
      ],
      "metadata": {
        "id": "l9Ye6ePU0dPa",
        "colab": {
          "base_uri": "https://localhost:8080/"
        },
        "outputId": "e72cf145-52fc-4757-96f1-1a32593289da"
      },
      "execution_count": 78,
      "outputs": [
        {
          "output_type": "execute_result",
          "data": {
            "text/plain": [
              "1.0000000000000002"
            ]
          },
          "metadata": {},
          "execution_count": 78
        }
      ]
    },
    {
      "cell_type": "code",
      "source": [
        "# compute each movie's value\n",
        "budget =  1000000000\n",
        "#TODO: compute and store the values of movies based on pred_ratings\n",
        "movie_values = pred_ratings.groupby('item_num')['user_item_viewtime'].sum() * budget\n",
        "movie_values.name = \"item_value\"\n",
        "movie_values"
      ],
      "metadata": {
        "id": "-ixxWznAUDZG",
        "colab": {
          "base_uri": "https://localhost:8080/"
        },
        "outputId": "a65f781c-4604-4207-9c27-b40bb1185369"
      },
      "execution_count": 94,
      "outputs": [
        {
          "output_type": "execute_result",
          "data": {
            "text/plain": [
              "item_num\n",
              "0       6.562247e+06\n",
              "1       1.902561e+05\n",
              "2       1.796848e+05\n",
              "5       4.938404e+05\n",
              "6       2.330769e+05\n",
              "            ...     \n",
              "3664    7.740796e+05\n",
              "3669    2.216652e+06\n",
              "3680    2.861774e+05\n",
              "3701    4.036202e+05\n",
              "3705    4.527121e+05\n",
              "Name: item_value, Length: 1000, dtype: float64"
            ]
          },
          "metadata": {},
          "execution_count": 94
        }
      ]
    },
    {
      "cell_type": "code",
      "source": [
        "# replace item_num by item_name\n",
        "movie_values = movie_values.to_frame()\n",
        "movie_values[\"item_name\"] = [numitem_2_name[item_num] for item_num in movie_values.index]\n",
        "movie_values = movie_values.set_index(\"item_name\").squeeze(axis=1)"
      ],
      "metadata": {
        "id": "ENlg_2avaE3z"
      },
      "execution_count": 95,
      "outputs": []
    },
    {
      "cell_type": "code",
      "source": [
        "movie_values.head()"
      ],
      "metadata": {
        "id": "IL1koMbfIeFI",
        "colab": {
          "base_uri": "https://localhost:8080/"
        },
        "outputId": "87084b5f-fa89-4820-8437-eff66a211f7e"
      },
      "execution_count": 96,
      "outputs": [
        {
          "output_type": "execute_result",
          "data": {
            "text/plain": [
              "item_name\n",
              "Toy Story (1995)           6.562247e+06\n",
              "Jumanji (1995)             1.902561e+05\n",
              "Grumpier Old Men (1995)    1.796848e+05\n",
              "Heat (1995)                4.938404e+05\n",
              "Sabrina (1995)             2.330769e+05\n",
              "Name: item_value, dtype: float64"
            ]
          },
          "metadata": {},
          "execution_count": 96
        }
      ]
    },
    {
      "cell_type": "code",
      "source": [
        "# sanity check: sum of movie values == budget\n",
        "movie_values.sum() == budget"
      ],
      "metadata": {
        "id": "FHLauUJ6a1zj",
        "colab": {
          "base_uri": "https://localhost:8080/"
        },
        "outputId": "5c357d90-fb11-4fbc-bfa6-711b79ca45b7"
      },
      "execution_count": 97,
      "outputs": [
        {
          "output_type": "execute_result",
          "data": {
            "text/plain": [
              "True"
            ]
          },
          "metadata": {},
          "execution_count": 97
        }
      ]
    },
    {
      "cell_type": "markdown",
      "source": [
        "### Output the top valued movies"
      ],
      "metadata": {
        "id": "eXjfpVJN9YQB"
      }
    },
    {
      "cell_type": "markdown",
      "source": [
        "**Question**: Include your answer in the report.\n",
        "\n",
        "- What is your estimated value of *Toy Story (1995)*?\n",
        "\n",
        "- What are the top 10 mostly valued movies?\n"
      ],
      "metadata": {
        "id": "_WKrLtifm0Ex"
      }
    },
    {
      "cell_type": "code",
      "source": [
        "# your code\n",
        "movie_values['Toy Story (1995)']"
      ],
      "metadata": {
        "id": "XXzStOqsHy8H",
        "colab": {
          "base_uri": "https://localhost:8080/"
        },
        "outputId": "3c331ebf-986f-40d1-c4ad-c14100ead637"
      },
      "execution_count": 101,
      "outputs": [
        {
          "output_type": "execute_result",
          "data": {
            "text/plain": [
              "6562246.684263006"
            ]
          },
          "metadata": {},
          "execution_count": 101
        }
      ]
    },
    {
      "cell_type": "code",
      "source": [
        "movie_values.sort_values(ascending=False).head(10)"
      ],
      "metadata": {
        "colab": {
          "base_uri": "https://localhost:8080/"
        },
        "id": "Q2R8Wfz69Fiz",
        "outputId": "2e1b729c-6eb2-4f2f-dfa7-d8ee3398ea7b"
      },
      "execution_count": 106,
      "outputs": [
        {
          "output_type": "execute_result",
          "data": {
            "text/plain": [
              "item_name\n",
              "Raiders of the Lost Ark (1981)                                         2.191281e+07\n",
              "Godfather, The (1972)                                                  2.177588e+07\n",
              "Star Wars: Episode IV - A New Hope (1977)                              2.163124e+07\n",
              "Pulp Fiction (1994)                                                    1.772421e+07\n",
              "Schindler's List (1993)                                                1.631713e+07\n",
              "American Beauty (1999)                                                 1.541820e+07\n",
              "Casablanca (1942)                                                      1.535005e+07\n",
              "Fargo (1996)                                                           1.340163e+07\n",
              "Seven Samurai (The Magnificent Seven) (Shichinin no samurai) (1954)    1.322687e+07\n",
              "Citizen Kane (1941)                                                    1.224316e+07\n",
              "Name: item_value, dtype: float64"
            ]
          },
          "metadata": {},
          "execution_count": 106
        }
      ]
    },
    {
      "cell_type": "markdown",
      "source": [
        "\n",
        "### Compare the output with the mostly rated movies. Identify the discrepancies."
      ],
      "metadata": {
        "id": "qaBFvCq39cKw"
      }
    },
    {
      "cell_type": "markdown",
      "source": [
        "**Question**: Include your answers in your report.\n",
        "\n",
        "- What are the movies that are top 30 rated but not in top 30 valued?\n",
        "- What do you think about this approach of movie valuation? How does it compare with the approach based on the popularity of the movies?\n",
        "\n",
        "\n"
      ],
      "metadata": {
        "id": "2_yELRBXV8ds"
      }
    },
    {
      "cell_type": "code",
      "source": [
        "# your code\n",
        "top_value = movie_values.sort_values(ascending=False).head(30).index.tolist()\n",
        "temp_rate = sorted(result.items(), key=lambda item: item[1], reverse = True)[:30]\n",
        "top_rate = []\n",
        "for i in range(30):\n",
        "  top_rate.append(temp_rate[i][0])\n",
        "rate_only = [r for r in top_rate if r not in top_value]\n",
        "rate_only"
      ],
      "metadata": {
        "id": "PYsSkRlNjxsC",
        "colab": {
          "base_uri": "https://localhost:8080/"
        },
        "outputId": "28665f98-d6fb-4ab4-b7da-68f950606337"
      },
      "execution_count": 115,
      "outputs": [
        {
          "output_type": "execute_result",
          "data": {
            "text/plain": [
              "['Terminator, The (1984)',\n",
              " 'Lake Placid (1999)',\n",
              " 'Mission: Impossible 2 (2000)',\n",
              " 'Blade Runner (1982)',\n",
              " 'Jurassic Park (1993)',\n",
              " 'L.A. Confidential (1997)',\n",
              " 'World Is Not Enough, The (1999)',\n",
              " 'Mystery Men (1999)',\n",
              " 'Star Wars: Episode VI - Return of the Jedi (1983)',\n",
              " 'Space Cowboys (2000)',\n",
              " 'Entrapment (1999)',\n",
              " 'Mummy, The (1999)',\n",
              " 'Independence Day (ID4) (1996)',\n",
              " 'Mask, The (1994)',\n",
              " 'High Fidelity (2000)',\n",
              " '13th Warrior, The (1999)',\n",
              " 'Princess Bride, The (1987)',\n",
              " 'U-571 (2000)',\n",
              " 'Scary Movie (2000)',\n",
              " 'Men in Black (1997)',\n",
              " 'Starship Troopers (1997)',\n",
              " 'Star Wars: Episode I - The Phantom Menace (1999)',\n",
              " 'Die Hard (1988)']"
            ]
          },
          "metadata": {},
          "execution_count": 115
        }
      ]
    }
  ],
  "metadata": {
    "accelerator": "GPU",
    "colab": {
      "provenance": [],
      "gpuType": "T4",
      "machine_shape": "hm",
      "toc_visible": true
    },
    "kernelspec": {
      "display_name": "Python 3",
      "name": "python3"
    },
    "language_info": {
      "name": "python"
    }
  },
  "nbformat": 4,
  "nbformat_minor": 0
}